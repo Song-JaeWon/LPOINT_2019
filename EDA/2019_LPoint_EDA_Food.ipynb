{
 "cells": [
  {
   "cell_type": "code",
   "execution_count": 17,
   "metadata": {
    "ExecuteTime": {
     "end_time": "2020-01-07T21:49:24.719744Z",
     "start_time": "2020-01-07T21:49:24.691828Z"
    }
   },
   "outputs": [],
   "source": [
    "food_cat = [\"Vegetables\",\"Meats\",\"Substitute Foods\",\"Snack Foods\",\"Dairy Products\",\"Chilled Foods\",\"Frozen Foods\",\"Fruits\",\"Beverages\",\"Spices / Seasonings\",\n",
    "\"Canned / Jarred Foods\",\"Dried Sea Foods\",\"Sea Foods\",\"Grains\",\"Coffee / Tea\",\"Cooked Foods\",\"Health Foods\",\"Liquors / Alcoholic Beverages\"]"
   ]
  },
  {
   "cell_type": "code",
   "execution_count": 18,
   "metadata": {
    "ExecuteTime": {
     "end_time": "2020-01-07T21:49:26.384169Z",
     "start_time": "2020-01-07T21:49:26.368156Z"
    }
   },
   "outputs": [],
   "source": [
    "import pandas as pd\n",
    "import numpy as np\n",
    "import matplotlib.pyplot as plt\n",
    "import seaborn as sns\n",
    "\n",
    "import missingno as msno\n",
    "sns.set_style(\"darkgrid\")\n",
    "\n",
    "import matplotlib as mpl\n",
    "\n",
    "mpl.rcParams['axes.unicode_minus'] = False\n",
    "plt.rcParams[\"font.family\"] = \"Malgun Gothic\"\n",
    "plt.rcParams[\"font.size\"] = 10\n",
    "\n",
    "import plotly.graph_objects as go\n",
    "import plotly.express as px\n",
    "\n",
    "import pickle\n",
    "import os\n",
    "import gc"
   ]
  },
  {
   "cell_type": "code",
   "execution_count": 19,
   "metadata": {
    "ExecuteTime": {
     "end_time": "2020-01-07T21:49:29.195411Z",
     "start_time": "2020-01-07T21:49:29.139093Z"
    }
   },
   "outputs": [],
   "source": [
    "def resumetable(df):\n",
    "    print(f\"DataSet Shape : {df.shape}\")\n",
    "    summary = pd.DataFrame(df.dtypes, columns={'dtypes'})\n",
    "    summary = summary.reset_index()\n",
    "    summary[\"Name\"] = summary[\"index\"]\n",
    "    summary = summary[[\"Name\",\"dtypes\"]]\n",
    "    summary['Missing'] = df.isnull().sum().values\n",
    "    summary['Unique'] = df.nunique().values\n",
    "    summary['First Value'] = df.loc[0].values\n",
    "    summary['Second Value'] = df.loc[1].values\n",
    "    summary['Third Value'] = df.loc[2].values\n",
    "    \n",
    "    for name in summary['Name'].value_counts().index:\n",
    "        summary.loc[summary['Name'] == name, \"Entropy\"] = round(stats.entropy(df[name].value_counts(normalize = True), base=2),2)\n",
    "        \n",
    "    return summary\n",
    "\n",
    "def reduce_mem_usage(df, verbose=True):\n",
    "    numerics = ['int16', 'int32', 'int64', 'float16', 'float32', 'float64']\n",
    "    start_mem = df.memory_usage().sum() / 1024**2    \n",
    "    for col in df.columns:\n",
    "        col_type = df[col].dtypes\n",
    "        if col_type in numerics:\n",
    "            c_min = df[col].min()\n",
    "            c_max = df[col].max()\n",
    "            if str(col_type)[:3] == 'int':\n",
    "                if c_min > np.iinfo(np.int8).min and c_max < np.iinfo(np.int8).max:\n",
    "                    df[col] = df[col].astype(np.int8)\n",
    "                elif c_min > np.iinfo(np.int16).min and c_max < np.iinfo(np.int16).max:\n",
    "                    df[col] = df[col].astype(np.int16)\n",
    "                elif c_min > np.iinfo(np.int32).min and c_max < np.iinfo(np.int32).max:\n",
    "                    df[col] = df[col].astype(np.int32)\n",
    "                elif c_min > np.iinfo(np.int64).min and c_max < np.iinfo(np.int64).max:\n",
    "                    df[col] = df[col].astype(np.int64)  \n",
    "            else:\n",
    "                if c_min > np.finfo(np.float16).min and c_max < np.finfo(np.float16).max:\n",
    "                    df[col] = df[col].astype(np.float16)\n",
    "                elif c_min > np.finfo(np.float32).min and c_max < np.finfo(np.float32).max:\n",
    "                    df[col] = df[col].astype(np.float32)\n",
    "                else:\n",
    "                    df[col] = df[col].astype(np.float64)    \n",
    "    end_mem = df.memory_usage().sum() / 1024**2\n",
    "    if verbose: print('Mem. usage decreased to {:5.2f} Mb ({:.1f}% reduction)'.format(end_mem, 100 * (start_mem - end_mem) / start_mem))\n",
    "    return df\n",
    "\n",
    "from IPython.core.display import HTML\n",
    "\n",
    "def multi_table(table_list):\n",
    "    ''' Acceps a list of IpyTable objects and returns a table which contains each IpyTable in a cell\n",
    "    '''\n",
    "    return HTML(\n",
    "        '<table><tr style=\"background-color:white;\">' + \n",
    "        ''.join(['<td>' + table._repr_html_() + '</td>' for table in table_list]) +\n",
    "        '</tr></table>'\n",
    "    )"
   ]
  },
  {
   "cell_type": "code",
   "execution_count": 5,
   "metadata": {
    "ExecuteTime": {
     "end_time": "2020-01-07T14:40:51.289013Z",
     "start_time": "2020-01-07T14:40:51.280901Z"
    }
   },
   "outputs": [],
   "source": [
    "os.chdir(\"./제6회 L.POINT Big Data Competition/\")"
   ]
  },
  {
   "cell_type": "code",
   "execution_count": 6,
   "metadata": {
    "ExecuteTime": {
     "end_time": "2020-01-07T14:41:03.030943Z",
     "start_time": "2020-01-07T14:40:52.403694Z"
    }
   },
   "outputs": [
    {
     "name": "stdout",
     "output_type": "stream",
     "text": [
      "Mem. usage decreased to 399.14 Mb (46.7% reduction)\n"
     ]
    }
   ],
   "source": [
    "online_df = pd.read_csv(\"clear_merged_online_df.csv\")\n",
    "online_df = reduce_mem_usage(online_df)"
   ]
  },
  {
   "cell_type": "code",
   "execution_count": 7,
   "metadata": {
    "ExecuteTime": {
     "end_time": "2020-01-07T14:41:05.109191Z",
     "start_time": "2020-01-07T14:41:04.326642Z"
    }
   },
   "outputs": [],
   "source": [
    "#전체기간 소분류별 총 판매량\n",
    "\n",
    "food_df = online_df[online_df.clac_nm1.isin(food_cat)].reset_index()\n",
    "food_sales = pd.get_dummies(food_df[[\"clac_nm3\"]],).sum().reset_index(name = \"sales\").rename(columns={\"index\" : \"clac_nm3\"})\n",
    "food_sales.loc[:,\"clac_nm3\"] = sorted(food_df.clac_nm3.dropna().unique().tolist())\n",
    "\n",
    "totsales_clac_nm3 = food_sales"
   ]
  },
  {
   "cell_type": "code",
   "execution_count": 14,
   "metadata": {
    "ExecuteTime": {
     "end_time": "2020-01-06T12:18:49.499626Z",
     "start_time": "2020-01-06T12:18:49.134446Z"
    }
   },
   "outputs": [],
   "source": [
    "cat3_to_cat1 = online_df[[\"clac_nm1\",\"clac_nm3\"]].dropna().drop_duplicates([\"clac_nm1\",\"clac_nm3\"], keep =\"first\").set_index(\"clac_nm3\").to_dict().get(\"clac_nm1\")"
   ]
  },
  {
   "cell_type": "code",
   "execution_count": 15,
   "metadata": {
    "ExecuteTime": {
     "end_time": "2020-01-06T12:18:49.862013Z",
     "start_time": "2020-01-06T12:18:49.500591Z"
    }
   },
   "outputs": [],
   "source": [
    "cat2_to_cat1 = online_df[[\"clac_nm1\",\"clac_nm2\"]].dropna().drop_duplicates([\"clac_nm1\",\"clac_nm2\"], keep =\"first\").set_index(\"clac_nm2\").to_dict().get(\"clac_nm1\")"
   ]
  },
  {
   "cell_type": "code",
   "execution_count": 57,
   "metadata": {
    "ExecuteTime": {
     "end_time": "2020-01-04T05:29:59.957917Z",
     "start_time": "2020-01-04T05:29:59.953926Z"
    }
   },
   "outputs": [],
   "source": [
    "totsales_clac_nm3[\"clac_nm1\"] = totsales_clac_nm3.clac_nm3.map(cat3_to_cat1)"
   ]
  },
  {
   "cell_type": "code",
   "execution_count": 49,
   "metadata": {
    "ExecuteTime": {
     "end_time": "2020-01-04T05:24:23.561638Z",
     "start_time": "2020-01-04T05:24:23.324107Z"
    }
   },
   "outputs": [],
   "source": [
    "#전체기간 중분류별 총 판매량\n",
    "\n",
    "food_df = online_df[online_df.clac_nm1.isin(food_cat)].reset_index()\n",
    "food_sales = pd.get_dummies(food_df[[\"clac_nm2\"]],).sum().reset_index(name = \"sales\").rename(columns={\"index\" : \"clac_nm2\"})\n",
    "food_sales.loc[:,\"clac_nm2\"] = sorted(food_df.clac_nm2.dropna().unique().tolist())\n",
    "\n",
    "totsales_clac_nm2 = food_sales"
   ]
  },
  {
   "cell_type": "code",
   "execution_count": 51,
   "metadata": {
    "ExecuteTime": {
     "end_time": "2020-01-04T05:25:25.562538Z",
     "start_time": "2020-01-04T05:25:25.559548Z"
    }
   },
   "outputs": [],
   "source": [
    "#2. 음식 카테고리 구매한 사람들의 쇼핑 패턴(순차패턴분석/ 각 행동유형 별 비중/ 접속 시간대/ 구매 시간대 / 머문 시간)"
   ]
  },
  {
   "cell_type": "code",
   "execution_count": null,
   "metadata": {},
   "outputs": [],
   "source": []
  },
  {
   "cell_type": "markdown",
   "metadata": {},
   "source": [
    "필요한 분석 list  \n",
    "\n",
    "* 거시적인 변화\n",
    "    1. 시간에 따른 음식 전체 구매율 변화(3달치)\n",
    "    2. 시간에 따른 음식 전체 접속율 변화(3달치) #음식카테고리 구매 사람들 한하여 접속률 변화 \n",
    "\n",
    "* 거시적 접속율 파악\n",
    "    1. 음식 카테고리 요일별 접속율\n",
    "    2. 음식 카테고리 시간별 접속율 \n",
    "    3. 음식 카테고리 전체 접속기기 분포\n",
    "    4. 음식 카테고리 시간별 접속기기 분포\n",
    "    5. 음식 카테고리 요일별 접속기기 분포 \n",
    "\n",
    "* 거시적 구매율 파악\n",
    "    1. 음식 카테고리 요일별 구매율\n",
    "    2. 음식 카테고리 시간별 구매율 \n",
    "\n",
    "* 각 카테고리별 탐색\n",
    "    1. 음식 카테고리 안에서 각 중/소분류별 구매율\n",
    "    2. 음식 카테고리 안에서 각 중/소분류별 접속율"
   ]
  },
  {
   "cell_type": "markdown",
   "metadata": {},
   "source": [
    "##  시간에 따른 음식카테고리 전체 구매율 변화"
   ]
  },
  {
   "cell_type": "code",
   "execution_count": 20,
   "metadata": {
    "ExecuteTime": {
     "end_time": "2020-01-07T21:49:42.027241Z",
     "start_time": "2020-01-07T21:49:41.107846Z"
    }
   },
   "outputs": [],
   "source": [
    "#시간별 총 session_id 갯수\n",
    "unique_sess_id_per_hour = online_df.drop_duplicates([\"clnt_id\",\"sess_id\",\"month\",\"day\",\"hour\"], keep = \"first\").groupby(\"hour\").size().reset_index().rename(columns = {0 : 'tot_counts'})"
   ]
  },
  {
   "cell_type": "code",
   "execution_count": 140,
   "metadata": {
    "ExecuteTime": {
     "end_time": "2020-01-04T07:53:52.247728Z",
     "start_time": "2020-01-04T07:53:51.778018Z"
    }
   },
   "outputs": [],
   "source": [
    "unique_sess_id_per_hour = online_df.drop_duplicates([\"clnt_id\",\"sess_id\",\"month\",\"day\",\"hour\"], keep = \"first\").groupby([\"hour\",\"dvc_ctg_nm\"]).size().reset_index().rename(columns = {0 : 'tot_counts'})"
   ]
  },
  {
   "cell_type": "code",
   "execution_count": 151,
   "metadata": {
    "ExecuteTime": {
     "end_time": "2020-01-04T07:57:42.948127Z",
     "start_time": "2020-01-04T07:57:42.943143Z"
    }
   },
   "outputs": [],
   "source": [
    "unique_sess_id_per_hour = unique_sess_id_per_hour.sort_values(by = [\"dvc_ctg_nm\",\"hour\"], ascending = [1,1]).reset_index(drop = True)"
   ]
  },
  {
   "cell_type": "code",
   "execution_count": null,
   "metadata": {},
   "outputs": [],
   "source": []
  },
  {
   "cell_type": "markdown",
   "metadata": {
    "ExecuteTime": {
     "end_time": "2020-01-05T03:35:55.823447Z",
     "start_time": "2020-01-05T03:35:55.819460Z"
    }
   },
   "source": [
    "### 요일별 구매율 & 시간별 구매율 ( 전체 & 음식 )"
   ]
  },
  {
   "cell_type": "code",
   "execution_count": 135,
   "metadata": {
    "ExecuteTime": {
     "end_time": "2020-01-05T03:36:25.199661Z",
     "start_time": "2020-01-05T03:36:25.184037Z"
    }
   },
   "outputs": [],
   "source": [
    "# 요일별 구매율"
   ]
  },
  {
   "cell_type": "code",
   "execution_count": 21,
   "metadata": {
    "ExecuteTime": {
     "end_time": "2020-01-07T21:49:45.813781Z",
     "start_time": "2020-01-07T21:49:45.456137Z"
    }
   },
   "outputs": [],
   "source": [
    "hour_sale = online_df[online_df.action_type==6].drop_duplicates([\"sess_id\",\"clnt_id\"], keep = \"first\").groupby([\"hour\"]).size().reset_index(name = \"tot_sales\")\n",
    "hour_sess = online_df.drop_duplicates([\"clnt_id\",\"sess_id\"] , keep = \"first\").groupby([\"hour\"]).size().reset_index(name = \"tot_sess\")\n",
    "hour_sale = hour_sale.merge(hour_sess)\n",
    "hour_sale[\"purc_rate\"] = np.round(hour_sale.tot_sales / hour_sale.tot_sess, 4) * 100"
   ]
  },
  {
   "cell_type": "code",
   "execution_count": 22,
   "metadata": {
    "ExecuteTime": {
     "end_time": "2020-01-07T21:49:47.342329Z",
     "start_time": "2020-01-07T21:49:46.976063Z"
    }
   },
   "outputs": [],
   "source": [
    "weekday_sale = online_df[online_df.action_type==6].drop_duplicates([\"sess_id\",\"clnt_id\"], keep = \"first\").groupby([\"weekday\"]).size().reset_index(name = \"tot_sales\")\n",
    "weekday_sess = online_df.drop_duplicates([\"clnt_id\",\"sess_id\"] , keep = \"first\").groupby([\"weekday\"]).size().reset_index(name = \"tot_sess\")\n",
    "weekday_sale = weekday_sale.merge(weekday_sess)\n",
    "weekday_sale[\"purc_rate\"] = np.round(weekday_sale.tot_sales / weekday_sale.tot_sess,4) * 100"
   ]
  },
  {
   "cell_type": "code",
   "execution_count": 23,
   "metadata": {
    "ExecuteTime": {
     "end_time": "2020-01-07T21:49:48.619682Z",
     "start_time": "2020-01-07T21:49:48.615685Z"
    }
   },
   "outputs": [],
   "source": [
    "# hour_sale"
   ]
  },
  {
   "cell_type": "code",
   "execution_count": 24,
   "metadata": {
    "ExecuteTime": {
     "end_time": "2020-01-07T21:49:50.173605Z",
     "start_time": "2020-01-07T21:49:49.798107Z"
    }
   },
   "outputs": [
    {
     "data": {
      "text/plain": [
       "Text(0.5, 1.0, '요일별 구매율')"
      ]
     },
     "execution_count": 24,
     "metadata": {},
     "output_type": "execute_result"
    },
    {
     "data": {
      "image/png": "[encoded data removed]",
      "text/plain": [
       "<Figure size 864x720 with 2 Axes>"
      ]
     },
     "metadata": {},
     "output_type": "display_data"
    }
   ],
   "source": [
    "fig,ax = plt.subplots(nrows=2 , figsize = (12,10))\n",
    "sns.pointplot(x = hour_sale.hour, y=hour_sale.purc_rate, ax = ax[0], color = \"blue\")\n",
    "sns.pointplot(x = weekday_sale.weekday, y=weekday_sale.purc_rate, ax = ax[1], color = \"red\")\n",
    "ax[0].set_title(\"시간별 구매율\", fontsize = 16)\n",
    "ax[1].set_title(\"요일별 구매율\", fontsize = 16)"
   ]
  },
  {
   "cell_type": "code",
   "execution_count": 25,
   "metadata": {
    "ExecuteTime": {
     "end_time": "2020-01-07T21:49:51.353192Z",
     "start_time": "2020-01-07T21:49:51.349166Z"
    }
   },
   "outputs": [],
   "source": [
    "#음식"
   ]
  },
  {
   "cell_type": "code",
   "execution_count": 28,
   "metadata": {
    "ExecuteTime": {
     "end_time": "2020-01-07T21:50:11.229875Z",
     "start_time": "2020-01-07T21:50:10.637121Z"
    }
   },
   "outputs": [],
   "source": [
    "hour_sale_food = food_df[food_df.action_type==6].drop_duplicates([\"sess_id\",\"clnt_id\"], keep = \"first\").groupby([\"hour\"]).size().reset_index(name = \"tot_sales\")\n",
    "hour_sess = online_df.drop_duplicates([\"clnt_id\",\"sess_id\"] , keep = \"first\").groupby([\"hour\"]).size().reset_index(name = \"tot_sess\")\n",
    "hour_sale_food = hour_sale_food.merge(hour_sess)\n",
    "hour_sale_food[\"purc_rate\"] = np.round(hour_sale_food.tot_sales / hour_sale_food.tot_sess, 4) * 100\n",
    "\n",
    "weekday_sale_food = food_df[food_df.action_type==6].drop_duplicates([\"sess_id\",\"clnt_id\"], keep = \"first\").groupby([\"weekday\"]).size().reset_index(name = \"tot_sales\")\n",
    "weekday_sess = online_df.drop_duplicates([\"clnt_id\",\"sess_id\"] , keep = \"first\").groupby([\"weekday\"]).size().reset_index(name = \"tot_sess\")\n",
    "weekday_sale_food = weekday_sale_food.merge(weekday_sess)\n",
    "weekday_sale_food[\"purc_rate\"] = np.round(weekday_sale_food.tot_sales / weekday_sale_food.tot_sess,4) * 100"
   ]
  },
  {
   "cell_type": "code",
   "execution_count": 193,
   "metadata": {
    "ExecuteTime": {
     "end_time": "2020-01-05T04:42:41.760766Z",
     "start_time": "2020-01-05T04:42:41.685848Z"
    }
   },
   "outputs": [],
   "source": [
    "hour_sale_food = food_df.groupby([\"hour\"]).size().reset_index(name = \"food_sales\")\n",
    "hour_tot_sales = online_df[online_df.action_type==6].groupby([\"hour\"]).size().reset_index(name = \"tot_sales\")\n",
    "hour_sale_food = hour_sale_food.merge(hour_tot_sales)\n",
    "hour_sale_food[\"purc_rate\"] = np.round(hour_sale_food.food_sales / hour_sale_food.tot_sales, 4) * 100"
   ]
  },
  {
   "cell_type": "code",
   "execution_count": null,
   "metadata": {},
   "outputs": [],
   "source": [
    "fig,ax = plt.subplots(nrows=2 , figsize = (12,10))\n",
    "sns.pointplot(x = hour_sale_food.hour, y=hour_sale_food.purc_rate, ax = ax[0], color = \"blue\")\n",
    "sns.pointplot(x = weekday_sale_food.weekday, y=weekday_sale_food.purc_rate, ax = ax[1], color = \"red\")\n",
    "ax[0].set_title(\"시간별 구매율 - 음식\", fontsize = 16)\n",
    "ax[1].set_title(\"요일별 구매율 - 음식\", fontsize = 16)"
   ]
  },
  {
   "cell_type": "code",
   "execution_count": 34,
   "metadata": {
    "ExecuteTime": {
     "end_time": "2020-01-07T21:53:11.858101Z",
     "start_time": "2020-01-07T21:53:11.789940Z"
    }
   },
   "outputs": [],
   "source": [
    "hour_sale_food = food_df.groupby([\"hour\"]).size().reset_index(name = \"food_sales\")\n",
    "hour_tot_sales = online_df[online_df.action_type==6].groupby([\"hour\"]).size().reset_index(name = \"tot_sales\")\n",
    "hour_sale_food = hour_sale_food.merge(hour_tot_sales)\n",
    "hour_sale_food[\"purc_rate\"] = np.round(hour_sale_food.food_sales / hour_sale_food.tot_sales, 4) * 100"
   ]
  },
  {
   "cell_type": "code",
   "execution_count": 35,
   "metadata": {
    "ExecuteTime": {
     "end_time": "2020-01-07T21:53:13.269477Z",
     "start_time": "2020-01-07T21:53:13.209558Z"
    }
   },
   "outputs": [],
   "source": [
    "weekday_sale_food = food_df.groupby([\"weekday\"]).size().reset_index(name = \"food_sales\")\n",
    "weekday_tot_sales = online_df[online_df.action_type==6].groupby([\"weekday\"]).size().reset_index(name = \"tot_sales\")\n",
    "weekday_sale_food = weekday_sale_food.merge(weekday_tot_sales)\n",
    "weekday_sale_food[\"purc_rate\"] = np.round(weekday_sale_food.food_sales / weekday_sale_food.tot_sales, 4) * 100"
   ]
  },
  {
   "cell_type": "code",
   "execution_count": 39,
   "metadata": {
    "ExecuteTime": {
     "end_time": "2020-01-07T21:54:46.423902Z",
     "start_time": "2020-01-07T21:54:46.091525Z"
    }
   },
   "outputs": [
    {
     "data": {
      "text/plain": [
       "(0, 80)"
      ]
     },
     "execution_count": 39,
     "metadata": {},
     "output_type": "execute_result"
    },
    {
     "data": {
      "image/png": "[encoded data removed]",
      "text/plain": [
       "<Figure size 864x720 with 2 Axes>"
      ]
     },
     "metadata": {},
     "output_type": "display_data"
    }
   ],
   "source": [
    "fig,ax = plt.subplots(nrows=2 , figsize = (12,10))\n",
    "sns.pointplot(x = hour_sale_food.hour, y=hour_sale_food.purc_rate, ax = ax[0], color = \"blue\")\n",
    "sns.pointplot(x = weekday_sale_food.weekday, y=weekday_sale_food.purc_rate, ax = ax[1], color = \"red\")\n",
    "ax[0].set_title(\"시간별 전체 판매량 대비 음식 판매량 비율\", fontsize = 16)\n",
    "ax[1].set_title(\"요일별 전체 판매량 대비 음식 판매량 비율\", fontsize = 16)\n",
    "ax[1].set_ylim(0,80)"
   ]
  },
  {
   "cell_type": "code",
   "execution_count": null,
   "metadata": {},
   "outputs": [],
   "source": []
  },
  {
   "cell_type": "code",
   "execution_count": 38,
   "metadata": {
    "ExecuteTime": {
     "end_time": "2020-01-07T21:53:32.841998Z",
     "start_time": "2020-01-07T21:53:32.778239Z"
    }
   },
   "outputs": [
    {
     "data": {
      "text/plain": [
       "index                  0\n",
       "clnt_id                0\n",
       "sess_id                0\n",
       "hit_seq                0\n",
       "action_type            0\n",
       "biz_unit               0\n",
       "sess_dt                0\n",
       "hit_tm                 0\n",
       "hit_pss_tm             0\n",
       "trans_id               0\n",
       "sech_kwd           76585\n",
       "tot_pag_view_ct        0\n",
       "tot_sess_hr_v          0\n",
       "trfc_src               0\n",
       "dvc_ctg_nm             0\n",
       "time                   0\n",
       "year                   0\n",
       "month                  0\n",
       "day                    0\n",
       "weekday                0\n",
       "hour                   0\n",
       "min                    0\n",
       "trans_seq              0\n",
       "pd_c                   0\n",
       "buy_am                 0\n",
       "buy_ct                 0\n",
       "clnt_gender            0\n",
       "clnt_age               0\n",
       "clac_nm1               0\n",
       "clac_nm2               0\n",
       "clac_nm3               5\n",
       "dtype: int64"
      ]
     },
     "execution_count": 38,
     "metadata": {},
     "output_type": "execute_result"
    }
   ],
   "source": []
  },
  {
   "cell_type": "code",
   "execution_count": null,
   "metadata": {},
   "outputs": [],
   "source": []
  },
  {
   "cell_type": "markdown",
   "metadata": {},
   "source": [
    "### +접속기기 "
   ]
  },
  {
   "cell_type": "code",
   "execution_count": 152,
   "metadata": {
    "ExecuteTime": {
     "end_time": "2020-01-04T07:57:44.623689Z",
     "start_time": "2020-01-04T07:57:44.470060Z"
    }
   },
   "outputs": [],
   "source": [
    "sub_mobile_web = food_df[food_df.dvc_ctg_nm == \"mobile_web\"]\n",
    "sub_mobile_app = food_df[food_df.dvc_ctg_nm == \"mobile_app\"]\n",
    "sub_PC = food_df[food_df.dvc_ctg_nm == \"PC\"]\n",
    "sub_unknown = food_df[food_df.dvc_ctg_nm == \"unknown\"]"
   ]
  },
  {
   "cell_type": "code",
   "execution_count": 153,
   "metadata": {
    "ExecuteTime": {
     "end_time": "2020-01-04T07:57:45.330020Z",
     "start_time": "2020-01-04T07:57:45.284133Z"
    }
   },
   "outputs": [],
   "source": [
    "#시간대별 구매이력이 있는 session_id수\n",
    "unique_purchase_id_per_hour_mobile_web = sub_mobile_web[sub_mobile_web.action_type==6].groupby([\"clnt_id\",\"sess_id\",'hour']).size().reset_index().groupby([\"hour\"]).size().reset_index(name = \"purc_counts\")\n",
    "\n",
    "#시간대별 구매이력이 있는 session_id수\n",
    "unique_purchase_id_per_hour_mobile_app = sub_mobile_app[sub_mobile_app.action_type==6].groupby([\"clnt_id\",\"sess_id\",'hour']).size().reset_index().groupby([\"hour\"]).size().reset_index(name = \"purc_counts\")\n",
    "\n",
    "#시간대별 구매이력이 있는 session_id수\n",
    "unique_purchase_id_per_hour_PC = sub_PC[sub_PC.action_type==6].groupby([\"clnt_id\",\"sess_id\",'hour']).size().reset_index().groupby([\"hour\"]).size().reset_index(name = \"purc_counts\")\n",
    "\n",
    "#시간대별 구매이력이 있는 session_id수\n",
    "unique_purchase_id_per_hour_unknown = sub_unknown[sub_unknown.action_type==6].groupby([\"clnt_id\",\"sess_id\",'hour']).size().reset_index().groupby([\"hour\"]).size().reset_index(name = \"purc_counts\")"
   ]
  },
  {
   "cell_type": "code",
   "execution_count": 154,
   "metadata": {
    "ExecuteTime": {
     "end_time": "2020-01-04T07:57:46.074432Z",
     "start_time": "2020-01-04T07:57:46.048458Z"
    }
   },
   "outputs": [],
   "source": [
    "purchase_rate_mobile_web = unique_sess_id_per_hour[unique_sess_id_per_hour.dvc_ctg_nm == \"mobile_web\"].merge(unique_purchase_id_per_hour_mobile_web)\n",
    "purchase_rate_mobile_web[\"purc_rate\"] = np.round(purchase_rate_mobile_web.purc_counts / purchase_rate_mobile_web.tot_counts * 100,2)\n",
    "\n",
    "purchase_rate_mobile_app = unique_sess_id_per_hour[unique_sess_id_per_hour.dvc_ctg_nm == \"mobile_app\"].merge(unique_purchase_id_per_hour_mobile_app)\n",
    "purchase_rate_mobile_app[\"purc_rate\"] = np.round(purchase_rate_mobile_app.purc_counts / purchase_rate_mobile_app.tot_counts * 100,2)\n",
    "\n",
    "purchase_rate_PC = unique_sess_id_per_hour[unique_sess_id_per_hour.dvc_ctg_nm == \"PC\"].merge(unique_purchase_id_per_hour_PC)\n",
    "purchase_rate_PC[\"purc_rate\"] = np.round(purchase_rate_PC.purc_counts / purchase_rate_PC.tot_counts * 100,2)\n",
    "\n",
    "purchase_rate_unknown = unique_sess_id_per_hour[unique_sess_id_per_hour.dvc_ctg_nm == \"unknown\"].merge(unique_purchase_id_per_hour_unknown)\n",
    "purchase_rate_unknown[\"purc_rate\"] = np.round(purchase_rate_unknown.purc_counts / purchase_rate_unknown.tot_counts * 100,2)\n",
    "\n",
    "purchase_rate_mobile_web[\"device\"] = \"mobile_web\"\n",
    "purchase_rate_mobile_app[\"device\"] = \"mobile_app\"\n",
    "purchase_rate_PC[\"device\"] = \"PC\"\n",
    "purchase_rate_unknown[\"device\"] = \"unknown\""
   ]
  },
  {
   "cell_type": "code",
   "execution_count": 155,
   "metadata": {
    "ExecuteTime": {
     "end_time": "2020-01-04T07:57:46.958027Z",
     "start_time": "2020-01-04T07:57:46.949052Z"
    }
   },
   "outputs": [],
   "source": [
    "purchase_rate_by_dvc = pd.concat([purchase_rate_mobile_web, purchase_rate_mobile_app, purchase_rate_PC, purchase_rate_unknown]).reset_index(drop = True)"
   ]
  },
  {
   "cell_type": "code",
   "execution_count": 1,
   "metadata": {
    "ExecuteTime": {
     "end_time": "2020-01-08T03:40:37.294776Z",
     "start_time": "2020-01-08T03:40:37.282744Z"
    }
   },
   "outputs": [
    {
     "data": {
      "text/plain": [
       "'plt.figure(figsize = (16,6))\\nsns.pointplot(x = \"hour\", y = \"purc_rate\", hue = \"device\", data = purchase_rate_by_dvc)\\nplt.title(\"접속기기 + 시간별 음식카테고리 구매율\", fontsize = 20)'"
      ]
     },
     "execution_count": 1,
     "metadata": {},
     "output_type": "execute_result"
    }
   ],
   "source": [
    "\"\"\"plt.figure(figsize = (16,6))\n",
    "sns.pointplot(x = \"hour\", y = \"purc_rate\", hue = \"device\", data = purchase_rate_by_dvc)\n",
    "plt.title(\"접속기기 + 시간별 음식카테고리 구매율\", fontsize = 20)\"\"\""
   ]
  },
  {
   "cell_type": "markdown",
   "metadata": {},
   "source": [
    "#### 접속기기 + 요일"
   ]
  },
  {
   "cell_type": "code",
   "execution_count": 111,
   "metadata": {
    "ExecuteTime": {
     "end_time": "2020-01-04T07:44:43.486379Z",
     "start_time": "2020-01-04T07:44:43.017506Z"
    }
   },
   "outputs": [],
   "source": [
    "#시간별 총 session_id 갯수\n",
    "unique_sess_id_per_hour = online_df.drop_duplicates([\"clnt_id\",\"sess_id\",\"month\",\"day\",\"hour\"], keep = \"first\").groupby([\"weekday\",\"hour\"]).size().reset_index(name = \"tot_counts\")"
   ]
  },
  {
   "cell_type": "code",
   "execution_count": 283,
   "metadata": {
    "ExecuteTime": {
     "end_time": "2020-01-04T10:12:18.628137Z",
     "start_time": "2020-01-04T10:12:10.446322Z"
    }
   },
   "outputs": [],
   "source": [
    "unique_sess_id_per_hour = online_df.drop_duplicates([\"clnt_id\",\"sess_id\",\"dvc_ctg_nm\"], keep = \"first\").groupby([\"dvc_ctg_nm\",\"weekday\",\"hour\"]).size().reset_index(name = \"tot_counts\")"
   ]
  },
  {
   "cell_type": "code",
   "execution_count": 284,
   "metadata": {
    "ExecuteTime": {
     "end_time": "2020-01-04T10:12:26.950611Z",
     "start_time": "2020-01-04T10:12:26.890563Z"
    }
   },
   "outputs": [],
   "source": [
    "#시간대별 구매이력이 있는 session_id수\n",
    "unique_purchase_id_per_hour_mobile_web = sub_mobile_web[sub_mobile_web.action_type==6].groupby([\"clnt_id\",\"sess_id\",\"weekday\",\"hour\"]).size().reset_index().groupby([\"weekday\",\"hour\"]).size().reset_index(name = \"purc_counts\")\n",
    "\n",
    "#시간대별 구매이력이 있는 session_id수\n",
    "unique_purchase_id_per_hour_mobile_app = sub_mobile_app[sub_mobile_app.action_type==6].groupby([\"clnt_id\",\"sess_id\",\"weekday\",\"hour\"]).size().reset_index().groupby([\"weekday\",\"hour\"]).size().reset_index(name = \"purc_counts\")\n",
    "\n",
    "#시간대별 구매이력이 있는 session_id수\n",
    "unique_purchase_id_per_hour_PC = sub_PC[sub_PC.action_type==6].groupby([\"clnt_id\",\"sess_id\",\"weekday\",\"hour\"]).size().reset_index().groupby([\"weekday\",\"hour\"]).size().reset_index(name = \"purc_counts\")\n",
    "\n",
    "#시간대별 구매이력이 있는 session_id수\n",
    "unique_purchase_id_per_hour_unknown = sub_unknown[sub_unknown.action_type==6].groupby([\"clnt_id\",\"sess_id\",\"weekday\",\"hour\"]).size().reset_index().groupby([\"weekday\",\"hour\"]).size().reset_index(name = \"purc_counts\")"
   ]
  },
  {
   "cell_type": "code",
   "execution_count": 285,
   "metadata": {
    "ExecuteTime": {
     "end_time": "2020-01-04T10:12:34.131117Z",
     "start_time": "2020-01-04T10:12:34.091154Z"
    }
   },
   "outputs": [],
   "source": [
    "purchase_rate_mobile_web = unique_sess_id_per_hour[unique_sess_id_per_hour.dvc_ctg_nm == \"mobile_web\"].merge(unique_purchase_id_per_hour_mobile_web, on = [\"weekday\",\"hour\"])\n",
    "purchase_rate_mobile_web[\"purc_rate\"] = np.round(purchase_rate_mobile_web.purc_counts / purchase_rate_mobile_web.tot_counts * 100,2)\n",
    "\n",
    "purchase_rate_mobile_app = unique_sess_id_per_hour[unique_sess_id_per_hour.dvc_ctg_nm == \"mobile_app\"].merge(unique_purchase_id_per_hour_mobile_app, on = [\"weekday\",\"hour\"])\n",
    "purchase_rate_mobile_app[\"purc_rate\"] = np.round(purchase_rate_mobile_app.purc_counts / purchase_rate_mobile_app.tot_counts * 100,2)\n",
    "\n",
    "purchase_rate_PC = unique_sess_id_per_hour[unique_sess_id_per_hour.dvc_ctg_nm == \"PC\"].merge(unique_purchase_id_per_hour_PC, on = [\"weekday\",\"hour\"])\n",
    "purchase_rate_PC[\"purc_rate\"] = np.round(purchase_rate_PC.purc_counts / purchase_rate_PC.tot_counts * 100,2)\n",
    "\n",
    "purchase_rate_unknown = unique_sess_id_per_hour[unique_sess_id_per_hour.dvc_ctg_nm == \"unknown\"].merge(unique_purchase_id_per_hour_unknown, on = [\"weekday\",\"hour\"])\n",
    "purchase_rate_unknown[\"purc_rate\"] = np.round(purchase_rate_unknown.purc_counts / purchase_rate_unknown.tot_counts * 100,2)\n",
    "\n",
    "purchase_rate_mobile_web[\"device\"] = \"mobile_web\"\n",
    "purchase_rate_mobile_app[\"device\"] = \"mobile_app\"\n",
    "purchase_rate_PC[\"device\"] = \"PC\"\n",
    "purchase_rate_unknown[\"device\"] = \"unknown\""
   ]
  },
  {
   "cell_type": "code",
   "execution_count": 279,
   "metadata": {
    "ExecuteTime": {
     "end_time": "2020-01-04T10:11:06.690396Z",
     "start_time": "2020-01-04T10:11:06.682382Z"
    }
   },
   "outputs": [
    {
     "data": {
      "text/plain": [
       "'purchase_rate_mobile_web = unique_sess_id_per_hour.merge(unique_purchase_id_per_hour_mobile_web)\\npurchase_rate_mobile_web[\"purc_rate\"] = np.round(purchase_rate_mobile_web.purc_counts / purchase_rate_mobile_web.tot_counts * 100,2)\\n\\npurchase_rate_mobile_app = unique_sess_id_per_hour.merge(unique_purchase_id_per_hour_mobile_app)\\npurchase_rate_mobile_app[\"purc_rate\"] = np.round(purchase_rate_mobile_app.purc_counts / purchase_rate_mobile_app.tot_counts * 100,2)\\n\\npurchase_rate_PC = unique_sess_id_per_hour.merge(unique_purchase_id_per_hour_PC)\\npurchase_rate_PC[\"purc_rate\"] = np.round(purchase_rate_PC.purc_counts / purchase_rate_PC.tot_counts * 100,2)\\n\\npurchase_rate_unknown = unique_sess_id_per_hour.merge(unique_purchase_id_per_hour_unknown)\\npurchase_rate_unknown[\"purc_rate\"] = np.round(purchase_rate_unknown.purc_counts / purchase_rate_unknown.tot_counts * 100,2)\\n\\npurchase_rate_mobile_web[\"device\"] = \"mobile_web\"\\npurchase_rate_mobile_app[\"device\"] = \"mobile_app\"\\npurchase_rate_PC[\"device\"] = \"PC\"\\npurchase_rate_unknown[\"device\"] = \"unknown\" '"
      ]
     },
     "execution_count": 279,
     "metadata": {},
     "output_type": "execute_result"
    }
   ],
   "source": [
    "\"\"\"purchase_rate_mobile_web = unique_sess_id_per_hour.merge(unique_purchase_id_per_hour_mobile_web)\n",
    "purchase_rate_mobile_web[\"purc_rate\"] = np.round(purchase_rate_mobile_web.purc_counts / purchase_rate_mobile_web.tot_counts * 100,2)\n",
    "\n",
    "purchase_rate_mobile_app = unique_sess_id_per_hour.merge(unique_purchase_id_per_hour_mobile_app)\n",
    "purchase_rate_mobile_app[\"purc_rate\"] = np.round(purchase_rate_mobile_app.purc_counts / purchase_rate_mobile_app.tot_counts * 100,2)\n",
    "\n",
    "purchase_rate_PC = unique_sess_id_per_hour.merge(unique_purchase_id_per_hour_PC)\n",
    "purchase_rate_PC[\"purc_rate\"] = np.round(purchase_rate_PC.purc_counts / purchase_rate_PC.tot_counts * 100,2)\n",
    "\n",
    "purchase_rate_unknown = unique_sess_id_per_hour.merge(unique_purchase_id_per_hour_unknown)\n",
    "purchase_rate_unknown[\"purc_rate\"] = np.round(purchase_rate_unknown.purc_counts / purchase_rate_unknown.tot_counts * 100,2)\n",
    "\n",
    "purchase_rate_mobile_web[\"device\"] = \"mobile_web\"\n",
    "purchase_rate_mobile_app[\"device\"] = \"mobile_app\"\n",
    "purchase_rate_PC[\"device\"] = \"PC\"\n",
    "purchase_rate_unknown[\"device\"] = \"unknown\" \"\"\""
   ]
  },
  {
   "cell_type": "code",
   "execution_count": 286,
   "metadata": {
    "ExecuteTime": {
     "end_time": "2020-01-04T10:12:38.260742Z",
     "start_time": "2020-01-04T10:12:38.252698Z"
    }
   },
   "outputs": [],
   "source": [
    "purchase_rate_by_dvc = pd.concat([purchase_rate_mobile_web, purchase_rate_mobile_app, purchase_rate_PC, purchase_rate_unknown]).reset_index(drop = True)"
   ]
  },
  {
   "cell_type": "code",
   "execution_count": 120,
   "metadata": {
    "ExecuteTime": {
     "end_time": "2020-01-04T07:47:27.792590Z",
     "start_time": "2020-01-04T07:47:27.789564Z"
    }
   },
   "outputs": [],
   "source": [
    "weekdays = [\"월\",\"화\",\"수\",\"목\",\"금\",\"토\",\"일\"]"
   ]
  },
  {
   "cell_type": "code",
   "execution_count": null,
   "metadata": {},
   "outputs": [],
   "source": [
    "sns.distplot()"
   ]
  },
  {
   "cell_type": "code",
   "execution_count": 2,
   "metadata": {
    "ExecuteTime": {
     "end_time": "2020-01-08T03:40:42.121350Z",
     "start_time": "2020-01-08T03:40:42.113399Z"
    },
    "scrolled": false
   },
   "outputs": [
    {
     "data": {
      "text/plain": [
       "'for day in range(7):\\n    tmp_df = purchase_rate_by_dvc[purchase_rate_by_dvc.weekday == day]\\n    fig, ax = plt.subplots(figsize =  (10,5))\\n    sns.lineplot(x = tmp_df.hour, y = tmp_df.purc_rate, hue = tmp_df.device, ax = ax, linewidth = 1)\\n    ax.set_title(weekdays[day])\\n    plt.show()\\n    # fig.savefig(\"./plots/기기+시간_{}요일_구매율\".format(weekdays[day]))'"
      ]
     },
     "execution_count": 2,
     "metadata": {},
     "output_type": "execute_result"
    }
   ],
   "source": [
    "\"\"\"for day in range(7):\n",
    "    tmp_df = purchase_rate_by_dvc[purchase_rate_by_dvc.weekday == day]\n",
    "    fig, ax = plt.subplots(figsize =  (10,5))\n",
    "    sns.lineplot(x = tmp_df.hour, y = tmp_df.purc_rate, hue = tmp_df.device, ax = ax, linewidth = 1)\n",
    "    ax.set_title(weekdays[day])\n",
    "    plt.show()\n",
    "    # fig.savefig(\"./plots/기기+시간_{}요일_구매율\".format(weekdays[day]))\"\"\""
   ]
  },
  {
   "cell_type": "code",
   "execution_count": null,
   "metadata": {},
   "outputs": [],
   "source": [
    "plt.figure(figsize = (16,6))\n",
    "sns.pointplot(x = \"hour\", y = \"purc_rate\", hue = \"device\", data = purchase_rate_by_dvc)\n",
    "plt.title(\"접속기기 + 시간별 음식카테고리 구매율\", fontsize = 20)"
   ]
  },
  {
   "cell_type": "code",
   "execution_count": 63,
   "metadata": {
    "ExecuteTime": {
     "end_time": "2020-01-05T03:10:42.692638Z",
     "start_time": "2020-01-05T03:10:42.689497Z"
    }
   },
   "outputs": [],
   "source": [
    "#####"
   ]
  },
  {
   "cell_type": "markdown",
   "metadata": {},
   "source": [
    "### +접속경로"
   ]
  },
  {
   "cell_type": "code",
   "execution_count": 107,
   "metadata": {
    "ExecuteTime": {
     "end_time": "2020-01-04T07:42:33.114509Z",
     "start_time": "2020-01-04T07:42:32.517105Z"
    }
   },
   "outputs": [],
   "source": [
    "#시간대별 총 session_id수\n",
    "unique_sess_id_per_hour_by_trfc_src = online_df.drop_duplicates([\"clnt_id\",\"sess_id\",\"trfc_src\",\"month\",\"day\",\"hour\"], keep = \"first\").\\\n",
    "groupby([\"trfc_src\", \"hour\"]).size().reset_index().rename(columns = {0 : 'tot_counts'})\n",
    "\n",
    "unique_sess_id_per_hour_by_trfc_src = unique_sess_id_per_hour_by_trfc_src.sort_values([\"trfc_src\", \"hour\"], ascending = [1,1])\n",
    "\n",
    "unique_purchase_id_per_hour_by_trfc_src = food_df[food_df.action_type==6].drop_duplicates([\"clnt_id\",\"sess_id\"], keep = \"first\").groupby([\"clnt_id\",\"sess_id\",\"hour\",\"trfc_src\"]).size().reset_index().groupby([\"trfc_src\",\"hour\"]).size().reset_index(name = \"purc_counts\").sort_values(by = [\"trfc_src\",\"hour\"], ascending = [1,1])\n",
    "\n",
    "purchase_rate_by_trfc_src = unique_sess_id_per_hour_by_trfc_src.merge(unique_purchase_id_per_hour_by_trfc_src, how = \"left\", on = [\"trfc_src\",\"hour\"]).fillna(0)\n",
    "\n",
    "purchase_rate_by_trfc_src[\"purc_rate\"] = np.round(purchase_rate_by_trfc_src.purc_counts / purchase_rate_by_trfc_src.tot_counts * 100,2)"
   ]
  },
  {
   "cell_type": "code",
   "execution_count": 275,
   "metadata": {
    "ExecuteTime": {
     "end_time": "2020-01-04T10:09:44.305560Z",
     "start_time": "2020-01-04T10:09:39.472612Z"
    }
   },
   "outputs": [
    {
     "data": {
      "text/plain": [
       "Text(0.5, 1.0, '접속경로 및 시간별 음식 카테고리 구매율')"
      ]
     },
     "execution_count": 275,
     "metadata": {},
     "output_type": "execute_result"
    },
    {
     "data": {
      "image/png": "[encoded data removed]",
      "text/plain": [
       "<Figure size 864x504 with 1 Axes>"
      ]
     },
     "metadata": {
      "needs_background": "light"
     },
     "output_type": "display_data"
    }
   ],
   "source": [
    "plt.figure(figsize = (12,7))\n",
    "sns.pointplot(data = purchase_rate_by_trfc_src, x=\"hour\", y=\"purc_rate\", hue=\"trfc_src\")\n",
    "plt.title(\"접속경로 및 시간별 음식 카테고리 구매율\")"
   ]
  },
  {
   "cell_type": "markdown",
   "metadata": {},
   "source": [
    "#### 접속경로 + 요일 "
   ]
  },
  {
   "cell_type": "code",
   "execution_count": 163,
   "metadata": {
    "ExecuteTime": {
     "end_time": "2020-01-04T08:05:37.397278Z",
     "start_time": "2020-01-04T08:05:36.798816Z"
    }
   },
   "outputs": [],
   "source": [
    "#시간대별 총 session_id수\n",
    "unique_sess_id_per_hour_by_trfc_src = online_df.drop_duplicates([\"clnt_id\",\"sess_id\",\"trfc_src\",\"month\",\"day\",\"hour\"], keep = \"first\").\\\n",
    "groupby([\"trfc_src\",\"weekday\", \"hour\"]).size().reset_index().rename(columns = {0 : 'tot_counts'})"
   ]
  },
  {
   "cell_type": "code",
   "execution_count": 292,
   "metadata": {
    "ExecuteTime": {
     "end_time": "2020-01-04T10:18:04.308825Z",
     "start_time": "2020-01-04T10:18:04.292777Z"
    }
   },
   "outputs": [
    {
     "data": {
      "text/html": [
       "<div>\n",
       "<style scoped>\n",
       "    .dataframe tbody tr th:only-of-type {\n",
       "        vertical-align: middle;\n",
       "    }\n",
       "\n",
       "    .dataframe tbody tr th {\n",
       "        vertical-align: top;\n",
       "    }\n",
       "\n",
       "    .dataframe thead th {\n",
       "        text-align: right;\n",
       "    }\n",
       "</style>\n",
       "<table border=\"1\" class=\"dataframe\">\n",
       "  <thead>\n",
       "    <tr style=\"text-align: right;\">\n",
       "      <th></th>\n",
       "      <th>trfc_src</th>\n",
       "      <th>weekday</th>\n",
       "      <th>hour</th>\n",
       "      <th>purc_counts</th>\n",
       "    </tr>\n",
       "  </thead>\n",
       "  <tbody>\n",
       "    <tr>\n",
       "      <th>0</th>\n",
       "      <td>DIRECT</td>\n",
       "      <td>0</td>\n",
       "      <td>0</td>\n",
       "      <td>14</td>\n",
       "    </tr>\n",
       "    <tr>\n",
       "      <th>23</th>\n",
       "      <td>DIRECT</td>\n",
       "      <td>1</td>\n",
       "      <td>0</td>\n",
       "      <td>25</td>\n",
       "    </tr>\n",
       "    <tr>\n",
       "      <th>46</th>\n",
       "      <td>DIRECT</td>\n",
       "      <td>2</td>\n",
       "      <td>0</td>\n",
       "      <td>23</td>\n",
       "    </tr>\n",
       "    <tr>\n",
       "      <th>69</th>\n",
       "      <td>DIRECT</td>\n",
       "      <td>3</td>\n",
       "      <td>0</td>\n",
       "      <td>21</td>\n",
       "    </tr>\n",
       "    <tr>\n",
       "      <th>92</th>\n",
       "      <td>DIRECT</td>\n",
       "      <td>4</td>\n",
       "      <td>0</td>\n",
       "      <td>25</td>\n",
       "    </tr>\n",
       "    <tr>\n",
       "      <th>115</th>\n",
       "      <td>DIRECT</td>\n",
       "      <td>5</td>\n",
       "      <td>0</td>\n",
       "      <td>17</td>\n",
       "    </tr>\n",
       "    <tr>\n",
       "      <th>134</th>\n",
       "      <td>DIRECT</td>\n",
       "      <td>6</td>\n",
       "      <td>0</td>\n",
       "      <td>18</td>\n",
       "    </tr>\n",
       "    <tr>\n",
       "      <th>1</th>\n",
       "      <td>DIRECT</td>\n",
       "      <td>0</td>\n",
       "      <td>1</td>\n",
       "      <td>13</td>\n",
       "    </tr>\n",
       "    <tr>\n",
       "      <th>24</th>\n",
       "      <td>DIRECT</td>\n",
       "      <td>1</td>\n",
       "      <td>1</td>\n",
       "      <td>6</td>\n",
       "    </tr>\n",
       "    <tr>\n",
       "      <th>47</th>\n",
       "      <td>DIRECT</td>\n",
       "      <td>2</td>\n",
       "      <td>1</td>\n",
       "      <td>9</td>\n",
       "    </tr>\n",
       "    <tr>\n",
       "      <th>70</th>\n",
       "      <td>DIRECT</td>\n",
       "      <td>3</td>\n",
       "      <td>1</td>\n",
       "      <td>10</td>\n",
       "    </tr>\n",
       "    <tr>\n",
       "      <th>93</th>\n",
       "      <td>DIRECT</td>\n",
       "      <td>4</td>\n",
       "      <td>1</td>\n",
       "      <td>16</td>\n",
       "    </tr>\n",
       "    <tr>\n",
       "      <th>116</th>\n",
       "      <td>DIRECT</td>\n",
       "      <td>5</td>\n",
       "      <td>1</td>\n",
       "      <td>17</td>\n",
       "    </tr>\n",
       "    <tr>\n",
       "      <th>135</th>\n",
       "      <td>DIRECT</td>\n",
       "      <td>6</td>\n",
       "      <td>1</td>\n",
       "      <td>18</td>\n",
       "    </tr>\n",
       "    <tr>\n",
       "      <th>2</th>\n",
       "      <td>DIRECT</td>\n",
       "      <td>0</td>\n",
       "      <td>2</td>\n",
       "      <td>9</td>\n",
       "    </tr>\n",
       "    <tr>\n",
       "      <th>25</th>\n",
       "      <td>DIRECT</td>\n",
       "      <td>1</td>\n",
       "      <td>2</td>\n",
       "      <td>3</td>\n",
       "    </tr>\n",
       "    <tr>\n",
       "      <th>48</th>\n",
       "      <td>DIRECT</td>\n",
       "      <td>2</td>\n",
       "      <td>2</td>\n",
       "      <td>3</td>\n",
       "    </tr>\n",
       "    <tr>\n",
       "      <th>71</th>\n",
       "      <td>DIRECT</td>\n",
       "      <td>3</td>\n",
       "      <td>2</td>\n",
       "      <td>10</td>\n",
       "    </tr>\n",
       "    <tr>\n",
       "      <th>94</th>\n",
       "      <td>DIRECT</td>\n",
       "      <td>4</td>\n",
       "      <td>2</td>\n",
       "      <td>8</td>\n",
       "    </tr>\n",
       "    <tr>\n",
       "      <th>117</th>\n",
       "      <td>DIRECT</td>\n",
       "      <td>5</td>\n",
       "      <td>2</td>\n",
       "      <td>11</td>\n",
       "    </tr>\n",
       "    <tr>\n",
       "      <th>136</th>\n",
       "      <td>DIRECT</td>\n",
       "      <td>6</td>\n",
       "      <td>2</td>\n",
       "      <td>4</td>\n",
       "    </tr>\n",
       "    <tr>\n",
       "      <th>3</th>\n",
       "      <td>DIRECT</td>\n",
       "      <td>0</td>\n",
       "      <td>3</td>\n",
       "      <td>6</td>\n",
       "    </tr>\n",
       "    <tr>\n",
       "      <th>26</th>\n",
       "      <td>DIRECT</td>\n",
       "      <td>1</td>\n",
       "      <td>3</td>\n",
       "      <td>5</td>\n",
       "    </tr>\n",
       "    <tr>\n",
       "      <th>49</th>\n",
       "      <td>DIRECT</td>\n",
       "      <td>2</td>\n",
       "      <td>3</td>\n",
       "      <td>5</td>\n",
       "    </tr>\n",
       "    <tr>\n",
       "      <th>72</th>\n",
       "      <td>DIRECT</td>\n",
       "      <td>3</td>\n",
       "      <td>3</td>\n",
       "      <td>13</td>\n",
       "    </tr>\n",
       "    <tr>\n",
       "      <th>95</th>\n",
       "      <td>DIRECT</td>\n",
       "      <td>4</td>\n",
       "      <td>3</td>\n",
       "      <td>4</td>\n",
       "    </tr>\n",
       "    <tr>\n",
       "      <th>118</th>\n",
       "      <td>DIRECT</td>\n",
       "      <td>5</td>\n",
       "      <td>3</td>\n",
       "      <td>3</td>\n",
       "    </tr>\n",
       "    <tr>\n",
       "      <th>137</th>\n",
       "      <td>DIRECT</td>\n",
       "      <td>6</td>\n",
       "      <td>3</td>\n",
       "      <td>4</td>\n",
       "    </tr>\n",
       "    <tr>\n",
       "      <th>4</th>\n",
       "      <td>DIRECT</td>\n",
       "      <td>0</td>\n",
       "      <td>4</td>\n",
       "      <td>4</td>\n",
       "    </tr>\n",
       "    <tr>\n",
       "      <th>27</th>\n",
       "      <td>DIRECT</td>\n",
       "      <td>1</td>\n",
       "      <td>4</td>\n",
       "      <td>2</td>\n",
       "    </tr>\n",
       "    <tr>\n",
       "      <th>...</th>\n",
       "      <td>...</td>\n",
       "      <td>...</td>\n",
       "      <td>...</td>\n",
       "      <td>...</td>\n",
       "    </tr>\n",
       "    <tr>\n",
       "      <th>580</th>\n",
       "      <td>unknown</td>\n",
       "      <td>4</td>\n",
       "      <td>19</td>\n",
       "      <td>1</td>\n",
       "    </tr>\n",
       "    <tr>\n",
       "      <th>599</th>\n",
       "      <td>unknown</td>\n",
       "      <td>5</td>\n",
       "      <td>19</td>\n",
       "      <td>3</td>\n",
       "    </tr>\n",
       "    <tr>\n",
       "      <th>621</th>\n",
       "      <td>unknown</td>\n",
       "      <td>6</td>\n",
       "      <td>19</td>\n",
       "      <td>8</td>\n",
       "    </tr>\n",
       "    <tr>\n",
       "      <th>514</th>\n",
       "      <td>unknown</td>\n",
       "      <td>1</td>\n",
       "      <td>20</td>\n",
       "      <td>4</td>\n",
       "    </tr>\n",
       "    <tr>\n",
       "      <th>538</th>\n",
       "      <td>unknown</td>\n",
       "      <td>2</td>\n",
       "      <td>20</td>\n",
       "      <td>2</td>\n",
       "    </tr>\n",
       "    <tr>\n",
       "      <th>560</th>\n",
       "      <td>unknown</td>\n",
       "      <td>3</td>\n",
       "      <td>20</td>\n",
       "      <td>5</td>\n",
       "    </tr>\n",
       "    <tr>\n",
       "      <th>581</th>\n",
       "      <td>unknown</td>\n",
       "      <td>4</td>\n",
       "      <td>20</td>\n",
       "      <td>2</td>\n",
       "    </tr>\n",
       "    <tr>\n",
       "      <th>600</th>\n",
       "      <td>unknown</td>\n",
       "      <td>5</td>\n",
       "      <td>20</td>\n",
       "      <td>2</td>\n",
       "    </tr>\n",
       "    <tr>\n",
       "      <th>622</th>\n",
       "      <td>unknown</td>\n",
       "      <td>6</td>\n",
       "      <td>20</td>\n",
       "      <td>9</td>\n",
       "    </tr>\n",
       "    <tr>\n",
       "      <th>492</th>\n",
       "      <td>unknown</td>\n",
       "      <td>0</td>\n",
       "      <td>21</td>\n",
       "      <td>9</td>\n",
       "    </tr>\n",
       "    <tr>\n",
       "      <th>515</th>\n",
       "      <td>unknown</td>\n",
       "      <td>1</td>\n",
       "      <td>21</td>\n",
       "      <td>1</td>\n",
       "    </tr>\n",
       "    <tr>\n",
       "      <th>539</th>\n",
       "      <td>unknown</td>\n",
       "      <td>2</td>\n",
       "      <td>21</td>\n",
       "      <td>1</td>\n",
       "    </tr>\n",
       "    <tr>\n",
       "      <th>561</th>\n",
       "      <td>unknown</td>\n",
       "      <td>3</td>\n",
       "      <td>21</td>\n",
       "      <td>30</td>\n",
       "    </tr>\n",
       "    <tr>\n",
       "      <th>582</th>\n",
       "      <td>unknown</td>\n",
       "      <td>4</td>\n",
       "      <td>21</td>\n",
       "      <td>1</td>\n",
       "    </tr>\n",
       "    <tr>\n",
       "      <th>601</th>\n",
       "      <td>unknown</td>\n",
       "      <td>5</td>\n",
       "      <td>21</td>\n",
       "      <td>3</td>\n",
       "    </tr>\n",
       "    <tr>\n",
       "      <th>623</th>\n",
       "      <td>unknown</td>\n",
       "      <td>6</td>\n",
       "      <td>21</td>\n",
       "      <td>4</td>\n",
       "    </tr>\n",
       "    <tr>\n",
       "      <th>493</th>\n",
       "      <td>unknown</td>\n",
       "      <td>0</td>\n",
       "      <td>22</td>\n",
       "      <td>10</td>\n",
       "    </tr>\n",
       "    <tr>\n",
       "      <th>516</th>\n",
       "      <td>unknown</td>\n",
       "      <td>1</td>\n",
       "      <td>22</td>\n",
       "      <td>7</td>\n",
       "    </tr>\n",
       "    <tr>\n",
       "      <th>540</th>\n",
       "      <td>unknown</td>\n",
       "      <td>2</td>\n",
       "      <td>22</td>\n",
       "      <td>3</td>\n",
       "    </tr>\n",
       "    <tr>\n",
       "      <th>562</th>\n",
       "      <td>unknown</td>\n",
       "      <td>3</td>\n",
       "      <td>22</td>\n",
       "      <td>13</td>\n",
       "    </tr>\n",
       "    <tr>\n",
       "      <th>583</th>\n",
       "      <td>unknown</td>\n",
       "      <td>4</td>\n",
       "      <td>22</td>\n",
       "      <td>1</td>\n",
       "    </tr>\n",
       "    <tr>\n",
       "      <th>602</th>\n",
       "      <td>unknown</td>\n",
       "      <td>5</td>\n",
       "      <td>22</td>\n",
       "      <td>5</td>\n",
       "    </tr>\n",
       "    <tr>\n",
       "      <th>624</th>\n",
       "      <td>unknown</td>\n",
       "      <td>6</td>\n",
       "      <td>22</td>\n",
       "      <td>9</td>\n",
       "    </tr>\n",
       "    <tr>\n",
       "      <th>494</th>\n",
       "      <td>unknown</td>\n",
       "      <td>0</td>\n",
       "      <td>23</td>\n",
       "      <td>3</td>\n",
       "    </tr>\n",
       "    <tr>\n",
       "      <th>517</th>\n",
       "      <td>unknown</td>\n",
       "      <td>1</td>\n",
       "      <td>23</td>\n",
       "      <td>6</td>\n",
       "    </tr>\n",
       "    <tr>\n",
       "      <th>541</th>\n",
       "      <td>unknown</td>\n",
       "      <td>2</td>\n",
       "      <td>23</td>\n",
       "      <td>3</td>\n",
       "    </tr>\n",
       "    <tr>\n",
       "      <th>563</th>\n",
       "      <td>unknown</td>\n",
       "      <td>3</td>\n",
       "      <td>23</td>\n",
       "      <td>7</td>\n",
       "    </tr>\n",
       "    <tr>\n",
       "      <th>584</th>\n",
       "      <td>unknown</td>\n",
       "      <td>4</td>\n",
       "      <td>23</td>\n",
       "      <td>1</td>\n",
       "    </tr>\n",
       "    <tr>\n",
       "      <th>603</th>\n",
       "      <td>unknown</td>\n",
       "      <td>5</td>\n",
       "      <td>23</td>\n",
       "      <td>4</td>\n",
       "    </tr>\n",
       "    <tr>\n",
       "      <th>625</th>\n",
       "      <td>unknown</td>\n",
       "      <td>6</td>\n",
       "      <td>23</td>\n",
       "      <td>11</td>\n",
       "    </tr>\n",
       "  </tbody>\n",
       "</table>\n",
       "<p>626 rows × 4 columns</p>\n",
       "</div>"
      ],
      "text/plain": [
       "    trfc_src  weekday  hour  purc_counts\n",
       "0     DIRECT        0     0           14\n",
       "23    DIRECT        1     0           25\n",
       "46    DIRECT        2     0           23\n",
       "69    DIRECT        3     0           21\n",
       "92    DIRECT        4     0           25\n",
       "115   DIRECT        5     0           17\n",
       "134   DIRECT        6     0           18\n",
       "1     DIRECT        0     1           13\n",
       "24    DIRECT        1     1            6\n",
       "47    DIRECT        2     1            9\n",
       "70    DIRECT        3     1           10\n",
       "93    DIRECT        4     1           16\n",
       "116   DIRECT        5     1           17\n",
       "135   DIRECT        6     1           18\n",
       "2     DIRECT        0     2            9\n",
       "25    DIRECT        1     2            3\n",
       "48    DIRECT        2     2            3\n",
       "71    DIRECT        3     2           10\n",
       "94    DIRECT        4     2            8\n",
       "117   DIRECT        5     2           11\n",
       "136   DIRECT        6     2            4\n",
       "3     DIRECT        0     3            6\n",
       "26    DIRECT        1     3            5\n",
       "49    DIRECT        2     3            5\n",
       "72    DIRECT        3     3           13\n",
       "95    DIRECT        4     3            4\n",
       "118   DIRECT        5     3            3\n",
       "137   DIRECT        6     3            4\n",
       "4     DIRECT        0     4            4\n",
       "27    DIRECT        1     4            2\n",
       "..       ...      ...   ...          ...\n",
       "580  unknown        4    19            1\n",
       "599  unknown        5    19            3\n",
       "621  unknown        6    19            8\n",
       "514  unknown        1    20            4\n",
       "538  unknown        2    20            2\n",
       "560  unknown        3    20            5\n",
       "581  unknown        4    20            2\n",
       "600  unknown        5    20            2\n",
       "622  unknown        6    20            9\n",
       "492  unknown        0    21            9\n",
       "515  unknown        1    21            1\n",
       "539  unknown        2    21            1\n",
       "561  unknown        3    21           30\n",
       "582  unknown        4    21            1\n",
       "601  unknown        5    21            3\n",
       "623  unknown        6    21            4\n",
       "493  unknown        0    22           10\n",
       "516  unknown        1    22            7\n",
       "540  unknown        2    22            3\n",
       "562  unknown        3    22           13\n",
       "583  unknown        4    22            1\n",
       "602  unknown        5    22            5\n",
       "624  unknown        6    22            9\n",
       "494  unknown        0    23            3\n",
       "517  unknown        1    23            6\n",
       "541  unknown        2    23            3\n",
       "563  unknown        3    23            7\n",
       "584  unknown        4    23            1\n",
       "603  unknown        5    23            4\n",
       "625  unknown        6    23           11\n",
       "\n",
       "[626 rows x 4 columns]"
      ]
     },
     "execution_count": 292,
     "metadata": {},
     "output_type": "execute_result"
    }
   ],
   "source": [
    "unique_purchase_id_per_hour_by_trfc_src"
   ]
  },
  {
   "cell_type": "code",
   "execution_count": 166,
   "metadata": {
    "ExecuteTime": {
     "end_time": "2020-01-04T08:06:53.617495Z",
     "start_time": "2020-01-04T08:06:53.571617Z"
    }
   },
   "outputs": [],
   "source": [
    "unique_sess_id_per_hour_by_trfc_src = unique_sess_id_per_hour_by_trfc_src.sort_values([\"trfc_src\",\"weekday\",\"hour\"], ascending = [1,1,1])\n",
    "\n",
    "unique_purchase_id_per_hour_by_trfc_src = food_df[food_df.action_type==6].drop_duplicates([\"clnt_id\",\"sess_id\"], keep = \"first\").groupby([\"clnt_id\",\"sess_id\",\"weekday\", \"hour\",\"trfc_src\"]).size().reset_index().groupby([\"trfc_src\",\"weekday\",\"hour\"]).size().reset_index(name = \"purc_counts\").sort_values(by = [\"trfc_src\",\"hour\"], ascending = [1,1])\n",
    "\n",
    "purchase_rate_by_trfc_src = unique_sess_id_per_hour_by_trfc_src.merge(unique_purchase_id_per_hour_by_trfc_src, how = \"left\", on = [\"trfc_src\",\"weekday\",\"hour\"]).fillna(0)\n",
    "\n",
    "purchase_rate_by_trfc_src[\"purc_rate\"] = np.round(purchase_rate_by_trfc_src.purc_counts / purchase_rate_by_trfc_src.tot_counts * 100,2)"
   ]
  },
  {
   "cell_type": "code",
   "execution_count": 173,
   "metadata": {
    "ExecuteTime": {
     "end_time": "2020-01-04T08:11:00.940207Z",
     "start_time": "2020-01-04T08:11:00.936218Z"
    }
   },
   "outputs": [
    {
     "data": {
      "text/plain": [
       "Index(['trfc_src', 'weekday', 'hour', 'tot_counts', 'purc_counts',\n",
       "       'purc_rate'],\n",
       "      dtype='object')"
      ]
     },
     "execution_count": 173,
     "metadata": {},
     "output_type": "execute_result"
    }
   ],
   "source": [
    "purchase_rate_by_trfc_src.columns"
   ]
  },
  {
   "cell_type": "code",
   "execution_count": null,
   "metadata": {},
   "outputs": [],
   "source": [
    "sns.lineplot()"
   ]
  },
  {
   "cell_type": "code",
   "execution_count": 3,
   "metadata": {
    "ExecuteTime": {
     "end_time": "2020-01-08T03:40:49.953318Z",
     "start_time": "2020-01-08T03:40:49.949318Z"
    },
    "scrolled": false
   },
   "outputs": [
    {
     "data": {
      "text/plain": [
       "'g = sns.FacetGrid(data = purchase_rate_by_trfc_src, col=\"weekday\", row=\"trfc_src\")\\ng.map(sns.lineplot, \"hour\", \"purc_rate\", color = \\'k\\')'"
      ]
     },
     "execution_count": 3,
     "metadata": {},
     "output_type": "execute_result"
    }
   ],
   "source": [
    "\"\"\"g = sns.FacetGrid(data = purchase_rate_by_trfc_src, col=\"weekday\", row=\"trfc_src\")\n",
    "g.map(sns.lineplot, \"hour\", \"purc_rate\", color = 'k')\"\"\""
   ]
  },
  {
   "cell_type": "code",
   "execution_count": 4,
   "metadata": {
    "ExecuteTime": {
     "end_time": "2020-01-08T03:40:54.994712Z",
     "start_time": "2020-01-08T03:40:54.986732Z"
    },
    "scrolled": false
   },
   "outputs": [
    {
     "data": {
      "text/plain": [
       "'for day in range(7):\\n    tmp_df = purchase_rate_by_trfc_src[purchase_rate_by_trfc_src.weekday == day]\\n    fig, ax = plt.subplots(figsize =  (10,5))\\n    sns.lineplot(x = tmp_df.hour, y = tmp_df.purc_rate, hue = tmp_df.trfc_src, ax = ax)\\n    ax.set_title(weekdays[day])\\n    plt.show()\\n    #fig.savefig(\"./plots/기기+시간_{}요일_구매율\".format(weekdays[day]))'"
      ]
     },
     "execution_count": 4,
     "metadata": {},
     "output_type": "execute_result"
    }
   ],
   "source": [
    "\"\"\"for day in range(7):\n",
    "    tmp_df = purchase_rate_by_trfc_src[purchase_rate_by_trfc_src.weekday == day]\n",
    "    fig, ax = plt.subplots(figsize =  (10,5))\n",
    "    sns.lineplot(x = tmp_df.hour, y = tmp_df.purc_rate, hue = tmp_df.trfc_src, ax = ax)\n",
    "    ax.set_title(weekdays[day])\n",
    "    plt.show()\n",
    "    #fig.savefig(\"./plots/기기+시간_{}요일_구매율\".format(weekdays[day]))\"\"\""
   ]
  },
  {
   "cell_type": "markdown",
   "metadata": {},
   "source": [
    "## 시간에 따른 음식 전체 구매율 변화(3달치)"
   ]
  },
  {
   "cell_type": "markdown",
   "metadata": {},
   "source": [
    "### 음식카테고리 판매량 추이 "
   ]
  },
  {
   "cell_type": "code",
   "execution_count": 182,
   "metadata": {
    "ExecuteTime": {
     "end_time": "2020-01-05T04:35:55.619068Z",
     "start_time": "2020-01-05T04:35:55.379056Z"
    }
   },
   "outputs": [],
   "source": [
    "purc_df = pd.concat([food_df[~food_df.clac_nm3.isnull()][[\"clnt_id\",\"time\",\"month\",\"day\",\"hour\",\"weekday\"]],\n",
    "           pd.get_dummies(food_df.clac_nm3.dropna())], axis=1).reset_index(drop = True)"
   ]
  },
  {
   "cell_type": "code",
   "execution_count": 231,
   "metadata": {
    "ExecuteTime": {
     "end_time": "2020-01-04T09:43:45.453217Z",
     "start_time": "2020-01-04T09:43:45.409117Z"
    }
   },
   "outputs": [],
   "source": [
    "food_sales_by_day = pd.DataFrame({\"time\" : pd.date_range(start=\"20190701\", end=\"20190930\"),\n",
    "             \"food_sales\" : purc_df.groupby([\"month\",'day']).sum().drop([\"clnt_id\",\"hour\",\"weekday\"], axis=1).reset_index().iloc[:,2:].sum(axis=1).values})"
   ]
  },
  {
   "cell_type": "code",
   "execution_count": 5,
   "metadata": {
    "ExecuteTime": {
     "end_time": "2020-01-08T03:41:36.232984Z",
     "start_time": "2020-01-08T03:41:36.228989Z"
    }
   },
   "outputs": [
    {
     "data": {
      "text/plain": [
       "'food_sales_by_day.set_index(\"time\").resample(\"M\").mean().plot(figsize = (16,6), title = \"음식카테고리 판매량 추이(월별)\")\\nfood_sales_by_day.set_index(\"time\").resample(\"7D\").mean().plot(figsize = (16,6), title = \"음식카테고리 판매량 추이(주별)\")\\nfood_sales_by_day.set_index(\"time\").plot(figsize = (16,6), title = \"음식카테고리 판매량 추이(일별)\")'"
      ]
     },
     "execution_count": 5,
     "metadata": {},
     "output_type": "execute_result"
    }
   ],
   "source": [
    "\"\"\"food_sales_by_day.set_index(\"time\").resample(\"M\").mean().plot(figsize = (16,6), title = \"음식카테고리 판매량 추이(월별)\")\n",
    "food_sales_by_day.set_index(\"time\").resample(\"7D\").mean().plot(figsize = (16,6), title = \"음식카테고리 판매량 추이(주별)\")\n",
    "food_sales_by_day.set_index(\"time\").plot(figsize = (16,6), title = \"음식카테고리 판매량 추이(일별)\")\"\"\""
   ]
  },
  {
   "cell_type": "markdown",
   "metadata": {},
   "source": [
    "### 일별 총 세션수 "
   ]
  },
  {
   "cell_type": "code",
   "execution_count": 184,
   "metadata": {
    "ExecuteTime": {
     "end_time": "2020-01-05T04:37:05.364781Z",
     "start_time": "2020-01-05T04:37:05.124057Z"
    }
   },
   "outputs": [],
   "source": [
    "purc_df = pd.concat([food_df[~food_df.clac_nm3.isnull()][[\"clnt_id\",\"sess_id\",\"time\",\"month\",\"day\",\"hour\",\"weekday\"]],\n",
    "           pd.get_dummies(food_df.clac_nm3.dropna())], axis=1).reset_index(drop = True)"
   ]
  },
  {
   "cell_type": "code",
   "execution_count": 254,
   "metadata": {
    "ExecuteTime": {
     "end_time": "2020-01-04T09:55:02.649345Z",
     "start_time": "2020-01-04T09:55:02.629343Z"
    }
   },
   "outputs": [
    {
     "data": {
      "text/html": [
       "<div>\n",
       "<style scoped>\n",
       "    .dataframe tbody tr th:only-of-type {\n",
       "        vertical-align: middle;\n",
       "    }\n",
       "\n",
       "    .dataframe tbody tr th {\n",
       "        vertical-align: top;\n",
       "    }\n",
       "\n",
       "    .dataframe thead th {\n",
       "        text-align: right;\n",
       "    }\n",
       "</style>\n",
       "<table border=\"1\" class=\"dataframe\">\n",
       "  <thead>\n",
       "    <tr style=\"text-align: right;\">\n",
       "      <th></th>\n",
       "      <th>clnt_id</th>\n",
       "      <th>sess_id</th>\n",
       "      <th>time</th>\n",
       "      <th>month</th>\n",
       "      <th>day</th>\n",
       "      <th>hour</th>\n",
       "      <th>weekday</th>\n",
       "      <th>Aekjeot</th>\n",
       "      <th>Almonds</th>\n",
       "      <th>Apples</th>\n",
       "      <th>...</th>\n",
       "      <th>Webfoot Octopus</th>\n",
       "      <th>Wild Honey</th>\n",
       "      <th>Winter-grown Cabbages</th>\n",
       "      <th>Wrapping Vegetables</th>\n",
       "      <th>Yellow Corvina Fish</th>\n",
       "      <th>Yellow Corvina Fish Gift Sets</th>\n",
       "      <th>Yogurt Drinks</th>\n",
       "      <th>Young Pumpkins</th>\n",
       "      <th>Young Radishes</th>\n",
       "      <th>kelp</th>\n",
       "    </tr>\n",
       "  </thead>\n",
       "  <tbody>\n",
       "    <tr>\n",
       "      <th>0</th>\n",
       "      <td>2</td>\n",
       "      <td>8</td>\n",
       "      <td>2019-07-31 21:25:00</td>\n",
       "      <td>7</td>\n",
       "      <td>31</td>\n",
       "      <td>21</td>\n",
       "      <td>2</td>\n",
       "      <td>0</td>\n",
       "      <td>0</td>\n",
       "      <td>0</td>\n",
       "      <td>...</td>\n",
       "      <td>0</td>\n",
       "      <td>0</td>\n",
       "      <td>0</td>\n",
       "      <td>0</td>\n",
       "      <td>0</td>\n",
       "      <td>0</td>\n",
       "      <td>0</td>\n",
       "      <td>0</td>\n",
       "      <td>0</td>\n",
       "      <td>0</td>\n",
       "    </tr>\n",
       "    <tr>\n",
       "      <th>1</th>\n",
       "      <td>2</td>\n",
       "      <td>8</td>\n",
       "      <td>2019-07-31 21:25:00</td>\n",
       "      <td>7</td>\n",
       "      <td>31</td>\n",
       "      <td>21</td>\n",
       "      <td>2</td>\n",
       "      <td>0</td>\n",
       "      <td>0</td>\n",
       "      <td>0</td>\n",
       "      <td>...</td>\n",
       "      <td>0</td>\n",
       "      <td>0</td>\n",
       "      <td>0</td>\n",
       "      <td>0</td>\n",
       "      <td>0</td>\n",
       "      <td>0</td>\n",
       "      <td>0</td>\n",
       "      <td>0</td>\n",
       "      <td>0</td>\n",
       "      <td>0</td>\n",
       "    </tr>\n",
       "    <tr>\n",
       "      <th>2</th>\n",
       "      <td>2</td>\n",
       "      <td>8</td>\n",
       "      <td>2019-07-31 21:25:00</td>\n",
       "      <td>7</td>\n",
       "      <td>31</td>\n",
       "      <td>21</td>\n",
       "      <td>2</td>\n",
       "      <td>0</td>\n",
       "      <td>0</td>\n",
       "      <td>0</td>\n",
       "      <td>...</td>\n",
       "      <td>0</td>\n",
       "      <td>0</td>\n",
       "      <td>0</td>\n",
       "      <td>0</td>\n",
       "      <td>0</td>\n",
       "      <td>0</td>\n",
       "      <td>0</td>\n",
       "      <td>0</td>\n",
       "      <td>0</td>\n",
       "      <td>0</td>\n",
       "    </tr>\n",
       "    <tr>\n",
       "      <th>3</th>\n",
       "      <td>2</td>\n",
       "      <td>8</td>\n",
       "      <td>2019-07-31 21:25:00</td>\n",
       "      <td>7</td>\n",
       "      <td>31</td>\n",
       "      <td>21</td>\n",
       "      <td>2</td>\n",
       "      <td>0</td>\n",
       "      <td>0</td>\n",
       "      <td>0</td>\n",
       "      <td>...</td>\n",
       "      <td>0</td>\n",
       "      <td>0</td>\n",
       "      <td>0</td>\n",
       "      <td>0</td>\n",
       "      <td>0</td>\n",
       "      <td>0</td>\n",
       "      <td>0</td>\n",
       "      <td>0</td>\n",
       "      <td>0</td>\n",
       "      <td>0</td>\n",
       "    </tr>\n",
       "    <tr>\n",
       "      <th>4</th>\n",
       "      <td>2</td>\n",
       "      <td>8</td>\n",
       "      <td>2019-07-31 21:25:00</td>\n",
       "      <td>7</td>\n",
       "      <td>31</td>\n",
       "      <td>21</td>\n",
       "      <td>2</td>\n",
       "      <td>0</td>\n",
       "      <td>0</td>\n",
       "      <td>0</td>\n",
       "      <td>...</td>\n",
       "      <td>0</td>\n",
       "      <td>0</td>\n",
       "      <td>0</td>\n",
       "      <td>0</td>\n",
       "      <td>0</td>\n",
       "      <td>0</td>\n",
       "      <td>0</td>\n",
       "      <td>0</td>\n",
       "      <td>0</td>\n",
       "      <td>0</td>\n",
       "    </tr>\n",
       "  </tbody>\n",
       "</table>\n",
       "<p>5 rows × 476 columns</p>\n",
       "</div>"
      ],
      "text/plain": [
       "   clnt_id  sess_id                 time  month  day  hour  weekday  Aekjeot  \\\n",
       "0        2        8  2019-07-31 21:25:00      7   31    21        2        0   \n",
       "1        2        8  2019-07-31 21:25:00      7   31    21        2        0   \n",
       "2        2        8  2019-07-31 21:25:00      7   31    21        2        0   \n",
       "3        2        8  2019-07-31 21:25:00      7   31    21        2        0   \n",
       "4        2        8  2019-07-31 21:25:00      7   31    21        2        0   \n",
       "\n",
       "   Almonds  Apples  ...  Webfoot Octopus  Wild Honey  Winter-grown Cabbages  \\\n",
       "0        0       0  ...                0           0                      0   \n",
       "1        0       0  ...                0           0                      0   \n",
       "2        0       0  ...                0           0                      0   \n",
       "3        0       0  ...                0           0                      0   \n",
       "4        0       0  ...                0           0                      0   \n",
       "\n",
       "   Wrapping Vegetables  Yellow Corvina Fish  Yellow Corvina Fish Gift Sets  \\\n",
       "0                    0                    0                              0   \n",
       "1                    0                    0                              0   \n",
       "2                    0                    0                              0   \n",
       "3                    0                    0                              0   \n",
       "4                    0                    0                              0   \n",
       "\n",
       "   Yogurt Drinks  Young Pumpkins  Young Radishes  kelp  \n",
       "0              0               0               0     0  \n",
       "1              0               0               0     0  \n",
       "2              0               0               0     0  \n",
       "3              0               0               0     0  \n",
       "4              0               0               0     0  \n",
       "\n",
       "[5 rows x 476 columns]"
      ]
     },
     "execution_count": 254,
     "metadata": {},
     "output_type": "execute_result"
    }
   ],
   "source": [
    "purc_df.head() # 음식카테고리 중 적어도 하나 이상을 산 세션"
   ]
  },
  {
   "cell_type": "code",
   "execution_count": 259,
   "metadata": {
    "ExecuteTime": {
     "end_time": "2020-01-04T09:56:24.445670Z",
     "start_time": "2020-01-04T09:56:24.425637Z"
    }
   },
   "outputs": [],
   "source": [
    "tot_purc_session_by_day = purc_df.groupby([\"clnt_id\",\"sess_id\",\"month\",\"day\"]).size().reset_index().groupby([\"month\",'day']).size().reset_index(name = \"tot_purc_sess_count\")"
   ]
  },
  {
   "cell_type": "code",
   "execution_count": 260,
   "metadata": {
    "ExecuteTime": {
     "end_time": "2020-01-04T09:56:46.228038Z",
     "start_time": "2020-01-04T09:56:46.220038Z"
    }
   },
   "outputs": [],
   "source": [
    "purc_rate_by_day = pd.concat([tot_purc_session_by_day[[\"tot_purc_sess_count\"]], tot_sess_count_by_day[[\"tot_sess_count\"]]], axis=1)"
   ]
  },
  {
   "cell_type": "code",
   "execution_count": 262,
   "metadata": {
    "ExecuteTime": {
     "end_time": "2020-01-04T09:56:58.965251Z",
     "start_time": "2020-01-04T09:56:58.957251Z"
    }
   },
   "outputs": [],
   "source": [
    "purc_rate_by_day[\"purc_rate\"] = np.round(purc_rate_by_day.tot_purc_sess_count / purc_rate_by_day.tot_sess_count, 4) * 100"
   ]
  },
  {
   "cell_type": "code",
   "execution_count": 267,
   "metadata": {
    "ExecuteTime": {
     "end_time": "2020-01-04T09:57:57.378492Z",
     "start_time": "2020-01-04T09:57:57.370525Z"
    }
   },
   "outputs": [],
   "source": [
    "purc_rate_by_day.set_index(pd.date_range(start=\"20190701\", end = \"20190930\"), inplace=True)"
   ]
  },
  {
   "cell_type": "code",
   "execution_count": 6,
   "metadata": {
    "ExecuteTime": {
     "end_time": "2020-01-08T03:41:41.725268Z",
     "start_time": "2020-01-08T03:41:41.717277Z"
    }
   },
   "outputs": [
    {
     "data": {
      "text/plain": [
       "'# 전체세션갯수 ( 구매하지 않은 세션포함 )\\n# 음식을 구매한 세션의 수 \\npurc_rate_by_day.drop([\"tot_purc_sess_count\",\"tot_sess_count\"], axis=1).plot(figsize = (16,6), title = \"음식카테고리 구매율 추이\")'"
      ]
     },
     "execution_count": 6,
     "metadata": {},
     "output_type": "execute_result"
    }
   ],
   "source": [
    "\"\"\"# 전체세션갯수 ( 구매하지 않은 세션포함 )\n",
    "# 음식을 구매한 세션의 수 \n",
    "purc_rate_by_day.drop([\"tot_purc_sess_count\",\"tot_sess_count\"], axis=1).plot(figsize = (16,6), title = \"음식카테고리 구매율 추이\")\"\"\""
   ]
  },
  {
   "cell_type": "code",
   "execution_count": 7,
   "metadata": {
    "ExecuteTime": {
     "end_time": "2020-01-08T03:41:45.191237Z",
     "start_time": "2020-01-08T03:41:45.183249Z"
    }
   },
   "outputs": [
    {
     "data": {
      "text/plain": [
       "'purc_rate_by_day.drop([\"tot_purc_sess_count\",\"tot_sess_count\"], axis=1).resample(\"M\").mean().plot(figsize = (16,6), title = \"음식카테고리 구매율 추이(월별)\")\\npurc_rate_by_day.drop([\"tot_purc_sess_count\",\"tot_sess_count\"], axis=1).resample(\"7D\").mean().plot(figsize = (16,6), title = \"음식카테고리 구매율 추이(주별)\")\\npurc_rate_by_day.drop([\"tot_purc_sess_count\",\"tot_sess_count\"], axis=1).plot(figsize = (16,6), title = \"음식카테고리 구매율 추이(일별)\")'"
      ]
     },
     "execution_count": 7,
     "metadata": {},
     "output_type": "execute_result"
    }
   ],
   "source": [
    "\"\"\"purc_rate_by_day.drop([\"tot_purc_sess_count\",\"tot_sess_count\"], axis=1).resample(\"M\").mean().plot(figsize = (16,6), title = \"음식카테고리 구매율 추이(월별)\")\n",
    "purc_rate_by_day.drop([\"tot_purc_sess_count\",\"tot_sess_count\"], axis=1).resample(\"7D\").mean().plot(figsize = (16,6), title = \"음식카테고리 구매율 추이(주별)\")\n",
    "purc_rate_by_day.drop([\"tot_purc_sess_count\",\"tot_sess_count\"], axis=1).plot(figsize = (16,6), title = \"음식카테고리 구매율 추이(일별)\")\"\"\""
   ]
  },
  {
   "cell_type": "code",
   "execution_count": null,
   "metadata": {},
   "outputs": [],
   "source": []
  },
  {
   "cell_type": "code",
   "execution_count": 327,
   "metadata": {
    "ExecuteTime": {
     "end_time": "2020-01-04T11:42:32.005670Z",
     "start_time": "2020-01-04T11:42:30.973640Z"
    }
   },
   "outputs": [
    {
     "data": {
      "text/plain": [
       "Text(0.5, 1.0, '평균세션접속시간 분포 비교 : 음식 / 비음식')"
      ]
     },
     "execution_count": 327,
     "metadata": {},
     "output_type": "execute_result"
    },
    {
     "data": {
      "image/png": "[encoded data removed]",
      "text/plain": [
       "<Figure size 864x432 with 1 Axes>"
      ]
     },
     "metadata": {
      "needs_background": "light"
     },
     "output_type": "display_data"
    }
   ],
   "source": [
    "fig, ax = plt.subplots(figsize= (12,6))\n",
    "sns.distplot(food_df.drop_duplicates([\"clnt_id\",\"sess_id\"], keep =\"first\").tot_sess_hr_v//60, ax = ax , hist = False, label = \"음식\", kde_kws={\"linewidth\" : 3, \"alpha\": .8})\n",
    "sns.distplot(online_df[~online_df.clac_nm1.isin(food_cat)].drop_duplicates([\"clnt_id\",\"sess_id\"], keep =\"first\").tot_sess_hr_v//60, ax = ax, hist = False, label = \"비음식\", kde_kws={\"linewidth\" : 3, \"alpha\": .8})\n",
    "# sns.distplot(online_df.drop_duplicates([\"clnt_id\",\"sess_id\"], keep =\"first\").tot_sess_hr_v//60, ax = ax, hist = False, label = \"total\", kde_kws={\"linewidth\" : 3, \"alpha\": .6})\n",
    "ax.set_xlabel(\"평균 접속시간(분)\")\n",
    "ax.set_title(\"평균세션접속시간 분포 비교 : 음식 / 비음식\")"
   ]
  },
  {
   "cell_type": "code",
   "execution_count": 319,
   "metadata": {
    "ExecuteTime": {
     "end_time": "2020-01-04T11:25:36.368667Z",
     "start_time": "2020-01-04T11:25:36.352667Z"
    }
   },
   "outputs": [
    {
     "data": {
      "text/plain": [
       "0.50    21.0\n",
       "0.75    36.0\n",
       "0.90    55.0\n",
       "0.95    70.0\n",
       "Name: tot_sess_hr_v, dtype: float64"
      ]
     },
     "execution_count": 319,
     "metadata": {},
     "output_type": "execute_result"
    }
   ],
   "source": [
    "(food_df.drop_duplicates([\"clnt_id\",\"sess_id\"], keep =\"first\").tot_sess_hr_v//60).quantile([.5, .75, .9, .95])"
   ]
  },
  {
   "cell_type": "code",
   "execution_count": 321,
   "metadata": {
    "ExecuteTime": {
     "end_time": "2020-01-04T11:26:53.782971Z",
     "start_time": "2020-01-04T11:26:52.894687Z"
    }
   },
   "outputs": [
    {
     "data": {
      "text/plain": [
       "0.50     3.0\n",
       "0.75    12.0\n",
       "0.90    28.0\n",
       "0.95    41.0\n",
       "Name: tot_sess_hr_v, dtype: float64"
      ]
     },
     "execution_count": 321,
     "metadata": {},
     "output_type": "execute_result"
    }
   ],
   "source": [
    "(online_df[~online_df.clac_nm1.isin(food_cat)].drop_duplicates([\"clnt_id\",\"sess_id\"], keep =\"first\").tot_sess_hr_v//60).quantile([.5, .75, .9, .95])"
   ]
  },
  {
   "cell_type": "code",
   "execution_count": 320,
   "metadata": {
    "ExecuteTime": {
     "end_time": "2020-01-04T11:25:51.653892Z",
     "start_time": "2020-01-04T11:25:51.561847Z"
    }
   },
   "outputs": [
    {
     "data": {
      "text/plain": [
       "0.50    16.0\n",
       "0.75    31.0\n",
       "0.90    50.0\n",
       "0.95    65.0\n",
       "Name: tot_sess_hr_v, dtype: float64"
      ]
     },
     "execution_count": 320,
     "metadata": {},
     "output_type": "execute_result"
    }
   ],
   "source": [
    "(online_df[online_df.action_type==6].drop_duplicates([\"clnt_id\",\"sess_id\"], keep =\"first\").tot_sess_hr_v//60).quantile([.5, .75, .9, .95])"
   ]
  },
  {
   "cell_type": "code",
   "execution_count": null,
   "metadata": {},
   "outputs": [],
   "source": []
  },
  {
   "cell_type": "code",
   "execution_count": 299,
   "metadata": {
    "ExecuteTime": {
     "end_time": "2020-01-04T11:18:31.546265Z",
     "start_time": "2020-01-04T11:18:31.330020Z"
    }
   },
   "outputs": [
    {
     "data": {
      "text/plain": [
       "<matplotlib.axes._subplots.AxesSubplot at 0x1439b8401d0>"
      ]
     },
     "execution_count": 299,
     "metadata": {},
     "output_type": "execute_result"
    },
    {
     "data": {
      "image/png": "[encoded data removed]",
      "text/plain": [
       "<Figure size 432x288 with 1 Axes>"
      ]
     },
     "metadata": {
      "needs_background": "light"
     },
     "output_type": "display_data"
    }
   ],
   "source": [
    "# 평균적으로 얼마동안 머물렀는지 \n",
    "sns.distplot(food_df.drop_duplicates([\"clnt_id\",\"sess_id\"], keep =\"first\").tot_sess_hr_v)"
   ]
  },
  {
   "cell_type": "code",
   "execution_count": 301,
   "metadata": {
    "ExecuteTime": {
     "end_time": "2020-01-04T11:18:56.778470Z",
     "start_time": "2020-01-04T11:18:56.510440Z"
    }
   },
   "outputs": [
    {
     "data": {
      "text/plain": [
       "<matplotlib.axes._subplots.AxesSubplot at 0x1439b9d3c88>"
      ]
     },
     "execution_count": 301,
     "metadata": {},
     "output_type": "execute_result"
    },
    {
     "data": {
      "image/png": "[encoded data removed]",
      "text/plain": [
       "<Figure size 432x288 with 1 Axes>"
      ]
     },
     "metadata": {
      "needs_background": "light"
     },
     "output_type": "display_data"
    }
   ],
   "source": [
    "sns.distplot(online_df[online_df.action_type==6].drop_duplicates([\"clnt_id\",\"sess_id\"], keep =\"first\").tot_sess_hr_v)"
   ]
  },
  {
   "cell_type": "code",
   "execution_count": null,
   "metadata": {},
   "outputs": [],
   "source": []
  },
  {
   "cell_type": "code",
   "execution_count": null,
   "metadata": {},
   "outputs": [],
   "source": [
    "# 어떤 유입채널이 제일 높은지 (순위)\n",
    "# 어떤 접속기기가 제일 높은지 (순위)"
   ]
  },
  {
   "cell_type": "code",
   "execution_count": 333,
   "metadata": {
    "ExecuteTime": {
     "end_time": "2020-01-04T11:54:02.772683Z",
     "start_time": "2020-01-04T11:54:02.744812Z"
    }
   },
   "outputs": [
    {
     "data": {
      "text/html": [
       "<div>\n",
       "<style scoped>\n",
       "    .dataframe tbody tr th:only-of-type {\n",
       "        vertical-align: middle;\n",
       "    }\n",
       "\n",
       "    .dataframe tbody tr th {\n",
       "        vertical-align: top;\n",
       "    }\n",
       "\n",
       "    .dataframe thead th {\n",
       "        text-align: right;\n",
       "    }\n",
       "</style>\n",
       "<table border=\"1\" class=\"dataframe\">\n",
       "  <thead>\n",
       "    <tr style=\"text-align: right;\">\n",
       "      <th></th>\n",
       "      <th>index</th>\n",
       "      <th>dvc_count</th>\n",
       "    </tr>\n",
       "  </thead>\n",
       "  <tbody>\n",
       "    <tr>\n",
       "      <th>0</th>\n",
       "      <td>unknown</td>\n",
       "      <td>7889</td>\n",
       "    </tr>\n",
       "    <tr>\n",
       "      <th>1</th>\n",
       "      <td>mobile_web</td>\n",
       "      <td>1904</td>\n",
       "    </tr>\n",
       "    <tr>\n",
       "      <th>2</th>\n",
       "      <td>mobile_app</td>\n",
       "      <td>550</td>\n",
       "    </tr>\n",
       "    <tr>\n",
       "      <th>3</th>\n",
       "      <td>PC</td>\n",
       "      <td>487</td>\n",
       "    </tr>\n",
       "  </tbody>\n",
       "</table>\n",
       "</div>"
      ],
      "text/plain": [
       "        index  dvc_count\n",
       "0     unknown       7889\n",
       "1  mobile_web       1904\n",
       "2  mobile_app        550\n",
       "3          PC        487"
      ]
     },
     "execution_count": 333,
     "metadata": {},
     "output_type": "execute_result"
    }
   ],
   "source": [
    "food_df.drop_duplicates([\"clnt_id\",\"sess_id\"], keep = \"first\").dvc_ctg_nm.value_counts().reset_index(name = \"dvc_count\")"
   ]
  },
  {
   "cell_type": "code",
   "execution_count": 350,
   "metadata": {
    "ExecuteTime": {
     "end_time": "2020-01-04T12:00:05.558941Z",
     "start_time": "2020-01-04T12:00:05.392945Z"
    }
   },
   "outputs": [
    {
     "data": {
      "text/plain": [
       "Text(0.5, 0, '접속기기')"
      ]
     },
     "execution_count": 350,
     "metadata": {},
     "output_type": "execute_result"
    },
    {
     "data": {
      "image/png": "[encoded data removed]",
      "text/plain": [
       "<Figure size 864x360 with 1 Axes>"
      ]
     },
     "metadata": {
      "needs_background": "light"
     },
     "output_type": "display_data"
    }
   ],
   "source": [
    "fig, ax = plt.subplots(figsize = (12,5))\n",
    "sns.barplot(x=\"index\", y=\"dvc_count\", data = food_df.drop_duplicates([\"clnt_id\",\"sess_id\"], keep = \"first\").dvc_ctg_nm.value_counts().reset_index(name = \"dvc_count\"), ax = ax)\n",
    "\n",
    "total = food_df.drop_duplicates([\"clnt_id\",\"sess_id\"], keep = \"first\").shape[0]\n",
    "\n",
    "for p in ax.patches:\n",
    "    height = p.get_height()\n",
    "    ax.text(p.get_x()+p.get_width()/2.5, height + 100,\n",
    "          \"{0:.2f}%\".format(height/total * 100), fontsize= 12)\n",
    "    \n",
    "ax.set_title(\"음식구매세션 접속기기 비율 분포\", fontsize = 16)\n",
    "ax.set_xlabel(\"접속기기\", fontsize = 12)"
   ]
  },
  {
   "cell_type": "code",
   "execution_count": 380,
   "metadata": {
    "ExecuteTime": {
     "end_time": "2020-01-04T12:26:36.997597Z",
     "start_time": "2020-01-04T12:26:36.315291Z"
    }
   },
   "outputs": [
    {
     "data": {
      "image/png": "[encoded data removed]",
      "text/plain": [
       "<Figure size 1440x360 with 2 Axes>"
      ]
     },
     "metadata": {
      "needs_background": "light"
     },
     "output_type": "display_data"
    }
   ],
   "source": [
    "fig, ax = plt.subplots(ncols=2, figsize = (20,5))\n",
    "\n",
    "sns.barplot(x=\"index\", y=\"dvc_count\", data = food_df.drop_duplicates([\"clnt_id\",\"sess_id\"], keep = \"first\").dvc_ctg_nm.value_counts().reset_index(name = \"dvc_count\"), ax = ax[0])\n",
    "sns.barplot(x=\"index\", y=\"dvc_count\", data = online_df[(~online_df.clac_nm1.isin(food_cat)) & (online_df.action_type == 6)].drop_duplicates([\"clnt_id\",\"sess_id\"], keep = \"first\").dvc_ctg_nm.value_counts().reset_index(name = \"dvc_count\"), ax = ax[1])\n",
    "\n",
    "total = food_df.drop_duplicates([\"clnt_id\",\"sess_id\"], keep = \"first\").shape[0]\n",
    "total1 = online_df[(~online_df.clac_nm1.isin(food_cat)) & (online_df.action_type == 6)].drop_duplicates([\"clnt_id\",\"sess_id\"], keep = \"first\").shape[0]\n",
    "\n",
    "for p in ax[0].patches:\n",
    "    height = p.get_height()\n",
    "    ax[0].text(p.get_x()+p.get_width()/2.5, height + 100,\n",
    "          \"{0:.2f}%\".format(height/total * 100), fontsize= 12)\n",
    "\n",
    "for p in ax[1].patches:\n",
    "    height = p.get_height()\n",
    "    ax[1].text(p.get_x()+p.get_width()/2.5, height + 100,\n",
    "          \"{0:.2f}%\".format(height/total1 * 100), fontsize= 12)\n",
    "\"\"\"    \n",
    "g1 = ax[0].twinx()\n",
    "g1 = sns.pointplot(tmp_df.device, tmp_df.dvc_rate, color = 'k')\n",
    "\n",
    "g2 = ax[1].twinx()\n",
    "g2 = sns.pointplot(tmp_df.device, tmp_df.dvc_rate, color = 'k')\n",
    "\"\"\"\n",
    "ax[0].set_title(\"음식구매세션 접속기기 비율 분포\", fontsize = 16)\n",
    "ax[0].set_xlabel(\"접속기기\", fontsize = 12)\n",
    "\n",
    "ax[1].set_title(\"비음식구매세션 접속기기 비율 분포\", fontsize = 16)\n",
    "ax[1].set_xlabel(\"접속기기\", fontsize = 12)\n",
    "\n",
    "# fig.savefig(\"./plots/음식_비음식_구매세션_접속기기비율비교2.png\")"
   ]
  },
  {
   "cell_type": "code",
   "execution_count": 359,
   "metadata": {
    "ExecuteTime": {
     "end_time": "2020-01-04T12:11:34.950720Z",
     "start_time": "2020-01-04T12:11:34.870650Z"
    }
   },
   "outputs": [],
   "source": [
    "tmp_df = online_df[online_df.action_type==6].drop_duplicates([\"clnt_id\",\"sess_id\"], keep = \"first\").dvc_ctg_nm.value_counts().reset_index(name = \"dvc_count\")\n",
    "tmp_df.rename(columns={'index':\"device\"}, inplace=True)\n",
    "tmp_df[\"dvc_rate\"] = np.round(tmp_df.dvc_count/tmp_df.dvc_count.sum(),4)*100"
   ]
  },
  {
   "cell_type": "code",
   "execution_count": 377,
   "metadata": {
    "ExecuteTime": {
     "end_time": "2020-01-04T12:25:06.812333Z",
     "start_time": "2020-01-04T12:25:06.800285Z"
    }
   },
   "outputs": [
    {
     "data": {
      "text/html": [
       "<div>\n",
       "<style scoped>\n",
       "    .dataframe tbody tr th:only-of-type {\n",
       "        vertical-align: middle;\n",
       "    }\n",
       "\n",
       "    .dataframe tbody tr th {\n",
       "        vertical-align: top;\n",
       "    }\n",
       "\n",
       "    .dataframe thead th {\n",
       "        text-align: right;\n",
       "    }\n",
       "</style>\n",
       "<table border=\"1\" class=\"dataframe\">\n",
       "  <thead>\n",
       "    <tr style=\"text-align: right;\">\n",
       "      <th></th>\n",
       "      <th>device</th>\n",
       "      <th>dvc_count</th>\n",
       "      <th>dvc_rate</th>\n",
       "    </tr>\n",
       "  </thead>\n",
       "  <tbody>\n",
       "    <tr>\n",
       "      <th>0</th>\n",
       "      <td>unknown</td>\n",
       "      <td>19542</td>\n",
       "      <td>41.22</td>\n",
       "    </tr>\n",
       "    <tr>\n",
       "      <th>1</th>\n",
       "      <td>mobile_app</td>\n",
       "      <td>12155</td>\n",
       "      <td>25.64</td>\n",
       "    </tr>\n",
       "    <tr>\n",
       "      <th>2</th>\n",
       "      <td>mobile_web</td>\n",
       "      <td>12107</td>\n",
       "      <td>25.54</td>\n",
       "    </tr>\n",
       "    <tr>\n",
       "      <th>3</th>\n",
       "      <td>PC</td>\n",
       "      <td>3603</td>\n",
       "      <td>7.60</td>\n",
       "    </tr>\n",
       "  </tbody>\n",
       "</table>\n",
       "</div>"
      ],
      "text/plain": [
       "       device  dvc_count  dvc_rate\n",
       "0     unknown      19542     41.22\n",
       "1  mobile_app      12155     25.64\n",
       "2  mobile_web      12107     25.54\n",
       "3          PC       3603      7.60"
      ]
     },
     "execution_count": 377,
     "metadata": {},
     "output_type": "execute_result"
    }
   ],
   "source": [
    "tmp_df"
   ]
  },
  {
   "cell_type": "code",
   "execution_count": 353,
   "metadata": {
    "ExecuteTime": {
     "end_time": "2020-01-04T12:02:47.520973Z",
     "start_time": "2020-01-04T12:02:47.238770Z"
    }
   },
   "outputs": [
    {
     "data": {
      "text/plain": [
       "Text(0.5, 0, '접속기기')"
      ]
     },
     "execution_count": 353,
     "metadata": {},
     "output_type": "execute_result"
    },
    {
     "data": {
      "image/png": "[encoded data removed]",
      "text/plain": [
       "<Figure size 864x360 with 1 Axes>"
      ]
     },
     "metadata": {
      "needs_background": "light"
     },
     "output_type": "display_data"
    }
   ],
   "source": [
    "fig, ax = plt.subplots(figsize = (12,5))\n",
    "sns.barplot(x=\"index\", y=\"dvc_count\", data = online_df[online_df.action_type==6].drop_duplicates([\"clnt_id\",\"sess_id\"], keep = \"first\").dvc_ctg_nm.value_counts().reset_index(name = \"dvc_count\"), ax = ax)\n",
    "\n",
    "total = online_df[online_df.action_type==6].drop_duplicates([\"clnt_id\",\"sess_id\"], keep = \"first\").shape[0]\n",
    "\n",
    "for p in ax.patches:\n",
    "    height = p.get_height()\n",
    "    ax.text(p.get_x()+p.get_width()/2.5, height + 100,\n",
    "          \"{0:.2f}%\".format(height/total * 100), fontsize= 12)\n",
    "    \n",
    "ax.set_title(\"구매세션 접속기기 비율 분포\", fontsize = 16)\n",
    "ax.set_xlabel(\"접속기기\", fontsize = 12)"
   ]
  },
  {
   "cell_type": "code",
   "execution_count": null,
   "metadata": {},
   "outputs": [],
   "source": []
  },
  {
   "cell_type": "code",
   "execution_count": null,
   "metadata": {},
   "outputs": [],
   "source": [
    "#접속경로"
   ]
  },
  {
   "cell_type": "code",
   "execution_count": 207,
   "metadata": {
    "ExecuteTime": {
     "end_time": "2020-01-05T05:22:18.024880Z",
     "start_time": "2020-01-05T05:22:18.004886Z"
    }
   },
   "outputs": [],
   "source": [
    "tmp_src = food_df.drop_duplicates([\"clnt_id\",\"sess_id\"], keep = \"first\").trfc_src.value_counts().reset_index(name = \"src_count\")"
   ]
  },
  {
   "cell_type": "code",
   "execution_count": 105,
   "metadata": {
    "ExecuteTime": {
     "end_time": "2020-01-05T03:27:17.398031Z",
     "start_time": "2020-01-05T03:27:17.393045Z"
    }
   },
   "outputs": [],
   "source": [
    "tmp_src = pd.concat([tmp_src, pd.DataFrame({\"index\" : \"PORTAL_ALL\", \"src_count\" : 1}, index = [7])])\n",
    "tmp_src.loc[tmp_src['index'] == \"PORTAL_ALL\", \"src_count\"] = tmp_src.iloc[4:7,1].sum()\n",
    "tmp_src = tmp_src.iloc[[0,1,2,3,7],:].reset_index(drop = True)"
   ]
  },
  {
   "cell_type": "code",
   "execution_count": 77,
   "metadata": {
    "ExecuteTime": {
     "end_time": "2020-01-05T03:20:22.487574Z",
     "start_time": "2020-01-05T03:20:22.404561Z"
    }
   },
   "outputs": [],
   "source": [
    "tmp_df = online_df[online_df.action_type==6].drop_duplicates([\"clnt_id\",\"sess_id\"], keep = \"first\").trfc_src.value_counts().reset_index(name = \"src_count\")\n",
    "tmp_df.rename(columns={'index':\"src\"}, inplace=True)\n",
    "tmp_df[\"dvc_rate\"] = np.round(tmp_df.src_count/tmp_df.src_count.sum(),4)*100"
   ]
  },
  {
   "cell_type": "code",
   "execution_count": 126,
   "metadata": {
    "ExecuteTime": {
     "end_time": "2020-01-05T03:31:51.674020Z",
     "start_time": "2020-01-05T03:31:51.223564Z"
    }
   },
   "outputs": [],
   "source": [
    "tmp_src2 = online_df[(~online_df.clac_nm1.isin(food_cat)) & (online_df.action_type == 6)].drop_duplicates([\"clnt_id\",\"sess_id\"], keep = \"first\").trfc_src.value_counts().reset_index(name = \"src_count\")"
   ]
  },
  {
   "cell_type": "code",
   "execution_count": 127,
   "metadata": {
    "ExecuteTime": {
     "end_time": "2020-01-05T03:32:16.051838Z",
     "start_time": "2020-01-05T03:32:16.043833Z"
    }
   },
   "outputs": [],
   "source": [
    "tmp_src2 = pd.concat([tmp_src2, pd.DataFrame({\"index\" : \"PORTAL_ALL\", \"src_count\" : 1}, index = [7])])\n",
    "tmp_src2.loc[tmp_src2['index'] == \"PORTAL_ALL\", \"src_count\"] = tmp_src2.iloc[4:7,1].sum()\n",
    "tmp_src2 = tmp_src2.iloc[[0,1,2,3,7],:].reset_index(drop = True)"
   ]
  },
  {
   "cell_type": "code",
   "execution_count": null,
   "metadata": {},
   "outputs": [],
   "source": []
  },
  {
   "cell_type": "code",
   "execution_count": 129,
   "metadata": {
    "ExecuteTime": {
     "end_time": "2020-01-05T03:32:38.728597Z",
     "start_time": "2020-01-05T03:32:38.002270Z"
    }
   },
   "outputs": [
    {
     "data": {
      "text/plain": [
       "Text(0.5, 0, '접속기기')"
      ]
     },
     "execution_count": 129,
     "metadata": {},
     "output_type": "execute_result"
    },
    {
     "data": {
      "image/png": "[encoded data removed]",
      "text/plain": [
       "<Figure size 1440x360 with 2 Axes>"
      ]
     },
     "metadata": {
      "needs_background": "light"
     },
     "output_type": "display_data"
    }
   ],
   "source": [
    "fig, ax = plt.subplots(ncols=2, figsize = (20,5))\n",
    "\n",
    "#sns.barplot(x=\"index\", y=\"src_count\", data = food_df.drop_duplicates([\"clnt_id\",\"sess_id\"], keep = \"first\").trfc_src.value_counts().reset_index(name = \"src_count\"), ax = ax[0])\n",
    "sns.barplot(x=\"index\", y=\"src_count\", data = tmp_src, ax = ax[0])\n",
    "\n",
    "sns.barplot(x=\"index\", y=\"src_count\", data = tmp_src2, ax = ax[1])\n",
    "\n",
    "total = food_df.drop_duplicates([\"clnt_id\",\"sess_id\"], keep = \"first\").shape[0]\n",
    "total1 = online_df[(~online_df.clac_nm1.isin(food_cat)) & (online_df.action_type == 6)].drop_duplicates([\"clnt_id\",\"sess_id\"], keep = \"first\").shape[0]\n",
    "\n",
    "for p in ax[0].patches:\n",
    "    height = p.get_height()\n",
    "    ax[0].text(p.get_x()+p.get_width()/4, height + 75,\n",
    "          \"{0:.2f}%\".format(height/total * 100), fontsize= 12)\n",
    "\n",
    "for p in ax[1].patches:\n",
    "    height = p.get_height()\n",
    "    ax[1].text(p.get_x()+p.get_width()/4, height + 75,\n",
    "          \"{0:.2f}%\".format(height/total1 * 100), fontsize= 12)\n",
    "    \n",
    "\"\"\"\n",
    "g1 = ax[0].twinx()\n",
    "g1 = sns.pointplot(tmp_df.src, tmp_df.dvc_rate, color = 'k')\n",
    "\n",
    "g2 = ax[1].twinx()\n",
    "g2 = sns.pointplot(tmp_df.src, tmp_df.dvc_rate, color = 'k')\n",
    "\"\"\"\n",
    "ax[0].set_title(\"음식구매세션 접속경로 비율 분포\", fontsize = 16)\n",
    "ax[0].set_xlabel(\"접속기기\", fontsize = 12)\n",
    "\n",
    "ax[1].set_title(\"비음식구매세션 접속경로 비율 분포\", fontsize = 16)\n",
    "ax[1].set_xlabel(\"접속경로\", fontsize = 12)\n",
    "\n",
    "# fig.savefig(\"./plots/음식_비음식_구매세션_접속기기비율비교2.png\")"
   ]
  },
  {
   "cell_type": "code",
   "execution_count": 130,
   "metadata": {
    "ExecuteTime": {
     "end_time": "2020-01-05T03:34:29.985247Z",
     "start_time": "2020-01-05T03:34:29.968435Z"
    }
   },
   "outputs": [
    {
     "data": {
      "text/html": [
       "<div>\n",
       "<style scoped>\n",
       "    .dataframe tbody tr th:only-of-type {\n",
       "        vertical-align: middle;\n",
       "    }\n",
       "\n",
       "    .dataframe tbody tr th {\n",
       "        vertical-align: top;\n",
       "    }\n",
       "\n",
       "    .dataframe thead th {\n",
       "        text-align: right;\n",
       "    }\n",
       "</style>\n",
       "<table border=\"1\" class=\"dataframe\">\n",
       "  <thead>\n",
       "    <tr style=\"text-align: right;\">\n",
       "      <th></th>\n",
       "      <th>index</th>\n",
       "      <th>src_count</th>\n",
       "    </tr>\n",
       "  </thead>\n",
       "  <tbody>\n",
       "    <tr>\n",
       "      <th>0</th>\n",
       "      <td>DIRECT</td>\n",
       "      <td>7295</td>\n",
       "    </tr>\n",
       "    <tr>\n",
       "      <th>1</th>\n",
       "      <td>PUSH</td>\n",
       "      <td>2437</td>\n",
       "    </tr>\n",
       "    <tr>\n",
       "      <th>2</th>\n",
       "      <td>unknown</td>\n",
       "      <td>768</td>\n",
       "    </tr>\n",
       "    <tr>\n",
       "      <th>3</th>\n",
       "      <td>WEBSITE</td>\n",
       "      <td>109</td>\n",
       "    </tr>\n",
       "    <tr>\n",
       "      <th>4</th>\n",
       "      <td>PORTAL_ALL</td>\n",
       "      <td>221</td>\n",
       "    </tr>\n",
       "  </tbody>\n",
       "</table>\n",
       "</div>"
      ],
      "text/plain": [
       "        index  src_count\n",
       "0      DIRECT       7295\n",
       "1        PUSH       2437\n",
       "2     unknown        768\n",
       "3     WEBSITE        109\n",
       "4  PORTAL_ALL        221"
      ]
     },
     "execution_count": 130,
     "metadata": {},
     "output_type": "execute_result"
    }
   ],
   "source": [
    "tmp_src"
   ]
  },
  {
   "cell_type": "code",
   "execution_count": null,
   "metadata": {},
   "outputs": [],
   "source": []
  },
  {
   "cell_type": "code",
   "execution_count": 16,
   "metadata": {
    "ExecuteTime": {
     "end_time": "2020-01-07T16:03:35.743080Z",
     "start_time": "2020-01-07T16:03:35.679163Z"
    }
   },
   "outputs": [
    {
     "data": {
      "image/png": "[encoded data removed]",
      "text/plain": [
       "<Figure size 432x432 with 1 Axes>"
      ]
     },
     "metadata": {},
     "output_type": "display_data"
    }
   ],
   "source": [
    "# group_colors = [\"skyblue\",'magenta', 'yellowgreen', \"orange\" ,\"red\"]\n",
    "group_explodes = [0.05, 0]\n",
    "\n",
    "plt.figure(figsize = (6,6))\n",
    "plt.pie([469,1015-469], \n",
    "        explode=group_explodes, \n",
    "        labels=[\"food\",\"notfood\"], # lightslategray\n",
    "        colors=['wheat','coral'], \n",
    "        autopct='%1.2f%%', # second decimal place\n",
    "        shadow=True,\n",
    "        startangle=90,\n",
    "        textprops={'fontsize': 13}) # text font size\n",
    "plt.axis('equal') #  equal length of X and Y axis\n",
    "plt.title('Number of Categories', fontsize=20)\n",
    "\n",
    "plt.show()\n"
   ]
  },
  {
   "cell_type": "code",
   "execution_count": 418,
   "metadata": {
    "ExecuteTime": {
     "end_time": "2020-01-05T11:37:32.229090Z",
     "start_time": "2020-01-05T11:37:32.118386Z"
    }
   },
   "outputs": [
    {
     "ename": "ValueError",
     "evalue": "'explode' must be of length 'x'",
     "output_type": "error",
     "traceback": [
      "\u001b[1;31m---------------------------------------------------------------------------\u001b[0m",
      "\u001b[1;31mValueError\u001b[0m                                Traceback (most recent call last)",
      "\u001b[1;32m<ipython-input-418-d255fb3e8d6a>\u001b[0m in \u001b[0;36m<module>\u001b[1;34m()\u001b[0m\n\u001b[0;32m     10\u001b[0m         \u001b[0mshadow\u001b[0m\u001b[1;33m=\u001b[0m\u001b[1;32mTrue\u001b[0m\u001b[1;33m,\u001b[0m\u001b[1;33m\u001b[0m\u001b[1;33m\u001b[0m\u001b[0m\n\u001b[0;32m     11\u001b[0m         \u001b[0mstartangle\u001b[0m\u001b[1;33m=\u001b[0m\u001b[1;36m90\u001b[0m\u001b[1;33m,\u001b[0m\u001b[1;33m\u001b[0m\u001b[1;33m\u001b[0m\u001b[0m\n\u001b[1;32m---> 12\u001b[1;33m         textprops={'fontsize': 12}) # text font size\n\u001b[0m\u001b[0;32m     13\u001b[0m \u001b[0mplt\u001b[0m\u001b[1;33m.\u001b[0m\u001b[0maxis\u001b[0m\u001b[1;33m(\u001b[0m\u001b[1;34m'equal'\u001b[0m\u001b[1;33m)\u001b[0m \u001b[1;31m#  equal length of X and Y axis\u001b[0m\u001b[1;33m\u001b[0m\u001b[1;33m\u001b[0m\u001b[0m\n\u001b[0;32m     14\u001b[0m \u001b[0mplt\u001b[0m\u001b[1;33m.\u001b[0m\u001b[0mtitle\u001b[0m\u001b[1;33m(\u001b[0m\u001b[1;34m'Category Numbers'\u001b[0m\u001b[1;33m,\u001b[0m \u001b[0mfontsize\u001b[0m\u001b[1;33m=\u001b[0m\u001b[1;36m20\u001b[0m\u001b[1;33m)\u001b[0m\u001b[1;33m\u001b[0m\u001b[1;33m\u001b[0m\u001b[0m\n",
      "\u001b[1;32mc:\\python37\\lib\\site-packages\\matplotlib\\pyplot.py\u001b[0m in \u001b[0;36mpie\u001b[1;34m(x, explode, labels, colors, autopct, pctdistance, shadow, labeldistance, startangle, radius, counterclock, wedgeprops, textprops, center, frame, rotatelabels, data)\u001b[0m\n\u001b[0;32m   2801\u001b[0m         \u001b[0mwedgeprops\u001b[0m\u001b[1;33m=\u001b[0m\u001b[0mwedgeprops\u001b[0m\u001b[1;33m,\u001b[0m \u001b[0mtextprops\u001b[0m\u001b[1;33m=\u001b[0m\u001b[0mtextprops\u001b[0m\u001b[1;33m,\u001b[0m \u001b[0mcenter\u001b[0m\u001b[1;33m=\u001b[0m\u001b[0mcenter\u001b[0m\u001b[1;33m,\u001b[0m\u001b[1;33m\u001b[0m\u001b[1;33m\u001b[0m\u001b[0m\n\u001b[0;32m   2802\u001b[0m         frame=frame, rotatelabels=rotatelabels, **({\"data\": data} if\n\u001b[1;32m-> 2803\u001b[1;33m         data is not None else {}))\n\u001b[0m\u001b[0;32m   2804\u001b[0m \u001b[1;33m\u001b[0m\u001b[0m\n\u001b[0;32m   2805\u001b[0m \u001b[1;33m\u001b[0m\u001b[0m\n",
      "\u001b[1;32mc:\\python37\\lib\\site-packages\\matplotlib\\__init__.py\u001b[0m in \u001b[0;36minner\u001b[1;34m(ax, data, *args, **kwargs)\u001b[0m\n\u001b[0;32m   1808\u001b[0m                         \u001b[1;34m\"the Matplotlib list!)\"\u001b[0m \u001b[1;33m%\u001b[0m \u001b[1;33m(\u001b[0m\u001b[0mlabel_namer\u001b[0m\u001b[1;33m,\u001b[0m \u001b[0mfunc\u001b[0m\u001b[1;33m.\u001b[0m\u001b[0m__name__\u001b[0m\u001b[1;33m)\u001b[0m\u001b[1;33m,\u001b[0m\u001b[1;33m\u001b[0m\u001b[1;33m\u001b[0m\u001b[0m\n\u001b[0;32m   1809\u001b[0m                         RuntimeWarning, stacklevel=2)\n\u001b[1;32m-> 1810\u001b[1;33m             \u001b[1;32mreturn\u001b[0m \u001b[0mfunc\u001b[0m\u001b[1;33m(\u001b[0m\u001b[0max\u001b[0m\u001b[1;33m,\u001b[0m \u001b[1;33m*\u001b[0m\u001b[0margs\u001b[0m\u001b[1;33m,\u001b[0m \u001b[1;33m**\u001b[0m\u001b[0mkwargs\u001b[0m\u001b[1;33m)\u001b[0m\u001b[1;33m\u001b[0m\u001b[1;33m\u001b[0m\u001b[0m\n\u001b[0m\u001b[0;32m   1811\u001b[0m \u001b[1;33m\u001b[0m\u001b[0m\n\u001b[0;32m   1812\u001b[0m         inner.__doc__ = _add_data_doc(inner.__doc__,\n",
      "\u001b[1;32mc:\\python37\\lib\\site-packages\\matplotlib\\axes\\_axes.py\u001b[0m in \u001b[0;36mpie\u001b[1;34m(self, x, explode, labels, colors, autopct, pctdistance, shadow, labeldistance, startangle, radius, counterclock, wedgeprops, textprops, center, frame, rotatelabels)\u001b[0m\n\u001b[0;32m   2810\u001b[0m             \u001b[1;32mraise\u001b[0m \u001b[0mValueError\u001b[0m\u001b[1;33m(\u001b[0m\u001b[1;34m\"'label' must be of length 'x'\"\u001b[0m\u001b[1;33m)\u001b[0m\u001b[1;33m\u001b[0m\u001b[1;33m\u001b[0m\u001b[0m\n\u001b[0;32m   2811\u001b[0m         \u001b[1;32mif\u001b[0m \u001b[0mlen\u001b[0m\u001b[1;33m(\u001b[0m\u001b[0mx\u001b[0m\u001b[1;33m)\u001b[0m \u001b[1;33m!=\u001b[0m \u001b[0mlen\u001b[0m\u001b[1;33m(\u001b[0m\u001b[0mexplode\u001b[0m\u001b[1;33m)\u001b[0m\u001b[1;33m:\u001b[0m\u001b[1;33m\u001b[0m\u001b[1;33m\u001b[0m\u001b[0m\n\u001b[1;32m-> 2812\u001b[1;33m             \u001b[1;32mraise\u001b[0m \u001b[0mValueError\u001b[0m\u001b[1;33m(\u001b[0m\u001b[1;34m\"'explode' must be of length 'x'\"\u001b[0m\u001b[1;33m)\u001b[0m\u001b[1;33m\u001b[0m\u001b[1;33m\u001b[0m\u001b[0m\n\u001b[0m\u001b[0;32m   2813\u001b[0m         \u001b[1;32mif\u001b[0m \u001b[0mcolors\u001b[0m \u001b[1;32mis\u001b[0m \u001b[1;32mNone\u001b[0m\u001b[1;33m:\u001b[0m\u001b[1;33m\u001b[0m\u001b[1;33m\u001b[0m\u001b[0m\n\u001b[0;32m   2814\u001b[0m             \u001b[0mget_next_color\u001b[0m \u001b[1;33m=\u001b[0m \u001b[0mself\u001b[0m\u001b[1;33m.\u001b[0m\u001b[0m_get_patches_for_fill\u001b[0m\u001b[1;33m.\u001b[0m\u001b[0mget_next_color\u001b[0m\u001b[1;33m\u001b[0m\u001b[1;33m\u001b[0m\u001b[0m\n",
      "\u001b[1;31mValueError\u001b[0m: 'explode' must be of length 'x'"
     ]
    },
    {
     "data": {
      "image/png": "[encoded data removed]",
      "text/plain": [
       "<Figure size 432x432 with 1 Axes>"
      ]
     },
     "metadata": {
      "needs_background": "light"
     },
     "output_type": "display_data"
    }
   ],
   "source": [
    "group_colors = [\"skyblue\",'magenta', 'yellowgreen', \"orange\" ,\"red\"]\n",
    "group_explodes = [0.1, 0, 0, 0, 0]\n",
    "\n",
    "plt.figure(figsize = (6,6))\n",
    "plt.pie(tmp_src.src_count, \n",
    "        explode=group_explodes, \n",
    "        labels=tmp_src['index'], \n",
    "        colors=group_colors, \n",
    "        autopct='%1.2f%%', # second decimal place\n",
    "        shadow=True,\n",
    "        startangle=90,\n",
    "        textprops={'fontsize': 12}) # text font size\n",
    "plt.axis('equal') #  equal length of X and Y axis\n",
    "plt.title('Category Numbers', fontsize=20)\n",
    "\n",
    "plt.show()\n"
   ]
  },
  {
   "cell_type": "code",
   "execution_count": null,
   "metadata": {},
   "outputs": [],
   "source": []
  },
  {
   "cell_type": "code",
   "execution_count": null,
   "metadata": {},
   "outputs": [],
   "source": []
  },
  {
   "cell_type": "code",
   "execution_count": null,
   "metadata": {},
   "outputs": [],
   "source": [
    "# 음식구매세션 action_type분포"
   ]
  },
  {
   "cell_type": "code",
   "execution_count": 8,
   "metadata": {
    "ExecuteTime": {
     "end_time": "2020-01-06T12:17:37.001114Z",
     "start_time": "2020-01-06T12:17:35.457472Z"
    }
   },
   "outputs": [],
   "source": [
    "tmp = pd.read_csv(\"buying_list_clac3.csv\")"
   ]
  },
  {
   "cell_type": "code",
   "execution_count": 11,
   "metadata": {
    "ExecuteTime": {
     "end_time": "2020-01-05T02:15:19.742671Z",
     "start_time": "2020-01-05T02:15:19.722870Z"
    }
   },
   "outputs": [],
   "source": [
    "# tmp.iloc[:,1:-1].iloc[:,~tmp.columns.map(cat3_to_cat1).dropna().isin(food_cat)].sum(axis=1)[tmp.iloc[:,1:-1].iloc[:,~tmp.columns.map(cat3_to_cat1).dropna().isin(food_cat)].sum(axis=1) == 0].index"
   ]
  },
  {
   "cell_type": "code",
   "execution_count": 12,
   "metadata": {
    "ExecuteTime": {
     "end_time": "2020-01-06T12:18:37.181136Z",
     "start_time": "2020-01-06T12:18:37.178106Z"
    }
   },
   "outputs": [],
   "source": [
    "buying_list = tmp"
   ]
  },
  {
   "cell_type": "code",
   "execution_count": 9,
   "metadata": {
    "ExecuteTime": {
     "end_time": "2020-01-06T12:17:39.536042Z",
     "start_time": "2020-01-06T12:17:39.532085Z"
    }
   },
   "outputs": [],
   "source": [
    "import copy"
   ]
  },
  {
   "cell_type": "code",
   "execution_count": 16,
   "metadata": {
    "ExecuteTime": {
     "end_time": "2020-01-06T12:18:59.638708Z",
     "start_time": "2020-01-06T12:18:59.551355Z"
    }
   },
   "outputs": [],
   "source": [
    "tmp3 = copy.deepcopy(buying_list)\n",
    "tmp3.columns = buying_list.columns[:].map(cat3_to_cat1)\n",
    "tmp3.columns = np.where(tmp3.columns.isin(food_cat), \"food\",\"not_food\")"
   ]
  },
  {
   "cell_type": "code",
   "execution_count": 322,
   "metadata": {
    "ExecuteTime": {
     "end_time": "2020-01-05T09:04:37.061229Z",
     "start_time": "2020-01-05T09:04:37.053225Z"
    }
   },
   "outputs": [],
   "source": [
    "tmp3.columns == \"food\""
   ]
  },
  {
   "cell_type": "code",
   "execution_count": 18,
   "metadata": {
    "ExecuteTime": {
     "end_time": "2020-01-06T12:19:22.815702Z",
     "start_time": "2020-01-06T12:19:22.739905Z"
    }
   },
   "outputs": [],
   "source": [
    "tmp_3_sub1 = tmp3.iloc[:,tmp3.columns == \"food\"]\n",
    "tmp_3_sub2 = tmp3.iloc[:,tmp3.columns != \"food\"]"
   ]
  },
  {
   "cell_type": "code",
   "execution_count": 19,
   "metadata": {
    "ExecuteTime": {
     "end_time": "2020-01-06T12:19:26.315522Z",
     "start_time": "2020-01-06T12:19:26.225730Z"
    }
   },
   "outputs": [],
   "source": [
    "tmp_3_sub1 = tmp_3_sub1.sum(axis=1).reset_index(name = \"food_count\")"
   ]
  },
  {
   "cell_type": "code",
   "execution_count": 20,
   "metadata": {
    "ExecuteTime": {
     "end_time": "2020-01-06T12:19:27.864396Z",
     "start_time": "2020-01-06T12:19:27.764618Z"
    }
   },
   "outputs": [],
   "source": [
    "tmp_3_sub2 = tmp_3_sub2.iloc[:,1:-1].sum(axis=1).reset_index(name = \"not_food_count\")"
   ]
  },
  {
   "cell_type": "code",
   "execution_count": 21,
   "metadata": {
    "ExecuteTime": {
     "end_time": "2020-01-06T12:19:29.288689Z",
     "start_time": "2020-01-06T12:19:29.276722Z"
    }
   },
   "outputs": [],
   "source": [
    "tmp4 = tmp_3_sub1.merge(tmp_3_sub2)"
   ]
  },
  {
   "cell_type": "code",
   "execution_count": 22,
   "metadata": {
    "ExecuteTime": {
     "end_time": "2020-01-06T12:19:37.344181Z",
     "start_time": "2020-01-06T12:19:37.336202Z"
    }
   },
   "outputs": [],
   "source": [
    "tmp4[\"tot_count_without_unknown\"] = tmp4.food_count + tmp4.not_food_count"
   ]
  },
  {
   "cell_type": "code",
   "execution_count": 23,
   "metadata": {
    "ExecuteTime": {
     "end_time": "2020-01-06T12:19:38.804312Z",
     "start_time": "2020-01-06T12:19:38.799294Z"
    }
   },
   "outputs": [
    {
     "data": {
      "text/plain": [
       "13415"
      ]
     },
     "execution_count": 23,
     "metadata": {},
     "output_type": "execute_result"
    }
   ],
   "source": [
    "tmp4[tmp4.tot_count_without_unknown == 0].shape[0]"
   ]
  },
  {
   "cell_type": "code",
   "execution_count": 24,
   "metadata": {
    "ExecuteTime": {
     "end_time": "2020-01-06T12:19:40.466817Z",
     "start_time": "2020-01-06T12:19:40.458794Z"
    }
   },
   "outputs": [
    {
     "data": {
      "text/plain": [
       "array(['food', 'both', 'not_food', ..., 'food', 'not_food', 'food'],\n",
       "      dtype='<U8')"
      ]
     },
     "execution_count": 24,
     "metadata": {},
     "output_type": "execute_result"
    }
   ],
   "source": [
    "np.where(tmp4[tmp4.tot_count_without_unknown != 0].not_food_count == 0, \"food\",\n",
    "         np.where(tmp4[tmp4.tot_count_without_unknown != 0].food_count == 0, \"not_food\", \"both\"))"
   ]
  },
  {
   "cell_type": "code",
   "execution_count": 380,
   "metadata": {
    "ExecuteTime": {
     "end_time": "2020-01-05T09:24:48.098445Z",
     "start_time": "2020-01-05T09:24:48.082778Z"
    }
   },
   "outputs": [],
   "source": [
    "without_unknown = tmp4[tmp4.tot_count_without_unknown != 0]"
   ]
  },
  {
   "cell_type": "code",
   "execution_count": 383,
   "metadata": {
    "ExecuteTime": {
     "end_time": "2020-01-05T09:26:10.113656Z",
     "start_time": "2020-01-05T09:26:09.996477Z"
    }
   },
   "outputs": [
    {
     "name": "stderr",
     "output_type": "stream",
     "text": [
      "c:\\python37\\lib\\site-packages\\ipykernel_launcher.py:2: SettingWithCopyWarning:\n",
      "\n",
      "\n",
      "A value is trying to be set on a copy of a slice from a DataFrame.\n",
      "Try using .loc[row_indexer,col_indexer] = value instead\n",
      "\n",
      "See the caveats in the documentation: http://pandas.pydata.org/pandas-docs/stable/indexing.html#indexing-view-versus-copy\n",
      "\n"
     ]
    }
   ],
   "source": [
    "without_unknown[\"pattern\"] = np.where(tmp4[tmp4.tot_count_without_unknown != 0].not_food_count == 0, \"food\",\n",
    "         np.where(tmp4[tmp4.tot_count_without_unknown != 0].food_count == 0, \"not_food\", \"both\"))"
   ]
  },
  {
   "cell_type": "code",
   "execution_count": 388,
   "metadata": {
    "ExecuteTime": {
     "end_time": "2020-01-05T09:27:03.594505Z",
     "start_time": "2020-01-05T09:27:03.587493Z"
    }
   },
   "outputs": [
    {
     "data": {
      "text/plain": [
       "not_food    2778\n",
       "food        2763\n",
       "both        1877\n",
       "Name: pattern, dtype: int64"
      ]
     },
     "execution_count": 388,
     "metadata": {},
     "output_type": "execute_result"
    }
   ],
   "source": [
    "without_unknown.pattern.value_counts()"
   ]
  },
  {
   "cell_type": "code",
   "execution_count": 392,
   "metadata": {
    "ExecuteTime": {
     "end_time": "2020-01-05T09:30:36.049079Z",
     "start_time": "2020-01-05T09:30:36.046034Z"
    }
   },
   "outputs": [],
   "source": [
    "values = [2763, 2778, 1877, 13415]\n",
    "groups = [\"food\", \"not_food\", \"both\", \"unknown\"]"
   ]
  },
  {
   "cell_type": "code",
   "execution_count": 439,
   "metadata": {
    "ExecuteTime": {
     "end_time": "2020-01-05T11:56:30.012403Z",
     "start_time": "2020-01-05T11:56:30.008445Z"
    }
   },
   "outputs": [],
   "source": [
    "group_colors = ['c', 'lightskyblue', 'lightgreen', \"navajowhite\"]\n",
    "group_explodes = [0, 0, 0, 0.05]"
   ]
  },
  {
   "cell_type": "code",
   "execution_count": 441,
   "metadata": {
    "ExecuteTime": {
     "end_time": "2020-01-05T11:57:34.379655Z",
     "start_time": "2020-01-05T11:57:34.314828Z"
    }
   },
   "outputs": [
    {
     "data": {
      "image/png": "[encoded data removed]",
      "text/plain": [
       "<Figure size 432x432 with 1 Axes>"
      ]
     },
     "metadata": {},
     "output_type": "display_data"
    }
   ],
   "source": [
    "plt.figure(figsize = (6,6))\n",
    "plt.pie(values, \n",
    "        explode=group_explodes, \n",
    "        labels=groups, \n",
    "        colors=group_colors, \n",
    "        autopct='%1.2f%%', # second decimal place\n",
    "        shadow=True,\n",
    "        startangle=90,\n",
    "        textprops={'fontsize': 14}) # text font size\n",
    "plt.axis('equal') #  equal length of X and Y axis\n",
    "plt.title('상품구매 비율', fontsize=20)\n",
    "\n",
    "plt.show()"
   ]
  },
  {
   "cell_type": "code",
   "execution_count": null,
   "metadata": {},
   "outputs": [],
   "source": []
  },
  {
   "cell_type": "code",
   "execution_count": 12,
   "metadata": {
    "ExecuteTime": {
     "end_time": "2020-01-05T02:15:23.421958Z",
     "start_time": "2020-01-05T02:15:23.089809Z"
    }
   },
   "outputs": [],
   "source": [
    "only_food = tmp.iloc[tmp.iloc[:,1:-1].iloc[:,~tmp.columns.map(cat3_to_cat1).dropna().isin(food_cat)].sum(axis=1)[tmp.iloc[:,1:-1].iloc[:,~tmp.columns.map(cat3_to_cat1).dropna().isin(food_cat)].sum(axis=1) == 0].index,:]"
   ]
  },
  {
   "cell_type": "code",
   "execution_count": 413,
   "metadata": {
    "ExecuteTime": {
     "end_time": "2020-01-04T12:42:18.095398Z",
     "start_time": "2020-01-04T12:42:18.087399Z"
    }
   },
   "outputs": [
    {
     "data": {
      "text/plain": [
       "0.7765564249027984"
      ]
     },
     "execution_count": 413,
     "metadata": {},
     "output_type": "execute_result"
    }
   ],
   "source": [
    "only_food.shape[0] / tmp.shape[0]"
   ]
  },
  {
   "cell_type": "code",
   "execution_count": 414,
   "metadata": {
    "ExecuteTime": {
     "end_time": "2020-01-04T12:43:23.455392Z",
     "start_time": "2020-01-04T12:43:23.451389Z"
    }
   },
   "outputs": [
    {
     "data": {
      "text/plain": [
       "0.46206896551724136"
      ]
     },
     "execution_count": 414,
     "metadata": {},
     "output_type": "execute_result"
    }
   ],
   "source": [
    "469 / 1015"
   ]
  },
  {
   "cell_type": "markdown",
   "metadata": {},
   "source": [
    "* 전체의 77.7%의 유저가 음식카테고리 외의 상품을 구매한적이 없음\n",
    "* 음식카테고리는 전체 카테고리의 46.2%"
   ]
  },
  {
   "cell_type": "code",
   "execution_count": null,
   "metadata": {
    "ExecuteTime": {
     "end_time": "2020-01-04T13:01:27.867934Z",
     "start_time": "2020-01-04T13:01:27.863933Z"
    }
   },
   "outputs": [],
   "source": [
    "group_colors = ['magenta', 'yellowgreen']\n",
    "group_explodes = [0.1, 0]"
   ]
  },
  {
   "cell_type": "code",
   "execution_count": 435,
   "metadata": {
    "ExecuteTime": {
     "end_time": "2020-01-04T13:01:27.867934Z",
     "start_time": "2020-01-04T13:01:27.863933Z"
    }
   },
   "outputs": [],
   "source": [
    "plt.figure(figsize = (6,6))\n",
    "plt.pie(pd.DataFrame({\"cat\":[\"food\",\"not_food\"], \"val\" :[46.2,53.8]}).val, \n",
    "        explode=group_explodes, \n",
    "        labels=pd.DataFrame({\"cat\":[\"food\",\"not_food\"], \"val\" :[46.2,53.8]}).cat, \n",
    "        colors=group_colors, \n",
    "        autopct='%1.2f%%', # second decimal place\n",
    "        shadow=True,\n",
    "        startangle=90,\n",
    "        textprops={'fontsize': 14}) # text font size\n",
    "plt.axis('equal') #  equal length of X and Y axis\n",
    "plt.title('Category Numbers', fontsize=20)\n",
    "\n",
    "plt.show()"
   ]
  },
  {
   "cell_type": "code",
   "execution_count": 420,
   "metadata": {
    "ExecuteTime": {
     "end_time": "2020-01-04T12:55:49.270170Z",
     "start_time": "2020-01-04T12:55:49.262136Z"
    }
   },
   "outputs": [],
   "source": [
    "group_colors = ['lightskyblue', 'lightcoral']\n",
    "group_explodes = [0.1, 0]"
   ]
  },
  {
   "cell_type": "code",
   "execution_count": 415,
   "metadata": {
    "ExecuteTime": {
     "end_time": "2020-01-04T12:49:51.781323Z",
     "start_time": "2020-01-04T12:49:51.769323Z"
    }
   },
   "outputs": [
    {
     "data": {
      "text/html": [
       "<div>\n",
       "<style scoped>\n",
       "    .dataframe tbody tr th:only-of-type {\n",
       "        vertical-align: middle;\n",
       "    }\n",
       "\n",
       "    .dataframe tbody tr th {\n",
       "        vertical-align: top;\n",
       "    }\n",
       "\n",
       "    .dataframe thead th {\n",
       "        text-align: right;\n",
       "    }\n",
       "</style>\n",
       "<table border=\"1\" class=\"dataframe\">\n",
       "  <thead>\n",
       "    <tr style=\"text-align: right;\">\n",
       "      <th></th>\n",
       "      <th>cat</th>\n",
       "      <th>val</th>\n",
       "    </tr>\n",
       "  </thead>\n",
       "  <tbody>\n",
       "    <tr>\n",
       "      <th>0</th>\n",
       "      <td>food</td>\n",
       "      <td>77.7</td>\n",
       "    </tr>\n",
       "    <tr>\n",
       "      <th>1</th>\n",
       "      <td>not_food</td>\n",
       "      <td>22.3</td>\n",
       "    </tr>\n",
       "  </tbody>\n",
       "</table>\n",
       "</div>"
      ],
      "text/plain": [
       "        cat   val\n",
       "0      food  77.7\n",
       "1  not_food  22.3"
      ]
     },
     "execution_count": 415,
     "metadata": {},
     "output_type": "execute_result"
    }
   ],
   "source": [
    "pd.DataFrame({\"cat\":[\"food\",\"not_food\"], \"val\" :[77.7,22.3]})"
   ]
  },
  {
   "cell_type": "code",
   "execution_count": 206,
   "metadata": {
    "ExecuteTime": {
     "end_time": "2020-01-05T05:04:29.943632Z",
     "start_time": "2020-01-05T05:04:29.935645Z"
    }
   },
   "outputs": [],
   "source": [
    "#tmp.iloc[:,1:-1].iloc[:,tmp.columns.map(cat3_to_cat1).dropna().isin(food_cat)]"
   ]
  },
  {
   "cell_type": "markdown",
   "metadata": {},
   "source": [
    "## 음식 카테고리 안에서 각 중/소분류별 구매율"
   ]
  },
  {
   "cell_type": "code",
   "execution_count": 275,
   "metadata": {
    "ExecuteTime": {
     "end_time": "2020-01-05T06:20:27.999753Z",
     "start_time": "2020-01-05T06:20:27.460651Z"
    }
   },
   "outputs": [],
   "source": [
    "clac2_sales = purc_df.drop([\"clnt_id\",\"sess_id\",\"time\",\"month\",\"day\",\"hour\",\"weekday\"], axis=1).sum().reset_index(name = \"tot_sales\")\n",
    "\n",
    "cat3_to_cat2 = online_df.drop_duplicates([\"clac_nm3\"], keep = \"first\").set_index(\"clac_nm3\")[[\"clac_nm2\"]].to_dict().get(\"clac_nm2\")\n",
    "\n",
    "clac2_sales[\"clac_2\"] = clac2_sales['index'].map(cat3_to_cat2)\n",
    "\n",
    "clac2_sales = clac2_sales.groupby(\"clac_2\").sum()[[\"tot_sales\"]].reset_index()\n",
    "\n",
    "cat2_to_cat1 = online_df.drop_duplicates([\"clac_nm2\"], keep = \"first\")[[\"clac_nm2\",\"clac_nm1\"]].dropna().reset_index(drop = True).set_index(\"clac_nm2\").to_dict().get(\"clac_nm1\")\n",
    "clac2_sales[\"clac_1\"] = clac2_sales.clac_2.map(cat2_to_cat1)\n",
    "clac2_sales[\"clac2_clac1\"] = clac2_sales.clac_2 +\"->\"+clac2_sales.clac_1"
   ]
  },
  {
   "cell_type": "code",
   "execution_count": 277,
   "metadata": {
    "ExecuteTime": {
     "end_time": "2020-01-05T06:20:37.838336Z",
     "start_time": "2020-01-05T06:20:37.830372Z"
    }
   },
   "outputs": [],
   "source": [
    "clac2_sales[\"rate\"] = np.round(clac2_sales.tot_sales / clac2_sales.tot_sales.sum(),4)*100"
   ]
  },
  {
   "cell_type": "code",
   "execution_count": 278,
   "metadata": {
    "ExecuteTime": {
     "end_time": "2020-01-05T06:20:46.490292Z",
     "start_time": "2020-01-05T06:20:46.196530Z"
    }
   },
   "outputs": [
    {
     "data": {
      "text/plain": [
       "Text(0.5, 1.0, '음식카테고리 내 중분류 구매비율')"
      ]
     },
     "execution_count": 278,
     "metadata": {},
     "output_type": "execute_result"
    },
    {
     "data": {
      "image/png": "[encoded data removed]",
      "text/plain": [
       "<Figure size 720x576 with 1 Axes>"
      ]
     },
     "metadata": {
      "needs_background": "light"
     },
     "output_type": "display_data"
    }
   ],
   "source": [
    "plt.figure(figsize = (10,8))\n",
    "sns.barplot(y = \"clac2_clac1\", x=\"rate\",data = clac2_sales.sort_values( by = \"rate\", ascending = False).head(20))\n",
    "plt.title(\"음식카테고리 내 중분류 구매비율\", fontsize = 16)"
   ]
  },
  {
   "cell_type": "code",
   "execution_count": 254,
   "metadata": {
    "ExecuteTime": {
     "end_time": "2020-01-05T06:16:04.735173Z",
     "start_time": "2020-01-05T06:16:04.565544Z"
    }
   },
   "outputs": [],
   "source": [
    "cat2_to_cat1 = online_df.drop_duplicates([\"clac_nm2\"], keep = \"first\")[[\"clac_nm2\",\"clac_nm1\"]].dropna().reset_index(drop = True).set_index(\"clac_nm2\").to_dict().get(\"clac_nm1\")\n",
    "clac2_sales[\"clac_1\"] = clac2_sales.clac_2.map(cat2_to_cat1)\n",
    "clac2_sales[\"clac2_clac1\"] = clac2_sales.clac_2 + clac2_sales.clac_1"
   ]
  },
  {
   "cell_type": "markdown",
   "metadata": {},
   "source": [
    "### 음식만 구매한 사람들"
   ]
  },
  {
   "cell_type": "code",
   "execution_count": 58,
   "metadata": {
    "ExecuteTime": {
     "end_time": "2020-01-05T03:06:54.403814Z",
     "start_time": "2020-01-05T03:06:54.359678Z"
    }
   },
   "outputs": [],
   "source": [
    "only_food_user_info = only_food[[\"clnt_id\"]].merge(pd.read_csv(\"제6회 L.POINT Big Data Competition-분석용데이터-03.고객 Demographic 정보.csv\"), how = \"left\")"
   ]
  },
  {
   "cell_type": "code",
   "execution_count": 62,
   "metadata": {
    "ExecuteTime": {
     "end_time": "2020-01-05T03:08:32.572384Z",
     "start_time": "2020-01-05T03:08:32.549286Z"
    }
   },
   "outputs": [
    {
     "data": {
      "text/html": [
       "<div>\n",
       "<style scoped>\n",
       "    .dataframe tbody tr th:only-of-type {\n",
       "        vertical-align: middle;\n",
       "    }\n",
       "\n",
       "    .dataframe tbody tr th {\n",
       "        vertical-align: top;\n",
       "    }\n",
       "\n",
       "    .dataframe thead th {\n",
       "        text-align: right;\n",
       "    }\n",
       "</style>\n",
       "<table border=\"1\" class=\"dataframe\">\n",
       "  <thead>\n",
       "    <tr style=\"text-align: right;\">\n",
       "      <th>clnt_age</th>\n",
       "      <th>10</th>\n",
       "      <th>20</th>\n",
       "      <th>30</th>\n",
       "      <th>40</th>\n",
       "      <th>50</th>\n",
       "      <th>60</th>\n",
       "      <th>unknown</th>\n",
       "    </tr>\n",
       "    <tr>\n",
       "      <th>clnt_gender</th>\n",
       "      <th></th>\n",
       "      <th></th>\n",
       "      <th></th>\n",
       "      <th></th>\n",
       "      <th></th>\n",
       "      <th></th>\n",
       "      <th></th>\n",
       "    </tr>\n",
       "  </thead>\n",
       "  <tbody>\n",
       "    <tr>\n",
       "      <th>F</th>\n",
       "      <td>0.004006</td>\n",
       "      <td>0.081571</td>\n",
       "      <td>0.385096</td>\n",
       "      <td>0.388942</td>\n",
       "      <td>0.120353</td>\n",
       "      <td>0.020032</td>\n",
       "      <td>0.0</td>\n",
       "    </tr>\n",
       "    <tr>\n",
       "      <th>M</th>\n",
       "      <td>0.003984</td>\n",
       "      <td>0.094024</td>\n",
       "      <td>0.320319</td>\n",
       "      <td>0.410359</td>\n",
       "      <td>0.120319</td>\n",
       "      <td>0.050996</td>\n",
       "      <td>0.0</td>\n",
       "    </tr>\n",
       "    <tr>\n",
       "      <th>unknown</th>\n",
       "      <td>0.000000</td>\n",
       "      <td>0.000000</td>\n",
       "      <td>0.000000</td>\n",
       "      <td>0.000000</td>\n",
       "      <td>0.000000</td>\n",
       "      <td>0.000000</td>\n",
       "      <td>1.0</td>\n",
       "    </tr>\n",
       "  </tbody>\n",
       "</table>\n",
       "</div>"
      ],
      "text/plain": [
       "clnt_age           10        20        30        40        50        60  \\\n",
       "clnt_gender                                                               \n",
       "F            0.004006  0.081571  0.385096  0.388942  0.120353  0.020032   \n",
       "M            0.003984  0.094024  0.320319  0.410359  0.120319  0.050996   \n",
       "unknown      0.000000  0.000000  0.000000  0.000000  0.000000  0.000000   \n",
       "\n",
       "clnt_age     unknown  \n",
       "clnt_gender           \n",
       "F                0.0  \n",
       "M                0.0  \n",
       "unknown          1.0  "
      ]
     },
     "execution_count": 62,
     "metadata": {},
     "output_type": "execute_result"
    }
   ],
   "source": [
    "pd.crosstab(only_food_user_info.clnt_gender, only_food_user_info.clnt_age, normalize='index')"
   ]
  },
  {
   "cell_type": "code",
   "execution_count": 205,
   "metadata": {
    "ExecuteTime": {
     "end_time": "2020-01-05T04:58:48.264483Z",
     "start_time": "2020-01-05T04:58:48.243571Z"
    }
   },
   "outputs": [
    {
     "data": {
      "text/html": [
       "<div>\n",
       "<style scoped>\n",
       "    .dataframe tbody tr th:only-of-type {\n",
       "        vertical-align: middle;\n",
       "    }\n",
       "\n",
       "    .dataframe tbody tr th {\n",
       "        vertical-align: top;\n",
       "    }\n",
       "\n",
       "    .dataframe thead th {\n",
       "        text-align: right;\n",
       "    }\n",
       "</style>\n",
       "<table border=\"1\" class=\"dataframe\">\n",
       "  <thead>\n",
       "    <tr style=\"text-align: right;\">\n",
       "      <th></th>\n",
       "      <th>clnt_id</th>\n",
       "      <th>sess_id</th>\n",
       "      <th>clac_nm3</th>\n",
       "    </tr>\n",
       "  </thead>\n",
       "  <tbody>\n",
       "    <tr>\n",
       "      <th>0</th>\n",
       "      <td>2</td>\n",
       "      <td>8</td>\n",
       "      <td>[Coffee Drinks, Canned Vegetable Foods, Cream ...</td>\n",
       "    </tr>\n",
       "    <tr>\n",
       "      <th>1</th>\n",
       "      <td>2</td>\n",
       "      <td>10</td>\n",
       "      <td>[Coffee Drinks]</td>\n",
       "    </tr>\n",
       "    <tr>\n",
       "      <th>2</th>\n",
       "      <td>2</td>\n",
       "      <td>19</td>\n",
       "      <td>[Ramens]</td>\n",
       "    </tr>\n",
       "    <tr>\n",
       "      <th>3</th>\n",
       "      <td>9</td>\n",
       "      <td>6</td>\n",
       "      <td>[Frozen Dumplings, Pasta Noodles, Cookies, Fre...</td>\n",
       "    </tr>\n",
       "    <tr>\n",
       "      <th>4</th>\n",
       "      <td>9</td>\n",
       "      <td>26</td>\n",
       "      <td>[Functional Milk, Cheese, Fish Cakes, Frozen D...</td>\n",
       "    </tr>\n",
       "    <tr>\n",
       "      <th>5</th>\n",
       "      <td>23</td>\n",
       "      <td>6</td>\n",
       "      <td>[Infant / Toddlers' Dresses]</td>\n",
       "    </tr>\n",
       "    <tr>\n",
       "      <th>6</th>\n",
       "      <td>24</td>\n",
       "      <td>5</td>\n",
       "      <td>[Functional Milk, Frozen Hotdogs, Pasta Sauces...</td>\n",
       "    </tr>\n",
       "    <tr>\n",
       "      <th>7</th>\n",
       "      <td>24</td>\n",
       "      <td>15</td>\n",
       "      <td>[Rice, Chicken Eggs, Functional Milk, Frozen F...</td>\n",
       "    </tr>\n",
       "    <tr>\n",
       "      <th>8</th>\n",
       "      <td>40</td>\n",
       "      <td>28</td>\n",
       "      <td>[Kids' Pillow / Pillow Cover]</td>\n",
       "    </tr>\n",
       "    <tr>\n",
       "      <th>9</th>\n",
       "      <td>40</td>\n",
       "      <td>33</td>\n",
       "      <td>[Women's Cardigans]</td>\n",
       "    </tr>\n",
       "    <tr>\n",
       "      <th>10</th>\n",
       "      <td>40</td>\n",
       "      <td>37</td>\n",
       "      <td>[Women's Jumpers]</td>\n",
       "    </tr>\n",
       "    <tr>\n",
       "      <th>11</th>\n",
       "      <td>45</td>\n",
       "      <td>1</td>\n",
       "      <td>[Pet Cat Sand / Litter]</td>\n",
       "    </tr>\n",
       "    <tr>\n",
       "      <th>12</th>\n",
       "      <td>49</td>\n",
       "      <td>3</td>\n",
       "      <td>[Carrots, Tofu, Mung Bean Sprouts, Domestic Be...</td>\n",
       "    </tr>\n",
       "    <tr>\n",
       "      <th>13</th>\n",
       "      <td>49</td>\n",
       "      <td>6</td>\n",
       "      <td>[Cucumbers, Fresh Milk, General Yogurt, Spoon ...</td>\n",
       "    </tr>\n",
       "    <tr>\n",
       "      <th>14</th>\n",
       "      <td>49</td>\n",
       "      <td>7</td>\n",
       "      <td>[Cherry Tomatoes, Cherries, Jumbo Spring Onion...</td>\n",
       "    </tr>\n",
       "    <tr>\n",
       "      <th>15</th>\n",
       "      <td>49</td>\n",
       "      <td>9</td>\n",
       "      <td>[Gimbap ingredients sets, Fried Tofu, Chilled ...</td>\n",
       "    </tr>\n",
       "    <tr>\n",
       "      <th>16</th>\n",
       "      <td>49</td>\n",
       "      <td>10</td>\n",
       "      <td>[Watermelons, Chicken Eggs, Domestic Porks - S...</td>\n",
       "    </tr>\n",
       "    <tr>\n",
       "      <th>17</th>\n",
       "      <td>49</td>\n",
       "      <td>14</td>\n",
       "      <td>[Mung Bean Sprouts, Domestic Porks - Shoulder ...</td>\n",
       "    </tr>\n",
       "    <tr>\n",
       "      <th>18</th>\n",
       "      <td>49</td>\n",
       "      <td>18</td>\n",
       "      <td>[Chilled Noodles, Starch Syrups / Syrups, Mayo...</td>\n",
       "    </tr>\n",
       "    <tr>\n",
       "      <th>19</th>\n",
       "      <td>49</td>\n",
       "      <td>22</td>\n",
       "      <td>[Spoon Type Yogurts, Gimbap ingredients sets, ...</td>\n",
       "    </tr>\n",
       "    <tr>\n",
       "      <th>20</th>\n",
       "      <td>49</td>\n",
       "      <td>24</td>\n",
       "      <td>[Jumbo Spring Onions, Mung Bean Sprouts, Domes...</td>\n",
       "    </tr>\n",
       "    <tr>\n",
       "      <th>21</th>\n",
       "      <td>49</td>\n",
       "      <td>31</td>\n",
       "      <td>[Lettuces, Korean Cabbages, Cucumbers, Spring ...</td>\n",
       "    </tr>\n",
       "    <tr>\n",
       "      <th>22</th>\n",
       "      <td>49</td>\n",
       "      <td>36</td>\n",
       "      <td>[Fresh Milk, General Yogurt, Spoon Type Yogurt...</td>\n",
       "    </tr>\n",
       "    <tr>\n",
       "      <th>23</th>\n",
       "      <td>49</td>\n",
       "      <td>40</td>\n",
       "      <td>[Apples, Korean Cabbages, Cucumbers, Chives, C...</td>\n",
       "    </tr>\n",
       "    <tr>\n",
       "      <th>24</th>\n",
       "      <td>49</td>\n",
       "      <td>41</td>\n",
       "      <td>[Rice]</td>\n",
       "    </tr>\n",
       "    <tr>\n",
       "      <th>25</th>\n",
       "      <td>49</td>\n",
       "      <td>43</td>\n",
       "      <td>[Apples, Bananas, Cucumbers, Jumbo Spring Onio...</td>\n",
       "    </tr>\n",
       "    <tr>\n",
       "      <th>26</th>\n",
       "      <td>49</td>\n",
       "      <td>45</td>\n",
       "      <td>[Yogurt Drinks, Spoon Type Yogurts, Potato Sna...</td>\n",
       "    </tr>\n",
       "    <tr>\n",
       "      <th>27</th>\n",
       "      <td>49</td>\n",
       "      <td>50</td>\n",
       "      <td>[Cucumbers, Soybean Sprouts, Canned Vegetable ...</td>\n",
       "    </tr>\n",
       "    <tr>\n",
       "      <th>28</th>\n",
       "      <td>49</td>\n",
       "      <td>54</td>\n",
       "      <td>[Korean Pancake Mixes, Ramens, Korean Glass No...</td>\n",
       "    </tr>\n",
       "    <tr>\n",
       "      <th>29</th>\n",
       "      <td>49</td>\n",
       "      <td>59</td>\n",
       "      <td>[Cucumbers, Imported Porks - Shoulder Butts, G...</td>\n",
       "    </tr>\n",
       "    <tr>\n",
       "      <th>...</th>\n",
       "      <td>...</td>\n",
       "      <td>...</td>\n",
       "      <td>...</td>\n",
       "    </tr>\n",
       "    <tr>\n",
       "      <th>15688</th>\n",
       "      <td>72258</td>\n",
       "      <td>21</td>\n",
       "      <td>[Chicken Eggs, Fresh Milk, Spoon Type Yogurts,...</td>\n",
       "    </tr>\n",
       "    <tr>\n",
       "      <th>15689</th>\n",
       "      <td>72258</td>\n",
       "      <td>25</td>\n",
       "      <td>[Chiken Tenderloins, Fresh Milk, Spoon Type Yo...</td>\n",
       "    </tr>\n",
       "    <tr>\n",
       "      <th>15690</th>\n",
       "      <td>72267</td>\n",
       "      <td>1</td>\n",
       "      <td>[Ssamjang, Canned Tunas, Cokes, General Soy Mi...</td>\n",
       "    </tr>\n",
       "    <tr>\n",
       "      <th>15691</th>\n",
       "      <td>72284</td>\n",
       "      <td>4</td>\n",
       "      <td>[Cookies, General Snacks, Corn Snacks, Hair Sh...</td>\n",
       "    </tr>\n",
       "    <tr>\n",
       "      <th>15692</th>\n",
       "      <td>72297</td>\n",
       "      <td>6</td>\n",
       "      <td>[Face Blushes / Bronzers / Highlighters]</td>\n",
       "    </tr>\n",
       "    <tr>\n",
       "      <th>15693</th>\n",
       "      <td>72331</td>\n",
       "      <td>7</td>\n",
       "      <td>[Men's Swimwear]</td>\n",
       "    </tr>\n",
       "    <tr>\n",
       "      <th>15694</th>\n",
       "      <td>72333</td>\n",
       "      <td>1</td>\n",
       "      <td>[Ramens, Other Korean Traditional Snacks, Func...</td>\n",
       "    </tr>\n",
       "    <tr>\n",
       "      <th>15695</th>\n",
       "      <td>72342</td>\n",
       "      <td>3</td>\n",
       "      <td>[Women's Sweaters / Pullover]</td>\n",
       "    </tr>\n",
       "    <tr>\n",
       "      <th>15696</th>\n",
       "      <td>72342</td>\n",
       "      <td>7</td>\n",
       "      <td>[Hair Sprays]</td>\n",
       "    </tr>\n",
       "    <tr>\n",
       "      <th>15697</th>\n",
       "      <td>72342</td>\n",
       "      <td>28</td>\n",
       "      <td>[Lactic Acid / Probiotics]</td>\n",
       "    </tr>\n",
       "    <tr>\n",
       "      <th>15698</th>\n",
       "      <td>72356</td>\n",
       "      <td>63</td>\n",
       "      <td>[Others]</td>\n",
       "    </tr>\n",
       "    <tr>\n",
       "      <th>15699</th>\n",
       "      <td>72356</td>\n",
       "      <td>64</td>\n",
       "      <td>[Other Party / Fancy Goods]</td>\n",
       "    </tr>\n",
       "    <tr>\n",
       "      <th>15700</th>\n",
       "      <td>72356</td>\n",
       "      <td>77</td>\n",
       "      <td>[Toners, Hair Shampoos, Bathroom Cleaning Acce...</td>\n",
       "    </tr>\n",
       "    <tr>\n",
       "      <th>15701</th>\n",
       "      <td>72356</td>\n",
       "      <td>92</td>\n",
       "      <td>[Sidedish Containers / Vacuum Sealed Containers]</td>\n",
       "    </tr>\n",
       "    <tr>\n",
       "      <th>15702</th>\n",
       "      <td>72356</td>\n",
       "      <td>102</td>\n",
       "      <td>[Other Mobile Accessories]</td>\n",
       "    </tr>\n",
       "    <tr>\n",
       "      <th>15703</th>\n",
       "      <td>72356</td>\n",
       "      <td>110</td>\n",
       "      <td>[Women's Running / Training Shoes]</td>\n",
       "    </tr>\n",
       "    <tr>\n",
       "      <th>15704</th>\n",
       "      <td>72356</td>\n",
       "      <td>114</td>\n",
       "      <td>[Toddler Books]</td>\n",
       "    </tr>\n",
       "    <tr>\n",
       "      <th>15705</th>\n",
       "      <td>72356</td>\n",
       "      <td>131</td>\n",
       "      <td>[Other Mobile Accessories]</td>\n",
       "    </tr>\n",
       "    <tr>\n",
       "      <th>15706</th>\n",
       "      <td>72356</td>\n",
       "      <td>139</td>\n",
       "      <td>[Men's Cardigans]</td>\n",
       "    </tr>\n",
       "    <tr>\n",
       "      <th>15707</th>\n",
       "      <td>72356</td>\n",
       "      <td>140</td>\n",
       "      <td>[Mobile Batteries / Chargers]</td>\n",
       "    </tr>\n",
       "    <tr>\n",
       "      <th>15708</th>\n",
       "      <td>72356</td>\n",
       "      <td>154</td>\n",
       "      <td>[Other Functional Drinks]</td>\n",
       "    </tr>\n",
       "    <tr>\n",
       "      <th>15709</th>\n",
       "      <td>72373</td>\n",
       "      <td>13</td>\n",
       "      <td>[Electric Fans]</td>\n",
       "    </tr>\n",
       "    <tr>\n",
       "      <th>15710</th>\n",
       "      <td>72373</td>\n",
       "      <td>49</td>\n",
       "      <td>[Canned Fruit Foods]</td>\n",
       "    </tr>\n",
       "    <tr>\n",
       "      <th>15711</th>\n",
       "      <td>72373</td>\n",
       "      <td>54</td>\n",
       "      <td>[Others]</td>\n",
       "    </tr>\n",
       "    <tr>\n",
       "      <th>15712</th>\n",
       "      <td>72373</td>\n",
       "      <td>59</td>\n",
       "      <td>[Hair dyes, Kitchen Knives / Scissors]</td>\n",
       "    </tr>\n",
       "    <tr>\n",
       "      <th>15713</th>\n",
       "      <td>72400</td>\n",
       "      <td>4</td>\n",
       "      <td>[Special Offer Sales / B2B Sales]</td>\n",
       "    </tr>\n",
       "    <tr>\n",
       "      <th>15714</th>\n",
       "      <td>72400</td>\n",
       "      <td>7</td>\n",
       "      <td>[Hair Shampoos]</td>\n",
       "    </tr>\n",
       "    <tr>\n",
       "      <th>15715</th>\n",
       "      <td>72410</td>\n",
       "      <td>3</td>\n",
       "      <td>[Cheese]</td>\n",
       "    </tr>\n",
       "    <tr>\n",
       "      <th>15716</th>\n",
       "      <td>72423</td>\n",
       "      <td>1</td>\n",
       "      <td>[Cell Phones]</td>\n",
       "    </tr>\n",
       "    <tr>\n",
       "      <th>15717</th>\n",
       "      <td>72424</td>\n",
       "      <td>2</td>\n",
       "      <td>[Domestic Porks - Shoulder Butts, Imported Por...</td>\n",
       "    </tr>\n",
       "  </tbody>\n",
       "</table>\n",
       "<p>15718 rows × 3 columns</p>\n",
       "</div>"
      ],
      "text/plain": [
       "       clnt_id  sess_id                                           clac_nm3\n",
       "0            2        8  [Coffee Drinks, Canned Vegetable Foods, Cream ...\n",
       "1            2       10                                    [Coffee Drinks]\n",
       "2            2       19                                           [Ramens]\n",
       "3            9        6  [Frozen Dumplings, Pasta Noodles, Cookies, Fre...\n",
       "4            9       26  [Functional Milk, Cheese, Fish Cakes, Frozen D...\n",
       "5           23        6                       [Infant / Toddlers' Dresses]\n",
       "6           24        5  [Functional Milk, Frozen Hotdogs, Pasta Sauces...\n",
       "7           24       15  [Rice, Chicken Eggs, Functional Milk, Frozen F...\n",
       "8           40       28                      [Kids' Pillow / Pillow Cover]\n",
       "9           40       33                                [Women's Cardigans]\n",
       "10          40       37                                  [Women's Jumpers]\n",
       "11          45        1                            [Pet Cat Sand / Litter]\n",
       "12          49        3  [Carrots, Tofu, Mung Bean Sprouts, Domestic Be...\n",
       "13          49        6  [Cucumbers, Fresh Milk, General Yogurt, Spoon ...\n",
       "14          49        7  [Cherry Tomatoes, Cherries, Jumbo Spring Onion...\n",
       "15          49        9  [Gimbap ingredients sets, Fried Tofu, Chilled ...\n",
       "16          49       10  [Watermelons, Chicken Eggs, Domestic Porks - S...\n",
       "17          49       14  [Mung Bean Sprouts, Domestic Porks - Shoulder ...\n",
       "18          49       18  [Chilled Noodles, Starch Syrups / Syrups, Mayo...\n",
       "19          49       22  [Spoon Type Yogurts, Gimbap ingredients sets, ...\n",
       "20          49       24  [Jumbo Spring Onions, Mung Bean Sprouts, Domes...\n",
       "21          49       31  [Lettuces, Korean Cabbages, Cucumbers, Spring ...\n",
       "22          49       36  [Fresh Milk, General Yogurt, Spoon Type Yogurt...\n",
       "23          49       40  [Apples, Korean Cabbages, Cucumbers, Chives, C...\n",
       "24          49       41                                             [Rice]\n",
       "25          49       43  [Apples, Bananas, Cucumbers, Jumbo Spring Onio...\n",
       "26          49       45  [Yogurt Drinks, Spoon Type Yogurts, Potato Sna...\n",
       "27          49       50  [Cucumbers, Soybean Sprouts, Canned Vegetable ...\n",
       "28          49       54  [Korean Pancake Mixes, Ramens, Korean Glass No...\n",
       "29          49       59  [Cucumbers, Imported Porks - Shoulder Butts, G...\n",
       "...        ...      ...                                                ...\n",
       "15688    72258       21  [Chicken Eggs, Fresh Milk, Spoon Type Yogurts,...\n",
       "15689    72258       25  [Chiken Tenderloins, Fresh Milk, Spoon Type Yo...\n",
       "15690    72267        1  [Ssamjang, Canned Tunas, Cokes, General Soy Mi...\n",
       "15691    72284        4  [Cookies, General Snacks, Corn Snacks, Hair Sh...\n",
       "15692    72297        6           [Face Blushes / Bronzers / Highlighters]\n",
       "15693    72331        7                                   [Men's Swimwear]\n",
       "15694    72333        1  [Ramens, Other Korean Traditional Snacks, Func...\n",
       "15695    72342        3                      [Women's Sweaters / Pullover]\n",
       "15696    72342        7                                      [Hair Sprays]\n",
       "15697    72342       28                         [Lactic Acid / Probiotics]\n",
       "15698    72356       63                                           [Others]\n",
       "15699    72356       64                        [Other Party / Fancy Goods]\n",
       "15700    72356       77  [Toners, Hair Shampoos, Bathroom Cleaning Acce...\n",
       "15701    72356       92   [Sidedish Containers / Vacuum Sealed Containers]\n",
       "15702    72356      102                         [Other Mobile Accessories]\n",
       "15703    72356      110                 [Women's Running / Training Shoes]\n",
       "15704    72356      114                                    [Toddler Books]\n",
       "15705    72356      131                         [Other Mobile Accessories]\n",
       "15706    72356      139                                  [Men's Cardigans]\n",
       "15707    72356      140                      [Mobile Batteries / Chargers]\n",
       "15708    72356      154                          [Other Functional Drinks]\n",
       "15709    72373       13                                    [Electric Fans]\n",
       "15710    72373       49                               [Canned Fruit Foods]\n",
       "15711    72373       54                                           [Others]\n",
       "15712    72373       59             [Hair dyes, Kitchen Knives / Scissors]\n",
       "15713    72400        4                  [Special Offer Sales / B2B Sales]\n",
       "15714    72400        7                                    [Hair Shampoos]\n",
       "15715    72410        3                                           [Cheese]\n",
       "15716    72423        1                                      [Cell Phones]\n",
       "15717    72424        2  [Domestic Porks - Shoulder Butts, Imported Por...\n",
       "\n",
       "[15718 rows x 3 columns]"
      ]
     },
     "execution_count": 205,
     "metadata": {},
     "output_type": "execute_result"
    }
   ],
   "source": []
  },
  {
   "cell_type": "code",
   "execution_count": 202,
   "metadata": {
    "ExecuteTime": {
     "end_time": "2020-01-05T04:58:09.064474Z",
     "start_time": "2020-01-05T04:58:06.059488Z"
    }
   },
   "outputs": [],
   "source": [
    "association_df = online_df[(online_df.action_type == 6) & (~online_df.clac_nm3.isnull())].groupby([\"clnt_id\",\"sess_id\"]).agg({\"clac_nm3\" : \"unique\"}).reset_index()"
   ]
  },
  {
   "cell_type": "code",
   "execution_count": 204,
   "metadata": {
    "ExecuteTime": {
     "end_time": "2020-01-05T04:58:25.657793Z",
     "start_time": "2020-01-05T04:58:25.294712Z"
    }
   },
   "outputs": [],
   "source": [
    "association_df.to_csv(\"association.csv\", index = False)"
   ]
  },
  {
   "cell_type": "code",
   "execution_count": null,
   "metadata": {},
   "outputs": [],
   "source": []
  },
  {
   "cell_type": "code",
   "execution_count": 210,
   "metadata": {
    "ExecuteTime": {
     "end_time": "2020-01-05T05:22:58.253571Z",
     "start_time": "2020-01-05T05:22:58.245534Z"
    }
   },
   "outputs": [],
   "source": [
    "#음식구매세션 첫 action_type"
   ]
  },
  {
   "cell_type": "code",
   "execution_count": 222,
   "metadata": {
    "ExecuteTime": {
     "end_time": "2020-01-05T05:39:55.805048Z",
     "start_time": "2020-01-05T05:39:54.323430Z"
    }
   },
   "outputs": [],
   "source": [
    "action_types = food_df.groupby([\"clnt_id\",\"sess_id\"]).size().reset_index()[[\"clnt_id\",\"sess_id\"]].merge(online_df, how = \"left\", on = [\"clnt_id\",\"sess_id\"]).drop_duplicates([\"clnt_id\",\"sess_id\"], keep = \"first\").action_type.value_counts()"
   ]
  },
  {
   "cell_type": "code",
   "execution_count": 226,
   "metadata": {
    "ExecuteTime": {
     "end_time": "2020-01-05T05:40:36.947620Z",
     "start_time": "2020-01-05T05:40:36.939616Z"
    }
   },
   "outputs": [],
   "source": [
    "action_types = action_types.reset_index(name = \"action_counts\").sort_values(by = \"index\")"
   ]
  },
  {
   "cell_type": "code",
   "execution_count": 228,
   "metadata": {
    "ExecuteTime": {
     "end_time": "2020-01-05T05:41:24.107557Z",
     "start_time": "2020-01-05T05:41:24.099523Z"
    }
   },
   "outputs": [],
   "source": [
    "action_types[\"action_rates\"] = np.round(action_types.action_counts / action_types.action_counts.sum(),4) * 100"
   ]
  },
  {
   "cell_type": "code",
   "execution_count": 247,
   "metadata": {
    "ExecuteTime": {
     "end_time": "2020-01-05T05:48:18.376695Z",
     "start_time": "2020-01-05T05:48:18.192940Z"
    }
   },
   "outputs": [
    {
     "data": {
      "text/plain": [
       "Text(0.5, 1.0, '음식구매세션 첫 action_type 비율')"
      ]
     },
     "execution_count": 247,
     "metadata": {},
     "output_type": "execute_result"
    },
    {
     "data": {
      "image/png": "[encoded data removed]",
      "text/plain": [
       "<Figure size 864x360 with 1 Axes>"
      ]
     },
     "metadata": {
      "needs_background": "light"
     },
     "output_type": "display_data"
    }
   ],
   "source": [
    "fig,ax = plt.subplots(figsize=(12,5))\n",
    "sns.barplot(action_types['index'] , action_types.action_counts, ax = ax)\n",
    "\n",
    "total = action_types.action_counts.sum()\n",
    "\n",
    "for p in ax.patches:\n",
    "    height = p.get_height()\n",
    "    ax.text(p.get_x() + p.get_width()/4, height + 50,\n",
    "           \"{0:.2f}%\".format((height/total)*100), fontsize = 11)\n",
    "    \n",
    "ax.set_title(\"음식구매세션 첫 action_type 비율\", fontsize = 16)"
   ]
  },
  {
   "cell_type": "markdown",
   "metadata": {},
   "source": [
    "비즈니스전략"
   ]
  },
  {
   "cell_type": "code",
   "execution_count": 7,
   "metadata": {
    "ExecuteTime": {
     "end_time": "2020-01-06T12:17:13.761420Z",
     "start_time": "2020-01-06T12:17:13.757430Z"
    }
   },
   "outputs": [],
   "source": [
    "# unknown제외 => 음식만 구매한 세션수, 비음식만 구매한 세션 수, 둘 다 구매한 세션 수"
   ]
  },
  {
   "cell_type": "code",
   "execution_count": 26,
   "metadata": {
    "ExecuteTime": {
     "end_time": "2020-01-06T12:20:44.800597Z",
     "start_time": "2020-01-06T12:20:44.633851Z"
    }
   },
   "outputs": [],
   "source": [
    "buy_sess_compare = online_df[online_df.action_type == 6].reset_index(drop = True)"
   ]
  },
  {
   "cell_type": "code",
   "execution_count": 30,
   "metadata": {
    "ExecuteTime": {
     "end_time": "2020-01-06T12:22:11.994626Z",
     "start_time": "2020-01-06T12:22:11.984653Z"
    }
   },
   "outputs": [
    {
     "data": {
      "text/plain": [
       "array(['not_food', 'food', 'food', ..., 'food', 'food', 'not_food'],\n",
       "      dtype='<U8')"
      ]
     },
     "execution_count": 30,
     "metadata": {},
     "output_type": "execute_result"
    }
   ],
   "source": [
    "np.where(buy_sess_compare.clac_nm1.isin(food_cat),\"food\",\"not_food\")"
   ]
  },
  {
   "cell_type": "code",
   "execution_count": 31,
   "metadata": {
    "ExecuteTime": {
     "end_time": "2020-01-06T12:22:17.245731Z",
     "start_time": "2020-01-06T12:22:17.220797Z"
    }
   },
   "outputs": [],
   "source": [
    "buy_sess_compare[\"is_food\"] = np.where(buy_sess_compare.clac_nm1.isin(food_cat),\"food\",\"not_food\")"
   ]
  },
  {
   "cell_type": "code",
   "execution_count": 33,
   "metadata": {
    "ExecuteTime": {
     "end_time": "2020-01-06T12:22:45.698316Z",
     "start_time": "2020-01-06T12:22:45.662339Z"
    }
   },
   "outputs": [],
   "source": [
    "buy_sess_compare.loc[buy_sess_compare.clac_nm3.isnull(), \"is_food\"] = \"unknown\""
   ]
  },
  {
   "cell_type": "code",
   "execution_count": 35,
   "metadata": {
    "ExecuteTime": {
     "end_time": "2020-01-06T12:23:41.599456Z",
     "start_time": "2020-01-06T12:23:41.572529Z"
    }
   },
   "outputs": [],
   "source": [
    "buy_sess_compare_without_unknown = buy_sess_compare[buy_sess_compare.is_food != \"unknown\"]"
   ]
  },
  {
   "cell_type": "code",
   "execution_count": 38,
   "metadata": {
    "ExecuteTime": {
     "end_time": "2020-01-06T12:24:58.908400Z",
     "start_time": "2020-01-06T12:24:55.947585Z"
    }
   },
   "outputs": [],
   "source": [
    "compare_df = buy_sess_compare_without_unknown.groupby([\"clnt_id\",\"sess_id\"]).agg({\"is_food\" : \"unique\"}).reset_index()"
   ]
  },
  {
   "cell_type": "code",
   "execution_count": 50,
   "metadata": {
    "ExecuteTime": {
     "end_time": "2020-01-06T12:28:52.901939Z",
     "start_time": "2020-01-06T12:28:52.878003Z"
    }
   },
   "outputs": [],
   "source": [
    "compare_df['is_food'] = compare_df.is_food.apply(lambda x : list(x))"
   ]
  },
  {
   "cell_type": "code",
   "execution_count": 52,
   "metadata": {
    "ExecuteTime": {
     "end_time": "2020-01-06T12:29:52.681646Z",
     "start_time": "2020-01-06T12:29:52.673664Z"
    }
   },
   "outputs": [],
   "source": [
    "compare_df['n_uniq'] =  compare_df.is_food.apply(lambda x : len(x))"
   ]
  },
  {
   "cell_type": "code",
   "execution_count": 55,
   "metadata": {
    "ExecuteTime": {
     "end_time": "2020-01-06T12:31:39.027594Z",
     "start_time": "2020-01-06T12:31:39.015628Z"
    }
   },
   "outputs": [
    {
     "ename": "ValueError",
     "evalue": "Lengths must match to compare",
     "output_type": "error",
     "traceback": [
      "\u001b[1;31m---------------------------------------------------------------------------\u001b[0m",
      "\u001b[1;31mValueError\u001b[0m                                Traceback (most recent call last)",
      "\u001b[1;32m<ipython-input-55-5b8a05d19faf>\u001b[0m in \u001b[0;36m<module>\u001b[1;34m()\u001b[0m\n\u001b[1;32m----> 1\u001b[1;33m \u001b[0mnp\u001b[0m\u001b[1;33m.\u001b[0m\u001b[0mwhere\u001b[0m\u001b[1;33m(\u001b[0m\u001b[0mcompare_df\u001b[0m\u001b[1;33m.\u001b[0m\u001b[0mloc\u001b[0m\u001b[1;33m[\u001b[0m\u001b[0mcompare_df\u001b[0m\u001b[1;33m.\u001b[0m\u001b[0mn_uniq\u001b[0m\u001b[1;33m==\u001b[0m\u001b[1;36m1\u001b[0m\u001b[1;33m,\u001b[0m\u001b[1;33m:\u001b[0m\u001b[1;33m]\u001b[0m\u001b[1;33m.\u001b[0m\u001b[0mis_food\u001b[0m \u001b[1;33m==\u001b[0m \u001b[1;33m[\u001b[0m\u001b[1;34m\"food\"\u001b[0m\u001b[1;33m]\u001b[0m\u001b[1;33m,\u001b[0m \u001b[1;36m1\u001b[0m\u001b[1;33m,\u001b[0m \u001b[1;36m0\u001b[0m\u001b[1;33m)\u001b[0m\u001b[1;33m\u001b[0m\u001b[1;33m\u001b[0m\u001b[0m\n\u001b[0m",
      "\u001b[1;32mc:\\python37\\lib\\site-packages\\pandas\\core\\ops.py\u001b[0m in \u001b[0;36mwrapper\u001b[1;34m(self, other, axis)\u001b[0m\n\u001b[0;32m   1743\u001b[0m             \u001b[1;31m# as it will broadcast\u001b[0m\u001b[1;33m\u001b[0m\u001b[1;33m\u001b[0m\u001b[1;33m\u001b[0m\u001b[0m\n\u001b[0;32m   1744\u001b[0m             \u001b[1;32mif\u001b[0m \u001b[0mother\u001b[0m\u001b[1;33m.\u001b[0m\u001b[0mndim\u001b[0m \u001b[1;33m!=\u001b[0m \u001b[1;36m0\u001b[0m \u001b[1;32mand\u001b[0m \u001b[0mlen\u001b[0m\u001b[1;33m(\u001b[0m\u001b[0mself\u001b[0m\u001b[1;33m)\u001b[0m \u001b[1;33m!=\u001b[0m \u001b[0mlen\u001b[0m\u001b[1;33m(\u001b[0m\u001b[0mother\u001b[0m\u001b[1;33m)\u001b[0m\u001b[1;33m:\u001b[0m\u001b[1;33m\u001b[0m\u001b[1;33m\u001b[0m\u001b[0m\n\u001b[1;32m-> 1745\u001b[1;33m                 \u001b[1;32mraise\u001b[0m \u001b[0mValueError\u001b[0m\u001b[1;33m(\u001b[0m\u001b[1;34m'Lengths must match to compare'\u001b[0m\u001b[1;33m)\u001b[0m\u001b[1;33m\u001b[0m\u001b[1;33m\u001b[0m\u001b[0m\n\u001b[0m\u001b[0;32m   1746\u001b[0m \u001b[1;33m\u001b[0m\u001b[0m\n\u001b[0;32m   1747\u001b[0m             \u001b[0mres_values\u001b[0m \u001b[1;33m=\u001b[0m \u001b[0mna_op\u001b[0m\u001b[1;33m(\u001b[0m\u001b[0mself\u001b[0m\u001b[1;33m.\u001b[0m\u001b[0mvalues\u001b[0m\u001b[1;33m,\u001b[0m \u001b[0mnp\u001b[0m\u001b[1;33m.\u001b[0m\u001b[0masarray\u001b[0m\u001b[1;33m(\u001b[0m\u001b[0mother\u001b[0m\u001b[1;33m)\u001b[0m\u001b[1;33m)\u001b[0m\u001b[1;33m\u001b[0m\u001b[1;33m\u001b[0m\u001b[0m\n",
      "\u001b[1;31mValueError\u001b[0m: Lengths must match to compare"
     ]
    }
   ],
   "source": [
    "np.where(compare_df.loc[compare_df.n_uniq==1,:].is_food == [\"food\"], 1, 0)"
   ]
  },
  {
   "cell_type": "code",
   "execution_count": 58,
   "metadata": {
    "ExecuteTime": {
     "end_time": "2020-01-06T12:32:41.122031Z",
     "start_time": "2020-01-06T12:32:41.112058Z"
    }
   },
   "outputs": [
    {
     "data": {
      "text/plain": [
       "array([1, 1, 1, ..., 1, 0, 1])"
      ]
     },
     "execution_count": 58,
     "metadata": {},
     "output_type": "execute_result"
    }
   ],
   "source": [
    "np.where(compare_df.loc[compare_df.n_uniq==1,:].is_food.apply(lambda x : x[0])==\"food\", \"food\", \"not_food\")"
   ]
  },
  {
   "cell_type": "code",
   "execution_count": null,
   "metadata": {},
   "outputs": [],
   "source": []
  },
  {
   "cell_type": "code",
   "execution_count": 61,
   "metadata": {
    "ExecuteTime": {
     "end_time": "2020-01-06T12:34:28.745720Z",
     "start_time": "2020-01-06T12:34:28.728765Z"
    }
   },
   "outputs": [],
   "source": [
    "compare_df.loc[compare_df.n_uniq==1,\"food_sess\"] = np.where(compare_df.loc[compare_df.n_uniq==1,:].is_food.apply(lambda x : x[0])==\"food\", \"food\", \"not_food\")"
   ]
  },
  {
   "cell_type": "code",
   "execution_count": 64,
   "metadata": {
    "ExecuteTime": {
     "end_time": "2020-01-06T12:34:46.156925Z",
     "start_time": "2020-01-06T12:34:46.149945Z"
    }
   },
   "outputs": [],
   "source": [
    "compare_df.fillna(\"both\", inplace=True)"
   ]
  },
  {
   "cell_type": "code",
   "execution_count": 68,
   "metadata": {
    "ExecuteTime": {
     "end_time": "2020-01-06T12:35:47.621866Z",
     "start_time": "2020-01-06T12:35:47.615915Z"
    }
   },
   "outputs": [],
   "source": [
    "food_sess = compare_df.food_sess.value_counts().reset_index(name = \"counts\")"
   ]
  },
  {
   "cell_type": "code",
   "execution_count": 69,
   "metadata": {
    "ExecuteTime": {
     "end_time": "2020-01-06T12:35:49.956798Z",
     "start_time": "2020-01-06T12:35:49.950814Z"
    }
   },
   "outputs": [
    {
     "data": {
      "text/html": [
       "<div>\n",
       "<style scoped>\n",
       "    .dataframe tbody tr th:only-of-type {\n",
       "        vertical-align: middle;\n",
       "    }\n",
       "\n",
       "    .dataframe tbody tr th {\n",
       "        vertical-align: top;\n",
       "    }\n",
       "\n",
       "    .dataframe thead th {\n",
       "        text-align: right;\n",
       "    }\n",
       "</style>\n",
       "<table border=\"1\" class=\"dataframe\">\n",
       "  <thead>\n",
       "    <tr style=\"text-align: right;\">\n",
       "      <th></th>\n",
       "      <th>index</th>\n",
       "      <th>counts</th>\n",
       "    </tr>\n",
       "  </thead>\n",
       "  <tbody>\n",
       "    <tr>\n",
       "      <th>0</th>\n",
       "      <td>food</td>\n",
       "      <td>8388</td>\n",
       "    </tr>\n",
       "    <tr>\n",
       "      <th>1</th>\n",
       "      <td>not_food</td>\n",
       "      <td>4893</td>\n",
       "    </tr>\n",
       "    <tr>\n",
       "      <th>2</th>\n",
       "      <td>both</td>\n",
       "      <td>2437</td>\n",
       "    </tr>\n",
       "  </tbody>\n",
       "</table>\n",
       "</div>"
      ],
      "text/plain": [
       "      index  counts\n",
       "0      food    8388\n",
       "1  not_food    4893\n",
       "2      both    2437"
      ]
     },
     "execution_count": 69,
     "metadata": {},
     "output_type": "execute_result"
    }
   ],
   "source": [
    "food_sess"
   ]
  },
  {
   "cell_type": "code",
   "execution_count": 115,
   "metadata": {
    "ExecuteTime": {
     "end_time": "2020-01-06T12:50:45.291762Z",
     "start_time": "2020-01-06T12:50:45.287772Z"
    }
   },
   "outputs": [],
   "source": [
    "group_explodes = [0.06, 0, 0]\n",
    "group_colors = [\"springgreen\", \"beige\", \"lime\"]"
   ]
  },
  {
   "cell_type": "code",
   "execution_count": 122,
   "metadata": {
    "ExecuteTime": {
     "end_time": "2020-01-07T06:05:41.593345Z",
     "start_time": "2020-01-07T06:05:41.585346Z"
    }
   },
   "outputs": [],
   "source": [
    "group_colors = [\"Lightgray\",\"Lightcoral\",\"Mistyrose\"]"
   ]
  },
  {
   "cell_type": "code",
   "execution_count": 123,
   "metadata": {
    "ExecuteTime": {
     "end_time": "2020-01-07T06:05:43.518001Z",
     "start_time": "2020-01-07T06:05:43.454016Z"
    }
   },
   "outputs": [
    {
     "data": {
      "image/png": "[encoded data removed]",
      "text/plain": [
       "<Figure size 432x432 with 1 Axes>"
      ]
     },
     "metadata": {},
     "output_type": "display_data"
    }
   ],
   "source": [
    "plt.figure(figsize = (6,6))\n",
    "plt.pie(food_sess.counts, \n",
    "        explode=group_explodes, \n",
    "        labels=food_sess[\"index\"], \n",
    "        colors=group_colors, \n",
    "        autopct='%1.2f%%', # second decimal place\n",
    "        shadow=True,\n",
    "        startangle=90,\n",
    "        textprops={'fontsize': 13}) # text font size\n",
    "plt.axis('equal') #  equal length of X and Y axis\n",
    "plt.title('상품구매 비율', fontsize=20)\n",
    "\n",
    "plt.show()"
   ]
  },
  {
   "cell_type": "code",
   "execution_count": null,
   "metadata": {},
   "outputs": [],
   "source": []
  }
 ],
 "metadata": {
  "kernelspec": {
   "display_name": "Python 3",
   "language": "python",
   "name": "python3"
  },
  "language_info": {
   "codemirror_mode": {
    "name": "ipython",
    "version": 3
   },
   "file_extension": ".py",
   "mimetype": "text/x-python",
   "name": "python",
   "nbconvert_exporter": "python",
   "pygments_lexer": "ipython3",
   "version": "3.7.2"
  },
  "toc": {
   "base_numbering": 1,
   "nav_menu": {},
   "number_sections": true,
   "sideBar": true,
   "skip_h1_title": false,
   "title_cell": "Table of Contents",
   "title_sidebar": "Contents",
   "toc_cell": false,
   "toc_position": {
    "height": "calc(100% - 180px)",
    "left": "10px",
    "top": "150px",
    "width": "165px"
   },
   "toc_section_display": true,
   "toc_window_display": false
  },
  "varInspector": {
   "cols": {
    "lenName": 16,
    "lenType": 16,
    "lenVar": 40
   },
   "kernels_config": {
    "python": {
     "delete_cmd_postfix": "",
     "delete_cmd_prefix": "del ",
     "library": "var_list.py",
     "varRefreshCmd": "print(var_dic_list())"
    },
    "r": {
     "delete_cmd_postfix": ") ",
     "delete_cmd_prefix": "rm(",
     "library": "var_list.r",
     "varRefreshCmd": "cat(var_dic_list()) "
    }
   },
   "position": {
    "height": "457px",
    "left": "519.364px",
    "right": "20px",
    "top": "93px",
    "width": "793px"
   },
   "types_to_exclude": [
    "module",
    "function",
    "builtin_function_or_method",
    "instance",
    "_Feature"
   ],
   "window_display": false
  }
 },
 "nbformat": 4,
 "nbformat_minor": 2
}
