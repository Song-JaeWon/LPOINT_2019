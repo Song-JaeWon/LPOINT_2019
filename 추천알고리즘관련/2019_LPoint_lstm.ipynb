{
 "cells": [
  {
   "cell_type": "code",
   "execution_count": 1,
   "metadata": {
    "ExecuteTime": {
     "end_time": "2020-01-07T10:40:49.777288Z",
     "start_time": "2020-01-07T10:40:44.401000Z"
    }
   },
   "outputs": [],
   "source": [
    "import pandas as pd\n",
    "import numpy as np\n",
    "import matplotlib.pyplot as plt\n",
    "import seaborn as sns\n",
    "\n",
    "import missingno as msno\n",
    "sns.set_style(\"darkgrid\")\n",
    "\n",
    "import matplotlib as mpl\n",
    "\n",
    "mpl.rcParams['axes.unicode_minus'] = False\n",
    "plt.rcParams[\"font.family\"] = \"Malgun Gothic\"\n",
    "plt.rcParams[\"font.size\"] = 10\n",
    "\n",
    "\n",
    "from PIL import Image\n",
    "from wordcloud import WordCloud, STOPWORDS, ImageColorGenerator\n",
    "\n",
    "import plotly.graph_objects as go\n",
    "import plotly.express as px\n",
    "\n",
    "from tensorflow.keras.models import Sequential, load_model, save_model\n",
    "from tensorflow.keras.layers import LSTM, Dropout, Dense\n",
    "from tensorflow.keras.optimizers import Adam\n",
    "from tensorflow.keras.callbacks import EarlyStopping, ModelCheckpoint\n",
    "\n",
    "import pickle\n",
    "import os\n",
    "import gc\n",
    "\n",
    "os.chdir(\"./제6회 L.POINT Big Data Competition/\")\n",
    "\n",
    "def resumetable(df):\n",
    "    print(f\"DataSet Shape : {df.shape}\")\n",
    "    summary = pd.DataFrame(df.dtypes, columns={'dtypes'})\n",
    "    summary = summary.reset_index()\n",
    "    summary[\"Name\"] = summary[\"index\"]\n",
    "    summary = summary[[\"Name\",\"dtypes\"]]\n",
    "    summary['Missing'] = df.isnull().sum().values\n",
    "    summary['Unique'] = df.nunique().values\n",
    "    summary['First Value'] = df.loc[0].values\n",
    "    summary['Second Value'] = df.loc[1].values\n",
    "    summary['Third Value'] = df.loc[2].values\n",
    "    \n",
    "    for name in summary['Name'].value_counts().index:\n",
    "        summary.loc[summary['Name'] == name, \"Entropy\"] = round(stats.entropy(df[name].value_counts(normalize = True), base=2),2)\n",
    "        \n",
    "    return summary\n",
    "\n",
    "def reduce_mem_usage(df, verbose=True):\n",
    "    numerics = ['int16', 'int32', 'int64', 'float16', 'float32', 'float64']\n",
    "    start_mem = df.memory_usage().sum() / 1024**2    \n",
    "    for col in df.columns:\n",
    "        col_type = df[col].dtypes\n",
    "        if col_type in numerics:\n",
    "            c_min = df[col].min()\n",
    "            c_max = df[col].max()\n",
    "            if str(col_type)[:3] == 'int':\n",
    "                if c_min > np.iinfo(np.int8).min and c_max < np.iinfo(np.int8).max:\n",
    "                    df[col] = df[col].astype(np.int8)\n",
    "                elif c_min > np.iinfo(np.int16).min and c_max < np.iinfo(np.int16).max:\n",
    "                    df[col] = df[col].astype(np.int16)\n",
    "                elif c_min > np.iinfo(np.int32).min and c_max < np.iinfo(np.int32).max:\n",
    "                    df[col] = df[col].astype(np.int32)\n",
    "                elif c_min > np.iinfo(np.int64).min and c_max < np.iinfo(np.int64).max:\n",
    "                    df[col] = df[col].astype(np.int64)  \n",
    "            else:\n",
    "                if c_min > np.finfo(np.float16).min and c_max < np.finfo(np.float16).max:\n",
    "                    df[col] = df[col].astype(np.float16)\n",
    "                elif c_min > np.finfo(np.float32).min and c_max < np.finfo(np.float32).max:\n",
    "                    df[col] = df[col].astype(np.float32)\n",
    "                else:\n",
    "                    df[col] = df[col].astype(np.float64)    \n",
    "    end_mem = df.memory_usage().sum() / 1024**2\n",
    "    if verbose: print('Mem. usage decreased to {:5.2f} Mb ({:.1f}% reduction)'.format(end_mem, 100 * (start_mem - end_mem) / start_mem))\n",
    "    return df\n",
    "\n",
    "from IPython.core.display import HTML\n",
    "\n",
    "def multi_table(table_list):\n",
    "    ''' Acceps a list of IpyTable objects and returns a table which contains each IpyTable in a cell\n",
    "    '''\n",
    "    return HTML(\n",
    "        '<table><tr style=\"background-color:white;\">' + \n",
    "        ''.join(['<td>' + table._repr_html_() + '</td>' for table in table_list]) +\n",
    "        '</tr></table>'\n",
    "    )"
   ]
  },
  {
   "cell_type": "markdown",
   "metadata": {},
   "source": [
    "##### 공휴일 정보"
   ]
  },
  {
   "cell_type": "code",
   "execution_count": 1,
   "metadata": {
    "ExecuteTime": {
     "end_time": "2020-01-07T05:24:59.075503Z",
     "start_time": "2020-01-07T05:24:59.051496Z"
    }
   },
   "outputs": [
    {
     "data": {
      "text/plain": [
       "'\\nimport requests\\nfrom bs4 import BeautifulSoup\\n\\nyears = [2019]\\nmonths  = [\"07\",\"08\",\"09\"]\\n\\nholiday_list = []\\nfor year in years:\\n    for month in months:\\n        api_key = \\'jTMT5wK9lV8UjusD4JWaRX68i%2BBYksj3shiHJcgsIjkXPiNvoz%2FDanOlGtDPbn9neN1We3lmn7IqDvQHKbwbfQ%3D%3D\\'\\n        url = \\'http://apis.data.go.kr/B090041/openapi/service/SpcdeInfoService/getHoliDeInfo?solYear={}&solMonth={}&ServiceKey={}\\'.format(year,month,api_key)\\n        get_data = requests.get(url)\\n        soup = BeautifulSoup(get_data.content, \\'html.parser\\')\\n        table = soup.find_all(\\'locdate\\')\\n        holiday_list = holiday_list + [day.text for day in table]\\n\\nwith open(\"holiday_\\nlist.pickle\", \"wb\") as f:\\n    pickle.dump(holiday_list, f, protocol=pickle.HIGHEST_PROTOCOL)\\n'"
      ]
     },
     "execution_count": 1,
     "metadata": {},
     "output_type": "execute_result"
    }
   ],
   "source": [
    "\"\"\"\n",
    "import requests\n",
    "from bs4 import BeautifulSoup\n",
    "\n",
    "years = [2019]\n",
    "months  = [\"07\",\"08\",\"09\"]\n",
    "\n",
    "holiday_list = []\n",
    "for year in years:\n",
    "    for month in months:\n",
    "        api_key = 'jTMT5wK9lV8UjusD4JWaRX68i%2BBYksj3shiHJcgsIjkXPiNvoz%2FDanOlGtDPbn9neN1We3lmn7IqDvQHKbwbfQ%3D%3D'\n",
    "        url = 'http://apis.data.go.kr/B090041/openapi/service/SpcdeInfoService/getHoliDeInfo?solYear={}&solMonth={}&ServiceKey={}'.format(year,month,api_key)\n",
    "        get_data = requests.get(url)\n",
    "        soup = BeautifulSoup(get_data.content, 'html.parser')\n",
    "        table = soup.find_all('locdate')\n",
    "        holiday_list = holiday_list + [day.text for day in table]\n",
    "\n",
    "with open(\"holiday_\n",
    "list.pickle\", \"wb\") as f:\n",
    "    pickle.dump(holiday_list, f, protocol=pickle.HIGHEST_PROTOCOL)\n",
    "\"\"\""
   ]
  },
  {
   "cell_type": "code",
   "execution_count": 35,
   "metadata": {
    "ExecuteTime": {
     "end_time": "2020-01-02T10:11:52.563244Z",
     "start_time": "2020-01-02T10:11:52.551244Z"
    }
   },
   "outputs": [],
   "source": [
    "with open(\"holiday_list.pickle\", \"rb\") as f:\n",
    "    holiday_list = pickle.load(f)"
   ]
  },
  {
   "cell_type": "code",
   "execution_count": 3,
   "metadata": {
    "ExecuteTime": {
     "end_time": "2020-01-07T10:41:42.826431Z",
     "start_time": "2020-01-07T10:41:30.361190Z"
    }
   },
   "outputs": [
    {
     "name": "stdout",
     "output_type": "stream",
     "text": [
      "Mem. usage decreased to 399.14 Mb (46.7% reduction)\n"
     ]
    }
   ],
   "source": [
    "online_df = pd.read_csv(\"clear_merged_online_df.csv\")\n",
    "online_df = reduce_mem_usage(online_df)\n",
    "online_df['time'] = pd.to_datetime(online_df.time)"
   ]
  },
  {
   "cell_type": "markdown",
   "metadata": {},
   "source": [
    "#### clnt_id별 반송률"
   ]
  },
  {
   "cell_type": "code",
   "execution_count": 5,
   "metadata": {
    "ExecuteTime": {
     "end_time": "2019-12-24T08:06:36.869790Z",
     "start_time": "2019-12-24T08:06:36.094072Z"
    }
   },
   "outputs": [],
   "source": [
    "\"\"\"\n",
    "tmp_df = online_df.groupby([\"clnt_id\",\"sess_id\"]).size().reset_index().rename(columns = { 0 : \"counts\"})\n",
    "\n",
    "clnt_return = tmp_df[tmp_df.counts == 1].groupby(\"clnt_id\").size().reset_index().rename(columns = {0 : \"return_counts\"})\n",
    "\n",
    "tot_sess_by_clnt = tmp_df.groupby([\"clnt_id\"]).size().reset_index().rename(columns = {0 : \"tot_sess_cnt\"})\n",
    "\n",
    "clnt_return_df = tot_sess_by_clnt.merge(clnt_return, how = \"left\").fillna(0)\n",
    "\n",
    "clnt_return_df.loc[:,\"return_rate\"] = clnt_return_df.return_counts / clnt_return_df.tot_sess_cnt\n",
    "\n",
    "clnt_return_df.to_csv(\"return_rate_by_clnt_id.csv\", index = False)\n",
    "\n",
    "online_df = online_df.merge(clnt_return_df, how = \"left\", on = \"clnt_id\")\n",
    "\"\"\"\n"
   ]
  },
  {
   "cell_type": "code",
   "execution_count": 9,
   "metadata": {
    "ExecuteTime": {
     "end_time": "2020-01-07T05:27:13.717217Z",
     "start_time": "2020-01-07T05:27:13.212984Z"
    }
   },
   "outputs": [],
   "source": [
    "return_sess = online_df[(online_df.tot_pag_view_ct==1) & (online_df.action_type.isin([0,1,2,5]))].drop_duplicates([\"clnt_id\",\"sess_id\"], keep =\"first\")[[\"clnt_id\",\"sess_id\"]]\n",
    "return_sess[\"returned\"] = 1\n",
    "return_sess.reset_index(drop = True, inplace = True)\n",
    "tot_return_sess = online_df[[\"clnt_id\",\"sess_id\"]].drop_duplicates(keep = \"first\").reset_index(drop = True).merge(return_sess, how = \"left\").fillna(0)\n",
    "\n",
    "returned_sum = tot_return_sess.groupby(\"clnt_id\").sum()[\"returned\"]\n",
    "sess_num_by_clnt = tot_return_sess.groupby(\"clnt_id\").size()\n",
    "return_rate = returned_sum / sess_num_by_clnt\n",
    "return_counts = tot_return_sess.groupby([\"clnt_id\"]).sum()[\"returned\"]\n",
    "clnt_ids = tot_return_sess.drop_duplicates([\"clnt_id\"], keep = \"first\")[[\"clnt_id\"]].reset_index(drop = True)\n",
    "clnt_ids[\"tot_sess_cnt\"] = tot_return_sess.groupby(\"clnt_id\").size().reset_index(drop = True)\n",
    "clnt_ids[\"return_counts\"] = return_counts.reset_index(drop=True)\n",
    "clnt_ids[\"return_rate\"] = return_rate.reset_index(drop=True)"
   ]
  },
  {
   "cell_type": "code",
   "execution_count": 8,
   "metadata": {
    "ExecuteTime": {
     "end_time": "2020-01-07T05:26:59.320946Z",
     "start_time": "2020-01-07T05:26:59.284945Z"
    }
   },
   "outputs": [],
   "source": [
    "# return_counts = tot_return_sess.groupby([\"clnt_id\"]).sum()[\"returned\"]"
   ]
  },
  {
   "cell_type": "code",
   "execution_count": 14,
   "metadata": {
    "ExecuteTime": {
     "end_time": "2019-12-30T12:57:15.845931Z",
     "start_time": "2019-12-30T12:57:15.589797Z"
    }
   },
   "outputs": [],
   "source": [
    "clnt_ids.to_csv(\"return_rate_by_clnt_id.csv\", index = False)"
   ]
  },
  {
   "cell_type": "code",
   "execution_count": 10,
   "metadata": {
    "ExecuteTime": {
     "end_time": "2020-01-07T05:27:24.655093Z",
     "start_time": "2020-01-07T05:27:22.054821Z"
    }
   },
   "outputs": [],
   "source": [
    "online_df = online_df.merge(clnt_ids, how= \"left\")"
   ]
  },
  {
   "cell_type": "code",
   "execution_count": null,
   "metadata": {},
   "outputs": [],
   "source": []
  },
  {
   "cell_type": "code",
   "execution_count": 13,
   "metadata": {
    "ExecuteTime": {
     "end_time": "2020-01-07T05:28:00.949528Z",
     "start_time": "2020-01-07T05:28:00.217308Z"
    }
   },
   "outputs": [
    {
     "data": {
      "text/plain": [
       "Text(0.5, 1.0, '접속기기별 반송률 분포')"
      ]
     },
     "execution_count": 13,
     "metadata": {},
     "output_type": "execute_result"
    },
    {
     "data": {
      "image/png": "[encoded data removed]",
      "text/plain": [
       "<Figure size 1152x432 with 1 Axes>"
      ]
     },
     "metadata": {
      "needs_background": "light"
     },
     "output_type": "display_data"
    }
   ],
   "source": [
    "plt.figure(figsize=(16,6))\n",
    "sns.boxenplot(x=online_df.dvc_ctg_nm, y=online_df.return_rate)\n",
    "plt.title(\"접속기기별 반송률 분포\", fontsize = 16)"
   ]
  },
  {
   "cell_type": "code",
   "execution_count": null,
   "metadata": {},
   "outputs": [],
   "source": []
  },
  {
   "cell_type": "code",
   "execution_count": 1,
   "metadata": {
    "ExecuteTime": {
     "end_time": "2020-01-08T03:38:51.160155Z",
     "start_time": "2020-01-08T03:38:51.148138Z"
    },
    "scrolled": true
   },
   "outputs": [
    {
     "data": {
      "text/plain": [
       "'plt.figure(figsize=(16,6))\\nsns.boxenplot(x=online_df.trfc_src, y=online_df.return_rate)\\nplt.title(\"접속경로별 반송률 분포\", fontsize = 16)'"
      ]
     },
     "execution_count": 1,
     "metadata": {},
     "output_type": "execute_result"
    }
   ],
   "source": [
    "\"\"\"plt.figure(figsize=(16,6))\n",
    "sns.boxenplot(x=online_df.trfc_src, y=online_df.return_rate)\n",
    "plt.title(\"접속경로별 반송률 분포\", fontsize = 16)\"\"\""
   ]
  },
  {
   "cell_type": "code",
   "execution_count": null,
   "metadata": {},
   "outputs": [],
   "source": []
  },
  {
   "cell_type": "code",
   "execution_count": null,
   "metadata": {},
   "outputs": [],
   "source": []
  },
  {
   "cell_type": "code",
   "execution_count": 2,
   "metadata": {
    "ExecuteTime": {
     "end_time": "2020-01-08T03:38:54.393353Z",
     "start_time": "2020-01-08T03:38:54.385353Z"
    },
    "scrolled": true
   },
   "outputs": [
    {
     "data": {
      "text/plain": [
       "'plt.figure(figsize=(16,6))\\nsns.boxplot(x=online_df.dvc_ctg_nm, y=online_df.return_rate)'"
      ]
     },
     "execution_count": 2,
     "metadata": {},
     "output_type": "execute_result"
    }
   ],
   "source": [
    "\"\"\"plt.figure(figsize=(16,6))\n",
    "sns.boxplot(x=online_df.dvc_ctg_nm, y=online_df.return_rate)\"\"\""
   ]
  },
  {
   "cell_type": "code",
   "execution_count": 29,
   "metadata": {
    "ExecuteTime": {
     "end_time": "2019-12-24T08:33:55.376077Z",
     "start_time": "2019-12-24T08:33:55.351144Z"
    }
   },
   "outputs": [],
   "source": [
    "main_access_time = pd.read_csv(\"main_access_time.csv\")"
   ]
  },
  {
   "cell_type": "markdown",
   "metadata": {},
   "source": [
    "#### 주접속시간대별 구매목록 차이?"
   ]
  },
  {
   "cell_type": "code",
   "execution_count": 31,
   "metadata": {
    "ExecuteTime": {
     "end_time": "2019-12-24T08:36:51.184252Z",
     "start_time": "2019-12-24T08:36:50.212830Z"
    }
   },
   "outputs": [],
   "source": [
    "online_df = online_df.merge(main_access_time)"
   ]
  },
  {
   "cell_type": "code",
   "execution_count": 43,
   "metadata": {
    "ExecuteTime": {
     "end_time": "2019-12-24T08:40:35.056793Z",
     "start_time": "2019-12-24T08:40:34.977007Z"
    }
   },
   "outputs": [],
   "source": [
    "tmp = online_df[online_df.action_type == 6].groupby([\"pattern\", \"clac_nm1\"]).size().reset_index().sort_values(by = [\"pattern\",0], ascending = [1,0])"
   ]
  },
  {
   "cell_type": "code",
   "execution_count": 82,
   "metadata": {
    "ExecuteTime": {
     "end_time": "2019-12-24T08:59:00.068128Z",
     "start_time": "2019-12-24T08:59:00.044097Z"
    }
   },
   "outputs": [],
   "source": [
    "with open('buying_sess_list.pickle', 'rb') as f:\n",
    "    buying_sess_list = pickle.load(f)"
   ]
  },
  {
   "cell_type": "code",
   "execution_count": 88,
   "metadata": {
    "ExecuteTime": {
     "end_time": "2019-12-24T09:00:17.137542Z",
     "start_time": "2019-12-24T09:00:16.841931Z"
    }
   },
   "outputs": [],
   "source": [
    "is_buying_session = pd.concat([online_df.drop_duplicates([\"clnt_id\",\"sess_id\"], keep = \"first\")[[\"clnt_id\",\"sess_id\"]].reset_index(drop = True),\n",
    "          pd.DataFrame(buying_sess_list)], axis=1)"
   ]
  },
  {
   "cell_type": "code",
   "execution_count": 90,
   "metadata": {
    "ExecuteTime": {
     "end_time": "2019-12-24T09:00:50.981396Z",
     "start_time": "2019-12-24T09:00:50.969394Z"
    }
   },
   "outputs": [],
   "source": [
    "is_buying_session.rename(columns={0 : \"is_buying_session\"}, inplace=True)"
   ]
  },
  {
   "cell_type": "code",
   "execution_count": 91,
   "metadata": {
    "ExecuteTime": {
     "end_time": "2019-12-24T09:01:30.177863Z",
     "start_time": "2019-12-24T09:01:27.319653Z"
    }
   },
   "outputs": [],
   "source": [
    "online_df = online_df.merge(is_buying_session, how = \"left\", on = [\"clnt_id\",\"sess_id\"])"
   ]
  },
  {
   "cell_type": "code",
   "execution_count": 95,
   "metadata": {
    "ExecuteTime": {
     "end_time": "2019-12-24T09:02:46.756958Z",
     "start_time": "2019-12-24T09:02:46.450835Z"
    }
   },
   "outputs": [],
   "source": [
    "tmp = online_df[online_df.is_buying_session == 1].drop_duplicates([\"clnt_id\",\"is_buying_session\"], keep = \"first\")"
   ]
  },
  {
   "cell_type": "code",
   "execution_count": 101,
   "metadata": {
    "ExecuteTime": {
     "end_time": "2019-12-24T09:16:23.942933Z",
     "start_time": "2019-12-24T09:16:23.934917Z"
    }
   },
   "outputs": [],
   "source": [
    "first_buying_session = tmp[[\"clnt_id\",\"sess_id\"]]"
   ]
  },
  {
   "cell_type": "code",
   "execution_count": null,
   "metadata": {},
   "outputs": [],
   "source": [
    "online_df[(online_df.clnt_id.isin(first_buying_session.clnt_id))]"
   ]
  },
  {
   "cell_type": "code",
   "execution_count": 105,
   "metadata": {
    "ExecuteTime": {
     "end_time": "2019-12-24T09:42:11.529557Z",
     "start_time": "2019-12-24T09:42:11.386128Z"
    }
   },
   "outputs": [],
   "source": [
    "clac_nm1_list = online_df.clac_nm1.unique().tolist()"
   ]
  },
  {
   "cell_type": "code",
   "execution_count": 111,
   "metadata": {
    "ExecuteTime": {
     "end_time": "2019-12-24T09:53:13.108228Z",
     "start_time": "2019-12-24T09:47:47.681753Z"
    }
   },
   "outputs": [
    {
     "name": "stdout",
     "output_type": "stream",
     "text": [
      "0\n",
      "1000\n",
      "2000\n",
      "3000\n",
      "4000\n",
      "5000\n",
      "6000\n",
      "7000\n",
      "8000\n",
      "9000\n",
      "10000\n",
      "11000\n",
      "12000\n",
      "13000\n",
      "14000\n",
      "15000\n",
      "16000\n",
      "17000\n",
      "18000\n",
      "19000\n",
      "20000\n"
     ]
    }
   ],
   "source": [
    "tot_lst = []\n",
    "for i, (clnt_id, sess_id) in enumerate(first_buying_session.values):\n",
    "    if i % 1000 == 0 :\n",
    "        print(i)\n",
    "    tmp_lst = np.zeros(len(clac_nm1_list))\n",
    "    df = online_df[(online_df.clnt_id == clnt_id) & (online_df.sess_id==sess_id)]\n",
    "    clac1_lst = df.clac_nm1.unique().tolist()\n",
    "    for clac1 in clac1_lst:\n",
    "        tmp_lst[clac_nm1_list.index(clac1)] = 1\n",
    "    tot_lst.append(tmp_lst)\n",
    "    "
   ]
  },
  {
   "cell_type": "code",
   "execution_count": 115,
   "metadata": {
    "ExecuteTime": {
     "end_time": "2019-12-24T09:54:19.099105Z",
     "start_time": "2019-12-24T09:54:18.842811Z"
    }
   },
   "outputs": [],
   "source": [
    "first_buying_cat = pd.DataFrame(tot_lst)"
   ]
  },
  {
   "cell_type": "code",
   "execution_count": 119,
   "metadata": {
    "ExecuteTime": {
     "end_time": "2019-12-24T09:55:49.598276Z",
     "start_time": "2019-12-24T09:55:49.594254Z"
    }
   },
   "outputs": [],
   "source": [
    "first_buying_cat.columns = clac_nm1_list"
   ]
  },
  {
   "cell_type": "code",
   "execution_count": 125,
   "metadata": {
    "ExecuteTime": {
     "end_time": "2019-12-24T10:04:11.589165Z",
     "start_time": "2019-12-24T10:04:11.578195Z"
    }
   },
   "outputs": [],
   "source": [
    "first_buying_cat.drop(first_buying_cat.columns[0], axis=1, inplace=True)"
   ]
  },
  {
   "cell_type": "code",
   "execution_count": 127,
   "metadata": {
    "ExecuteTime": {
     "end_time": "2019-12-24T10:04:32.681532Z",
     "start_time": "2019-12-24T10:04:32.677541Z"
    }
   },
   "outputs": [],
   "source": [
    "first_buying_cat.index = first_buying_session.clnt_id"
   ]
  },
  {
   "cell_type": "code",
   "execution_count": 130,
   "metadata": {
    "ExecuteTime": {
     "end_time": "2019-12-24T10:04:52.279851Z",
     "start_time": "2019-12-24T10:04:52.275892Z"
    }
   },
   "outputs": [],
   "source": [
    "first_buying_cat.reset_index(inplace = True)"
   ]
  },
  {
   "cell_type": "code",
   "execution_count": 143,
   "metadata": {
    "ExecuteTime": {
     "end_time": "2019-12-24T10:13:37.754539Z",
     "start_time": "2019-12-24T10:13:37.586550Z"
    }
   },
   "outputs": [],
   "source": [
    "tmp = online_df[[\"clnt_id\",\"pattern\"]].drop_duplicates(\"clnt_id\", keep = \"first\").merge(first_buying_cat).groupby(\"pattern\").sum().drop(\"clnt_id\", axis=1).T"
   ]
  },
  {
   "cell_type": "code",
   "execution_count": 149,
   "metadata": {
    "ExecuteTime": {
     "end_time": "2019-12-24T10:14:44.795796Z",
     "start_time": "2019-12-24T10:14:44.590846Z"
    }
   },
   "outputs": [
    {
     "data": {
      "text/plain": [
       "<matplotlib.axes._subplots.AxesSubplot at 0x217b3d919e8>"
      ]
     },
     "execution_count": 149,
     "metadata": {},
     "output_type": "execute_result"
    },
    {
     "data": {
      "image/png": "[encoded data removed]",
      "text/plain": [
       "<Figure size 1152x432 with 1 Axes>"
      ]
     },
     "metadata": {
      "needs_background": "light"
     },
     "output_type": "display_data"
    }
   ],
   "source": [
    "tmp.plot(figsize = (16,6))"
   ]
  },
  {
   "cell_type": "code",
   "execution_count": null,
   "metadata": {},
   "outputs": [],
   "source": []
  },
  {
   "cell_type": "code",
   "execution_count": null,
   "metadata": {},
   "outputs": [],
   "source": []
  },
  {
   "cell_type": "code",
   "execution_count": 80,
   "metadata": {
    "ExecuteTime": {
     "end_time": "2019-12-24T08:56:31.482745Z",
     "start_time": "2019-12-24T08:56:31.470688Z"
    }
   },
   "outputs": [],
   "source": [
    "for i in range(1,7):\n",
    "    globals()[\"tmp_{}\".format(i)] = tmp[tmp.pattern == i].iloc[:10]"
   ]
  },
  {
   "cell_type": "code",
   "execution_count": 81,
   "metadata": {
    "ExecuteTime": {
     "end_time": "2019-12-24T08:56:54.161686Z",
     "start_time": "2019-12-24T08:56:54.145686Z"
    }
   },
   "outputs": [
    {
     "data": {
      "text/html": [
       "<table><tr style=\"background-color:white;\"><td><div>\n",
       "<style scoped>\n",
       "    .dataframe tbody tr th:only-of-type {\n",
       "        vertical-align: middle;\n",
       "    }\n",
       "\n",
       "    .dataframe tbody tr th {\n",
       "        vertical-align: top;\n",
       "    }\n",
       "\n",
       "    .dataframe thead th {\n",
       "        text-align: right;\n",
       "    }\n",
       "</style>\n",
       "<table border=\"1\" class=\"dataframe\">\n",
       "  <thead>\n",
       "    <tr style=\"text-align: right;\">\n",
       "      <th></th>\n",
       "      <th>pattern</th>\n",
       "      <th>clac_nm1</th>\n",
       "      <th>0</th>\n",
       "    </tr>\n",
       "  </thead>\n",
       "  <tbody>\n",
       "    <tr>\n",
       "      <th>46</th>\n",
       "      <td>1</td>\n",
       "      <td>Vegetables</td>\n",
       "      <td>180</td>\n",
       "    </tr>\n",
       "    <tr>\n",
       "      <th>40</th>\n",
       "      <td>1</td>\n",
       "      <td>Substitute Foods</td>\n",
       "      <td>115</td>\n",
       "    </tr>\n",
       "    <tr>\n",
       "      <th>6</th>\n",
       "      <td>1</td>\n",
       "      <td>Chilled Foods</td>\n",
       "      <td>105</td>\n",
       "    </tr>\n",
       "    <tr>\n",
       "      <th>47</th>\n",
       "      <td>1</td>\n",
       "      <td>Women's Clothing</td>\n",
       "      <td>104</td>\n",
       "    </tr>\n",
       "    <tr>\n",
       "      <th>16</th>\n",
       "      <td>1</td>\n",
       "      <td>Frozen Foods</td>\n",
       "      <td>102</td>\n",
       "    </tr>\n",
       "    <tr>\n",
       "      <th>12</th>\n",
       "      <td>1</td>\n",
       "      <td>Dairy Products</td>\n",
       "      <td>100</td>\n",
       "    </tr>\n",
       "    <tr>\n",
       "      <th>28</th>\n",
       "      <td>1</td>\n",
       "      <td>Meats</td>\n",
       "      <td>99</td>\n",
       "    </tr>\n",
       "    <tr>\n",
       "      <th>36</th>\n",
       "      <td>1</td>\n",
       "      <td>Snack Foods</td>\n",
       "      <td>94</td>\n",
       "    </tr>\n",
       "    <tr>\n",
       "      <th>17</th>\n",
       "      <td>1</td>\n",
       "      <td>Fruits</td>\n",
       "      <td>89</td>\n",
       "    </tr>\n",
       "    <tr>\n",
       "      <th>2</th>\n",
       "      <td>1</td>\n",
       "      <td>Beverages</td>\n",
       "      <td>85</td>\n",
       "    </tr>\n",
       "  </tbody>\n",
       "</table>\n",
       "</div></td><td><div>\n",
       "<style scoped>\n",
       "    .dataframe tbody tr th:only-of-type {\n",
       "        vertical-align: middle;\n",
       "    }\n",
       "\n",
       "    .dataframe tbody tr th {\n",
       "        vertical-align: top;\n",
       "    }\n",
       "\n",
       "    .dataframe thead th {\n",
       "        text-align: right;\n",
       "    }\n",
       "</style>\n",
       "<table border=\"1\" class=\"dataframe\">\n",
       "  <thead>\n",
       "    <tr style=\"text-align: right;\">\n",
       "      <th></th>\n",
       "      <th>pattern</th>\n",
       "      <th>clac_nm1</th>\n",
       "      <th>0</th>\n",
       "    </tr>\n",
       "  </thead>\n",
       "  <tbody>\n",
       "    <tr>\n",
       "      <th>101</th>\n",
       "      <td>2</td>\n",
       "      <td>Vegetables</td>\n",
       "      <td>9411</td>\n",
       "    </tr>\n",
       "    <tr>\n",
       "      <th>82</th>\n",
       "      <td>2</td>\n",
       "      <td>Meats</td>\n",
       "      <td>6899</td>\n",
       "    </tr>\n",
       "    <tr>\n",
       "      <th>95</th>\n",
       "      <td>2</td>\n",
       "      <td>Substitute Foods</td>\n",
       "      <td>6698</td>\n",
       "    </tr>\n",
       "    <tr>\n",
       "      <th>63</th>\n",
       "      <td>2</td>\n",
       "      <td>Dairy Products</td>\n",
       "      <td>6362</td>\n",
       "    </tr>\n",
       "    <tr>\n",
       "      <th>57</th>\n",
       "      <td>2</td>\n",
       "      <td>Chilled Foods</td>\n",
       "      <td>6336</td>\n",
       "    </tr>\n",
       "    <tr>\n",
       "      <th>91</th>\n",
       "      <td>2</td>\n",
       "      <td>Snack Foods</td>\n",
       "      <td>6320</td>\n",
       "    </tr>\n",
       "    <tr>\n",
       "      <th>67</th>\n",
       "      <td>2</td>\n",
       "      <td>Frozen Foods</td>\n",
       "      <td>4977</td>\n",
       "    </tr>\n",
       "    <tr>\n",
       "      <th>52</th>\n",
       "      <td>2</td>\n",
       "      <td>Beverages</td>\n",
       "      <td>4394</td>\n",
       "    </tr>\n",
       "    <tr>\n",
       "      <th>68</th>\n",
       "      <td>2</td>\n",
       "      <td>Fruits</td>\n",
       "      <td>4371</td>\n",
       "    </tr>\n",
       "    <tr>\n",
       "      <th>92</th>\n",
       "      <td>2</td>\n",
       "      <td>Spices / Seasonings</td>\n",
       "      <td>2998</td>\n",
       "    </tr>\n",
       "  </tbody>\n",
       "</table>\n",
       "</div></td><td><div>\n",
       "<style scoped>\n",
       "    .dataframe tbody tr th:only-of-type {\n",
       "        vertical-align: middle;\n",
       "    }\n",
       "\n",
       "    .dataframe tbody tr th {\n",
       "        vertical-align: top;\n",
       "    }\n",
       "\n",
       "    .dataframe thead th {\n",
       "        text-align: right;\n",
       "    }\n",
       "</style>\n",
       "<table border=\"1\" class=\"dataframe\">\n",
       "  <thead>\n",
       "    <tr style=\"text-align: right;\">\n",
       "      <th></th>\n",
       "      <th>pattern</th>\n",
       "      <th>clac_nm1</th>\n",
       "      <th>0</th>\n",
       "    </tr>\n",
       "  </thead>\n",
       "  <tbody>\n",
       "    <tr>\n",
       "      <th>157</th>\n",
       "      <td>3</td>\n",
       "      <td>Vegetables</td>\n",
       "      <td>845</td>\n",
       "    </tr>\n",
       "    <tr>\n",
       "      <th>151</th>\n",
       "      <td>3</td>\n",
       "      <td>Substitute Foods</td>\n",
       "      <td>582</td>\n",
       "    </tr>\n",
       "    <tr>\n",
       "      <th>138</th>\n",
       "      <td>3</td>\n",
       "      <td>Meats</td>\n",
       "      <td>571</td>\n",
       "    </tr>\n",
       "    <tr>\n",
       "      <th>113</th>\n",
       "      <td>3</td>\n",
       "      <td>Chilled Foods</td>\n",
       "      <td>510</td>\n",
       "    </tr>\n",
       "    <tr>\n",
       "      <th>147</th>\n",
       "      <td>3</td>\n",
       "      <td>Snack Foods</td>\n",
       "      <td>508</td>\n",
       "    </tr>\n",
       "    <tr>\n",
       "      <th>119</th>\n",
       "      <td>3</td>\n",
       "      <td>Dairy Products</td>\n",
       "      <td>460</td>\n",
       "    </tr>\n",
       "    <tr>\n",
       "      <th>123</th>\n",
       "      <td>3</td>\n",
       "      <td>Frozen Foods</td>\n",
       "      <td>454</td>\n",
       "    </tr>\n",
       "    <tr>\n",
       "      <th>124</th>\n",
       "      <td>3</td>\n",
       "      <td>Fruits</td>\n",
       "      <td>400</td>\n",
       "    </tr>\n",
       "    <tr>\n",
       "      <th>108</th>\n",
       "      <td>3</td>\n",
       "      <td>Beverages</td>\n",
       "      <td>358</td>\n",
       "    </tr>\n",
       "    <tr>\n",
       "      <th>159</th>\n",
       "      <td>3</td>\n",
       "      <td>Women's Clothing</td>\n",
       "      <td>347</td>\n",
       "    </tr>\n",
       "  </tbody>\n",
       "</table>\n",
       "</div></td><td><div>\n",
       "<style scoped>\n",
       "    .dataframe tbody tr th:only-of-type {\n",
       "        vertical-align: middle;\n",
       "    }\n",
       "\n",
       "    .dataframe tbody tr th {\n",
       "        vertical-align: top;\n",
       "    }\n",
       "\n",
       "    .dataframe thead th {\n",
       "        text-align: right;\n",
       "    }\n",
       "</style>\n",
       "<table border=\"1\" class=\"dataframe\">\n",
       "  <thead>\n",
       "    <tr style=\"text-align: right;\">\n",
       "      <th></th>\n",
       "      <th>pattern</th>\n",
       "      <th>clac_nm1</th>\n",
       "      <th>0</th>\n",
       "    </tr>\n",
       "  </thead>\n",
       "  <tbody>\n",
       "    <tr>\n",
       "      <th>161</th>\n",
       "      <td>4</td>\n",
       "      <td>Beverages</td>\n",
       "      <td>26</td>\n",
       "    </tr>\n",
       "    <tr>\n",
       "      <th>189</th>\n",
       "      <td>4</td>\n",
       "      <td>Snack Foods</td>\n",
       "      <td>20</td>\n",
       "    </tr>\n",
       "    <tr>\n",
       "      <th>193</th>\n",
       "      <td>4</td>\n",
       "      <td>Substitute Foods</td>\n",
       "      <td>20</td>\n",
       "    </tr>\n",
       "    <tr>\n",
       "      <th>164</th>\n",
       "      <td>4</td>\n",
       "      <td>Chilled Foods</td>\n",
       "      <td>18</td>\n",
       "    </tr>\n",
       "    <tr>\n",
       "      <th>172</th>\n",
       "      <td>4</td>\n",
       "      <td>Frozen Foods</td>\n",
       "      <td>15</td>\n",
       "    </tr>\n",
       "    <tr>\n",
       "      <th>195</th>\n",
       "      <td>4</td>\n",
       "      <td>Vegetables</td>\n",
       "      <td>14</td>\n",
       "    </tr>\n",
       "    <tr>\n",
       "      <th>182</th>\n",
       "      <td>4</td>\n",
       "      <td>Meats</td>\n",
       "      <td>12</td>\n",
       "    </tr>\n",
       "    <tr>\n",
       "      <th>169</th>\n",
       "      <td>4</td>\n",
       "      <td>Detergents / Hygiene Goods</td>\n",
       "      <td>11</td>\n",
       "    </tr>\n",
       "    <tr>\n",
       "      <th>168</th>\n",
       "      <td>4</td>\n",
       "      <td>Dairy Products</td>\n",
       "      <td>9</td>\n",
       "    </tr>\n",
       "    <tr>\n",
       "      <th>196</th>\n",
       "      <td>4</td>\n",
       "      <td>Women's Clothing</td>\n",
       "      <td>9</td>\n",
       "    </tr>\n",
       "  </tbody>\n",
       "</table>\n",
       "</div></td><td><div>\n",
       "<style scoped>\n",
       "    .dataframe tbody tr th:only-of-type {\n",
       "        vertical-align: middle;\n",
       "    }\n",
       "\n",
       "    .dataframe tbody tr th {\n",
       "        vertical-align: top;\n",
       "    }\n",
       "\n",
       "    .dataframe thead th {\n",
       "        text-align: right;\n",
       "    }\n",
       "</style>\n",
       "<table border=\"1\" class=\"dataframe\">\n",
       "  <thead>\n",
       "    <tr style=\"text-align: right;\">\n",
       "      <th></th>\n",
       "      <th>pattern</th>\n",
       "      <th>clac_nm1</th>\n",
       "      <th>0</th>\n",
       "    </tr>\n",
       "  </thead>\n",
       "  <tbody>\n",
       "    <tr>\n",
       "      <th>246</th>\n",
       "      <td>5</td>\n",
       "      <td>Vegetables</td>\n",
       "      <td>694</td>\n",
       "    </tr>\n",
       "    <tr>\n",
       "      <th>240</th>\n",
       "      <td>5</td>\n",
       "      <td>Substitute Foods</td>\n",
       "      <td>577</td>\n",
       "    </tr>\n",
       "    <tr>\n",
       "      <th>236</th>\n",
       "      <td>5</td>\n",
       "      <td>Snack Foods</td>\n",
       "      <td>546</td>\n",
       "    </tr>\n",
       "    <tr>\n",
       "      <th>210</th>\n",
       "      <td>5</td>\n",
       "      <td>Dairy Products</td>\n",
       "      <td>485</td>\n",
       "    </tr>\n",
       "    <tr>\n",
       "      <th>227</th>\n",
       "      <td>5</td>\n",
       "      <td>Meats</td>\n",
       "      <td>440</td>\n",
       "    </tr>\n",
       "    <tr>\n",
       "      <th>215</th>\n",
       "      <td>5</td>\n",
       "      <td>Fruits</td>\n",
       "      <td>430</td>\n",
       "    </tr>\n",
       "    <tr>\n",
       "      <th>204</th>\n",
       "      <td>5</td>\n",
       "      <td>Chilled Foods</td>\n",
       "      <td>427</td>\n",
       "    </tr>\n",
       "    <tr>\n",
       "      <th>199</th>\n",
       "      <td>5</td>\n",
       "      <td>Beverages</td>\n",
       "      <td>386</td>\n",
       "    </tr>\n",
       "    <tr>\n",
       "      <th>214</th>\n",
       "      <td>5</td>\n",
       "      <td>Frozen Foods</td>\n",
       "      <td>350</td>\n",
       "    </tr>\n",
       "    <tr>\n",
       "      <th>237</th>\n",
       "      <td>5</td>\n",
       "      <td>Spices / Seasonings</td>\n",
       "      <td>218</td>\n",
       "    </tr>\n",
       "  </tbody>\n",
       "</table>\n",
       "</div></td><td><div>\n",
       "<style scoped>\n",
       "    .dataframe tbody tr th:only-of-type {\n",
       "        vertical-align: middle;\n",
       "    }\n",
       "\n",
       "    .dataframe tbody tr th {\n",
       "        vertical-align: top;\n",
       "    }\n",
       "\n",
       "    .dataframe thead th {\n",
       "        text-align: right;\n",
       "    }\n",
       "</style>\n",
       "<table border=\"1\" class=\"dataframe\">\n",
       "  <thead>\n",
       "    <tr style=\"text-align: right;\">\n",
       "      <th></th>\n",
       "      <th>pattern</th>\n",
       "      <th>clac_nm1</th>\n",
       "      <th>0</th>\n",
       "    </tr>\n",
       "  </thead>\n",
       "  <tbody>\n",
       "    <tr>\n",
       "      <th>297</th>\n",
       "      <td>6</td>\n",
       "      <td>Women's Clothing</td>\n",
       "      <td>123</td>\n",
       "    </tr>\n",
       "    <tr>\n",
       "      <th>285</th>\n",
       "      <td>6</td>\n",
       "      <td>Snack Foods</td>\n",
       "      <td>106</td>\n",
       "    </tr>\n",
       "    <tr>\n",
       "      <th>289</th>\n",
       "      <td>6</td>\n",
       "      <td>Substitute Foods</td>\n",
       "      <td>101</td>\n",
       "    </tr>\n",
       "    <tr>\n",
       "      <th>295</th>\n",
       "      <td>6</td>\n",
       "      <td>Vegetables</td>\n",
       "      <td>99</td>\n",
       "    </tr>\n",
       "    <tr>\n",
       "      <th>250</th>\n",
       "      <td>6</td>\n",
       "      <td>Beverages</td>\n",
       "      <td>92</td>\n",
       "    </tr>\n",
       "    <tr>\n",
       "      <th>254</th>\n",
       "      <td>6</td>\n",
       "      <td>Chilled Foods</td>\n",
       "      <td>89</td>\n",
       "    </tr>\n",
       "    <tr>\n",
       "      <th>276</th>\n",
       "      <td>6</td>\n",
       "      <td>Meats</td>\n",
       "      <td>82</td>\n",
       "    </tr>\n",
       "    <tr>\n",
       "      <th>260</th>\n",
       "      <td>6</td>\n",
       "      <td>Dairy Products</td>\n",
       "      <td>80</td>\n",
       "    </tr>\n",
       "    <tr>\n",
       "      <th>265</th>\n",
       "      <td>6</td>\n",
       "      <td>Fruits</td>\n",
       "      <td>74</td>\n",
       "    </tr>\n",
       "    <tr>\n",
       "      <th>264</th>\n",
       "      <td>6</td>\n",
       "      <td>Frozen Foods</td>\n",
       "      <td>73</td>\n",
       "    </tr>\n",
       "  </tbody>\n",
       "</table>\n",
       "</div></td></tr></table>"
      ],
      "text/plain": [
       "<IPython.core.display.HTML object>"
      ]
     },
     "execution_count": 81,
     "metadata": {},
     "output_type": "execute_result"
    }
   ],
   "source": [
    "multi_table([tmp_1,tmp_2,tmp_3,tmp_4,tmp_5,tmp_6])"
   ]
  },
  {
   "cell_type": "code",
   "execution_count": 2,
   "metadata": {
    "ExecuteTime": {
     "end_time": "2020-01-07T10:40:56.540437Z",
     "start_time": "2020-01-07T10:40:56.497520Z"
    }
   },
   "outputs": [],
   "source": []
  },
  {
   "cell_type": "code",
   "execution_count": 68,
   "metadata": {
    "ExecuteTime": {
     "end_time": "2019-12-24T08:51:18.334012Z",
     "start_time": "2019-12-24T08:51:18.139701Z"
    }
   },
   "outputs": [],
   "source": [
    "texts = []\n",
    "for i in range(1,7):\n",
    "    df = online_df[(online_df.action_type == 6) & (online_df.pattern == i)]\n",
    "    text = df.clac_nm1.dropna().values\n",
    "    texts.append(text)"
   ]
  },
  {
   "cell_type": "code",
   "execution_count": 90,
   "metadata": {
    "ExecuteTime": {
     "end_time": "2020-01-05T12:45:41.162222Z",
     "start_time": "2020-01-05T12:45:41.046180Z"
    }
   },
   "outputs": [],
   "source": [
    "texts =online_df.sech_kwd.dropna().tolist()"
   ]
  },
  {
   "cell_type": "code",
   "execution_count": 96,
   "metadata": {
    "ExecuteTime": {
     "end_time": "2020-01-05T12:47:21.536808Z",
     "start_time": "2020-01-05T12:47:16.594035Z"
    }
   },
   "outputs": [],
   "source": [
    "txt = \"\"\n",
    "for text in texts:\n",
    "    txt = txt + \"\" + text"
   ]
  },
  {
   "cell_type": "code",
   "execution_count": null,
   "metadata": {},
   "outputs": [],
   "source": []
  },
  {
   "cell_type": "code",
   "execution_count": null,
   "metadata": {},
   "outputs": [],
   "source": []
  },
  {
   "cell_type": "code",
   "execution_count": 8,
   "metadata": {
    "ExecuteTime": {
     "end_time": "2020-01-07T10:41:59.341992Z",
     "start_time": "2020-01-07T10:41:59.317332Z"
    }
   },
   "outputs": [],
   "source": [
    "mask = np.array(Image.open(\"plots/wordcloud_mask.png\"))"
   ]
  },
  {
   "cell_type": "code",
   "execution_count": 71,
   "metadata": {
    "ExecuteTime": {
     "end_time": "2020-01-05T12:33:13.053674Z",
     "start_time": "2020-01-05T12:33:12.762733Z"
    }
   },
   "outputs": [],
   "source": [
    "# texts = online_df.sech_kwd.dropna().astype(str).value_counts().to_dict()"
   ]
  },
  {
   "cell_type": "code",
   "execution_count": 4,
   "metadata": {
    "ExecuteTime": {
     "end_time": "2020-01-07T10:41:46.783490Z",
     "start_time": "2020-01-07T10:41:46.654293Z"
    }
   },
   "outputs": [],
   "source": [
    "texts = online_df.sech_kwd.dropna().astype(str).tolist()"
   ]
  },
  {
   "cell_type": "code",
   "execution_count": 5,
   "metadata": {
    "ExecuteTime": {
     "end_time": "2020-01-07T10:41:48.532873Z",
     "start_time": "2020-01-07T10:41:48.517220Z"
    }
   },
   "outputs": [],
   "source": [
    "pd.options.display.max_rows = 200"
   ]
  },
  {
   "cell_type": "code",
   "execution_count": 6,
   "metadata": {
    "ExecuteTime": {
     "end_time": "2020-01-07T10:41:49.993434Z",
     "start_time": "2020-01-07T10:41:49.990434Z"
    }
   },
   "outputs": [],
   "source": [
    "import random"
   ]
  },
  {
   "cell_type": "code",
   "execution_count": 7,
   "metadata": {
    "ExecuteTime": {
     "end_time": "2020-01-07T10:41:51.903036Z",
     "start_time": "2020-01-07T10:41:51.455702Z"
    }
   },
   "outputs": [],
   "source": [
    "random.shuffle(texts)"
   ]
  },
  {
   "cell_type": "code",
   "execution_count": 9,
   "metadata": {
    "ExecuteTime": {
     "end_time": "2020-01-07T10:42:10.106797Z",
     "start_time": "2020-01-07T10:42:03.439643Z"
    },
    "collapsed": true
   },
   "outputs": [
    {
     "data": {
      "image/png": "[encoded data removed]",
      "text/plain": [
       "<Figure size 576x432 with 1 Axes>"
      ]
     },
     "metadata": {},
     "output_type": "display_data"
    }
   ],
   "source": [
    "wordcloud = WordCloud(\n",
    "    font_path = \"C://Windows/Fonts/NanumGothic.ttf\",\n",
    "    width = 2000,\n",
    "    height = 800,\n",
    "    mask = mask,\n",
    "    background_color = 'white',\n",
    "    max_words = 100,\n",
    "    stopwords = STOPWORDS).generate(str(texts))\n",
    "fig = plt.figure(\n",
    "    figsize = (8, 6),\n",
    "    facecolor = 'white',\n",
    "    edgecolor = 'white'\n",
    ")\n",
    "plt.imshow(wordcloud, interpolation = 'bilinear')\n",
    "plt.axis('off')\n",
    "plt.tight_layout(pad=0)\n",
    "plt.show()"
   ]
  },
  {
   "cell_type": "code",
   "execution_count": 16,
   "metadata": {
    "ExecuteTime": {
     "end_time": "2020-01-07T10:50:14.821755Z",
     "start_time": "2020-01-07T10:50:14.817765Z"
    }
   },
   "outputs": [],
   "source": [
    "mask = np.array(Image.open(\"plots/wordcloud_mask.png\"))"
   ]
  },
  {
   "cell_type": "code",
   "execution_count": 15,
   "metadata": {
    "ExecuteTime": {
     "end_time": "2020-01-07T10:50:00.044276Z",
     "start_time": "2020-01-07T10:49:59.901672Z"
    }
   },
   "outputs": [
    {
     "ename": "AttributeError",
     "evalue": "'str' object has no attribute 'items'",
     "output_type": "error",
     "traceback": [
      "\u001b[1;31m---------------------------------------------------------------------------\u001b[0m",
      "\u001b[1;31mAttributeError\u001b[0m                            Traceback (most recent call last)",
      "\u001b[1;32m<ipython-input-15-2e6ba36c7736>\u001b[0m in \u001b[0;36m<module>\u001b[1;34m()\u001b[0m\n\u001b[0;32m     11\u001b[0m )\n\u001b[0;32m     12\u001b[0m \u001b[1;33m\u001b[0m\u001b[0m\n\u001b[1;32m---> 13\u001b[1;33m \u001b[0mwordcloud\u001b[0m \u001b[1;33m=\u001b[0m \u001b[0mwordcloud\u001b[0m\u001b[1;33m.\u001b[0m\u001b[0mgenerate_from_frequencies\u001b[0m\u001b[1;33m(\u001b[0m\u001b[0mstr\u001b[0m\u001b[1;33m(\u001b[0m\u001b[0mtexts\u001b[0m\u001b[1;33m)\u001b[0m\u001b[1;33m)\u001b[0m\u001b[1;33m\u001b[0m\u001b[1;33m\u001b[0m\u001b[0m\n\u001b[0m\u001b[0;32m     14\u001b[0m \u001b[0mplt\u001b[0m\u001b[1;33m.\u001b[0m\u001b[0mfigure\u001b[0m\u001b[1;33m(\u001b[0m\u001b[0mfigsize\u001b[0m\u001b[1;33m=\u001b[0m\u001b[1;33m(\u001b[0m\u001b[1;36m10\u001b[0m\u001b[1;33m,\u001b[0m \u001b[1;36m10\u001b[0m\u001b[1;33m)\u001b[0m\u001b[1;33m)\u001b[0m\u001b[1;33m\u001b[0m\u001b[1;33m\u001b[0m\u001b[0m\n\u001b[0;32m     15\u001b[0m \u001b[0mplt\u001b[0m\u001b[1;33m.\u001b[0m\u001b[0mimshow\u001b[0m\u001b[1;33m(\u001b[0m\u001b[0mwordcloud\u001b[0m\u001b[1;33m,\u001b[0m \u001b[0minterpolation\u001b[0m\u001b[1;33m=\u001b[0m\u001b[1;34m\"bilinear\"\u001b[0m\u001b[1;33m)\u001b[0m\u001b[1;33m\u001b[0m\u001b[1;33m\u001b[0m\u001b[0m\n",
      "\u001b[1;32mc:\\python37\\lib\\site-packages\\wordcloud\\wordcloud.py\u001b[0m in \u001b[0;36mgenerate_from_frequencies\u001b[1;34m(self, frequencies, max_font_size)\u001b[0m\n\u001b[0;32m    378\u001b[0m         \"\"\"\n\u001b[0;32m    379\u001b[0m         \u001b[1;31m# make sure frequencies are sorted and normalized\u001b[0m\u001b[1;33m\u001b[0m\u001b[1;33m\u001b[0m\u001b[1;33m\u001b[0m\u001b[0m\n\u001b[1;32m--> 380\u001b[1;33m         \u001b[0mfrequencies\u001b[0m \u001b[1;33m=\u001b[0m \u001b[0msorted\u001b[0m\u001b[1;33m(\u001b[0m\u001b[0mfrequencies\u001b[0m\u001b[1;33m.\u001b[0m\u001b[0mitems\u001b[0m\u001b[1;33m(\u001b[0m\u001b[1;33m)\u001b[0m\u001b[1;33m,\u001b[0m \u001b[0mkey\u001b[0m\u001b[1;33m=\u001b[0m\u001b[0mitemgetter\u001b[0m\u001b[1;33m(\u001b[0m\u001b[1;36m1\u001b[0m\u001b[1;33m)\u001b[0m\u001b[1;33m,\u001b[0m \u001b[0mreverse\u001b[0m\u001b[1;33m=\u001b[0m\u001b[1;32mTrue\u001b[0m\u001b[1;33m)\u001b[0m\u001b[1;33m\u001b[0m\u001b[1;33m\u001b[0m\u001b[0m\n\u001b[0m\u001b[0;32m    381\u001b[0m         \u001b[1;32mif\u001b[0m \u001b[0mlen\u001b[0m\u001b[1;33m(\u001b[0m\u001b[0mfrequencies\u001b[0m\u001b[1;33m)\u001b[0m \u001b[1;33m<=\u001b[0m \u001b[1;36m0\u001b[0m\u001b[1;33m:\u001b[0m\u001b[1;33m\u001b[0m\u001b[1;33m\u001b[0m\u001b[0m\n\u001b[0;32m    382\u001b[0m             raise ValueError(\"We need at least 1 word to plot a word cloud, \"\n",
      "\u001b[1;31mAttributeError\u001b[0m: 'str' object has no attribute 'items'"
     ]
    }
   ],
   "source": [
    "wordcloud = WordCloud(\n",
    "    font_path = \"C://Windows/Fonts/NanumGothic.ttf\",\n",
    "    width = 800,\n",
    "    height = 800,\n",
    "    background_color=\"white\",\n",
    "    mask = mask,\n",
    "    max_words = 100,\n",
    "    stopwords = STOPWORDS\n",
    ")\n",
    "\n",
    "wordcloud = wordcloud.generate_from_frequencies(str(texts))\n",
    "plt.figure(figsize=(10, 10))\n",
    "plt.imshow(wordcloud, interpolation=\"bilinear\")\n",
    "plt.axis(\"off\")\n",
    "plt.show()"
   ]
  },
  {
   "cell_type": "code",
   "execution_count": 150,
   "metadata": {
    "ExecuteTime": {
     "end_time": "2020-01-05T13:13:38.941269Z",
     "start_time": "2020-01-05T13:13:38.933263Z"
    }
   },
   "outputs": [
    {
     "data": {
      "text/plain": [
       "{\"감자'\": 0.13125413268679745,\n",
       " \"계란'\": 0.5592902799206524,\n",
       " \"과자'\": 0.20652413489089708,\n",
       " \"김'\": 0.17247079567996473,\n",
       " \"김치'\": 0.15307471897729777,\n",
       " \"깻잎'\": 0.12794798324884285,\n",
       " \"닭'\": 0.14513996032620674,\n",
       " \"당근'\": 0.19638527661450297,\n",
       " \"대파'\": 0.14436852545735068,\n",
       " \"두부'\": 0.5767026669605466,\n",
       " \"떡볶이'\": 0.15307471897729777,\n",
       " \"라면'\": 0.2886268459334362,\n",
       " \"만두'\": 0.14580119021379767,\n",
       " \"맛살'\": 0.11130703107780472,\n",
       " \"바나나'\": 0.20376901035926823,\n",
       " \"버섯'\": 0.16751157152303284,\n",
       " \"복숭아'\": 0.17522592021159356,\n",
       " \"빵'\": 0.12188670927925942,\n",
       " \"사과'\": 0.12155609433546397,\n",
       " \"삼겹살'\": 0.18216883403129822,\n",
       " \"삼다수'\": 0.1303724928366762,\n",
       " \"상추'\": 0.18260965395635884,\n",
       " \"생수'\": 0.47597531408419663,\n",
       " \"수박'\": 0.2972228344721181,\n",
       " \"시금치'\": 0.13544192197487326,\n",
       " \"식빵'\": 0.22184262728675336,\n",
       " \"신라면'\": 0.12728675336125192,\n",
       " \"쌀'\": 0.22867533612519286,\n",
       " \"아이스크림'\": 0.13918889133788848,\n",
       " \"애호박'\": 0.13169495261185807,\n",
       " \"양배추'\": 0.13103372272426714,\n",
       " \"양상추'\": 0.1108662111527441,\n",
       " \"양파'\": 0.20630372492836677,\n",
       " \"어묵'\": 0.20916905444126074,\n",
       " \"오이'\": 0.27485122327529204,\n",
       " \"오징어'\": 0.12276834912938064,\n",
       " \"요거트'\": 0.12442142384835794,\n",
       " \"요구르트'\": 0.17985452942473,\n",
       " \"요플레'\": 0.1518624641833811,\n",
       " \"우유'\": 1.0,\n",
       " \"원피스'\": 0.24531628829623098,\n",
       " \"짜파게티'\": 0.12309896407317611,\n",
       " \"치즈'\": 0.1469032400264492,\n",
       " \"카레'\": 0.12001322459775182,\n",
       " \"컵라면'\": 0.13544192197487326,\n",
       " \"콜라'\": 0.11692748512232753,\n",
       " \"콩나물'\": 0.2757328631254133,\n",
       " \"토마토'\": 0.12497244875468372,\n",
       " \"햄'\": 0.13500110204981264,\n",
       " \"햇반'\": 0.18139739916244213}"
      ]
     },
     "execution_count": 150,
     "metadata": {},
     "output_type": "execute_result"
    }
   ],
   "source": [
    "wordcloud.words_"
   ]
  },
  {
   "cell_type": "code",
   "execution_count": null,
   "metadata": {},
   "outputs": [],
   "source": []
  },
  {
   "cell_type": "code",
   "execution_count": 2,
   "metadata": {
    "ExecuteTime": {
     "end_time": "2019-12-25T10:49:12.452476Z",
     "start_time": "2019-12-25T10:49:08.853076Z"
    }
   },
   "outputs": [],
   "source": []
  },
  {
   "cell_type": "markdown",
   "metadata": {},
   "source": [
    "#### 소분류"
   ]
  },
  {
   "cell_type": "code",
   "execution_count": 7,
   "metadata": {
    "ExecuteTime": {
     "end_time": "2020-01-03T16:17:33.816849Z",
     "start_time": "2020-01-03T16:17:33.756697Z"
    }
   },
   "outputs": [],
   "source": [
    "tmp_df = online_df[online_df.action_type == 6][[\"clnt_id\",\"clac_nm3\"]].fillna(\"unknown\")"
   ]
  },
  {
   "cell_type": "code",
   "execution_count": 12,
   "metadata": {
    "ExecuteTime": {
     "end_time": "2020-01-03T16:19:21.269476Z",
     "start_time": "2020-01-03T16:19:17.575207Z"
    }
   },
   "outputs": [],
   "source": [
    "item_list = tmp_df.groupby([\"clnt_id\"]).agg({\"clac_nm3\" : \"unique\"}).reset_index()"
   ]
  },
  {
   "cell_type": "code",
   "execution_count": 20,
   "metadata": {
    "ExecuteTime": {
     "end_time": "2020-01-03T16:31:57.797862Z",
     "start_time": "2020-01-03T16:31:53.453068Z"
    }
   },
   "outputs": [],
   "source": [
    "buying_list_clac_3 = pd.concat([tmp_df[[\"clnt_id\"]], pd.get_dummies(tmp_df.clac_nm3)],axis=1).groupby(\"clnt_id\").sum().reset_index()"
   ]
  },
  {
   "cell_type": "code",
   "execution_count": 21,
   "metadata": {
    "ExecuteTime": {
     "end_time": "2020-01-03T16:32:26.025081Z",
     "start_time": "2020-01-03T16:32:12.323833Z"
    }
   },
   "outputs": [],
   "source": [
    "buying_list_clac_3.to_csv(\"buying_list_clac3.csv\", index = False)"
   ]
  },
  {
   "cell_type": "markdown",
   "metadata": {},
   "source": [
    "####  LSTM"
   ]
  },
  {
   "cell_type": "code",
   "execution_count": 7,
   "metadata": {
    "ExecuteTime": {
     "end_time": "2020-01-02T09:50:58.827335Z",
     "start_time": "2020-01-02T09:50:58.613099Z"
    }
   },
   "outputs": [],
   "source": [
    "pre_df = online_df[online_df.action_type == 6].groupby([\"clac_nm1\",\"month\",\"day\"]).size().reset_index()"
   ]
  },
  {
   "cell_type": "code",
   "execution_count": 8,
   "metadata": {
    "ExecuteTime": {
     "end_time": "2020-01-02T09:51:01.941448Z",
     "start_time": "2020-01-02T09:51:01.921672Z"
    }
   },
   "outputs": [],
   "source": [
    "#online_df.drop_duplicates([\"month\",\"day\"], keep = \"first\").head()"
   ]
  },
  {
   "cell_type": "code",
   "execution_count": 9,
   "metadata": {
    "ExecuteTime": {
     "end_time": "2020-01-02T09:51:08.338453Z",
     "start_time": "2020-01-02T09:51:08.330404Z"
    }
   },
   "outputs": [],
   "source": [
    "day_range = pd.DataFrame(pd.date_range(start='20190701', end='20190930')).rename(columns = {0 : \"time\"})"
   ]
  },
  {
   "cell_type": "code",
   "execution_count": 10,
   "metadata": {
    "ExecuteTime": {
     "end_time": "2020-01-02T09:51:08.962986Z",
     "start_time": "2020-01-02T09:51:08.870511Z"
    }
   },
   "outputs": [],
   "source": [
    "pre_df2 = pd.concat([pd.DataFrame(online_df.clac_nm1.dropna().unique())]*92).sort_values(by = 0).reset_index(drop = True)"
   ]
  },
  {
   "cell_type": "code",
   "execution_count": 11,
   "metadata": {
    "ExecuteTime": {
     "end_time": "2020-01-02T09:51:09.847307Z",
     "start_time": "2020-01-02T09:51:09.839305Z"
    }
   },
   "outputs": [],
   "source": [
    "time = pd.concat([day_range] * 56).reset_index(drop = True)"
   ]
  },
  {
   "cell_type": "code",
   "execution_count": 12,
   "metadata": {
    "ExecuteTime": {
     "end_time": "2020-01-02T09:51:10.342938Z",
     "start_time": "2020-01-02T09:51:10.334938Z"
    }
   },
   "outputs": [],
   "source": [
    "pre_df2 = pd.concat([pre_df2, time], axis=1)"
   ]
  },
  {
   "cell_type": "code",
   "execution_count": 13,
   "metadata": {
    "ExecuteTime": {
     "end_time": "2020-01-02T09:51:10.766983Z",
     "start_time": "2020-01-02T09:51:10.762972Z"
    }
   },
   "outputs": [],
   "source": [
    "pre_df2.rename(columns={ 0 : \"clac_nm1\"}, inplace=True)"
   ]
  },
  {
   "cell_type": "code",
   "execution_count": 14,
   "metadata": {
    "ExecuteTime": {
     "end_time": "2020-01-02T09:51:11.561683Z",
     "start_time": "2020-01-02T09:51:11.549443Z"
    }
   },
   "outputs": [],
   "source": [
    "pre_df2['month'] = pre_df2.time.dt.month\n",
    "pre_df2['day'] = pre_df2.time.dt.day"
   ]
  },
  {
   "cell_type": "code",
   "execution_count": 15,
   "metadata": {
    "ExecuteTime": {
     "end_time": "2020-01-02T09:51:13.971083Z",
     "start_time": "2020-01-02T09:51:13.955052Z"
    }
   },
   "outputs": [],
   "source": [
    "df = pre_df2.merge(pre_df, how = \"left\").fillna(0)"
   ]
  },
  {
   "cell_type": "code",
   "execution_count": 16,
   "metadata": {
    "ExecuteTime": {
     "end_time": "2020-01-02T09:51:14.119337Z",
     "start_time": "2020-01-02T09:51:14.111336Z"
    }
   },
   "outputs": [],
   "source": [
    "df.rename(columns= {0 : \"sales\"}, inplace = True)"
   ]
  },
  {
   "cell_type": "code",
   "execution_count": 17,
   "metadata": {
    "ExecuteTime": {
     "end_time": "2020-01-02T09:51:14.616454Z",
     "start_time": "2020-01-02T09:51:14.608454Z"
    }
   },
   "outputs": [
    {
     "data": {
      "text/plain": [
       "(5152, 5)"
      ]
     },
     "execution_count": 17,
     "metadata": {},
     "output_type": "execute_result"
    }
   ],
   "source": [
    "df.shape"
   ]
  },
  {
   "cell_type": "code",
   "execution_count": 36,
   "metadata": {
    "ExecuteTime": {
     "end_time": "2019-12-25T12:00:03.035748Z",
     "start_time": "2019-12-25T12:00:03.020473Z"
    }
   },
   "outputs": [],
   "source": [
    "# train_set = df.set_index(\"time\").drop([\"month\",\"day\"], axis=1)[[\"sales\"]].values.reshape(56,92)"
   ]
  },
  {
   "cell_type": "code",
   "execution_count": 1,
   "metadata": {
    "ExecuteTime": {
     "end_time": "2019-12-24T11:48:02.277656Z",
     "start_time": "2019-12-24T11:48:02.265651Z"
    }
   },
   "outputs": [
    {
     "data": {
      "text/plain": [
       "\"\\nwith open('sales_by_day.pickle', 'wb') as f:\\n    pickle.dump(train_set, f, protocol=pickle.HIGHEST_PROTOCOL)\\n\""
      ]
     },
     "execution_count": 1,
     "metadata": {},
     "output_type": "execute_result"
    }
   ],
   "source": [
    "\"\"\"\n",
    "with open('sales_by_day.pickle', 'wb') as f:\n",
    "    pickle.dump(train_set, f, protocol=pickle.HIGHEST_PROTOCOL)\n",
    "\"\"\""
   ]
  },
  {
   "cell_type": "code",
   "execution_count": 18,
   "metadata": {
    "ExecuteTime": {
     "end_time": "2020-01-02T09:51:19.974779Z",
     "start_time": "2020-01-02T09:51:19.962746Z"
    }
   },
   "outputs": [],
   "source": [
    "with open('sales_by_day.pickle', 'rb') as f:\n",
    "    sales_by_day = pickle.load(f)"
   ]
  },
  {
   "cell_type": "code",
   "execution_count": 20,
   "metadata": {
    "ExecuteTime": {
     "end_time": "2020-01-02T09:51:26.432431Z",
     "start_time": "2020-01-02T09:51:26.332469Z"
    }
   },
   "outputs": [],
   "source": [
    "clac_nm_list = sorted(online_df.clac_nm1.dropna().unique().tolist())"
   ]
  },
  {
   "cell_type": "code",
   "execution_count": 46,
   "metadata": {
    "ExecuteTime": {
     "end_time": "2020-01-02T10:34:23.389856Z",
     "start_time": "2020-01-02T10:34:23.381811Z"
    }
   },
   "outputs": [],
   "source": [
    "\"\"\"\n",
    "with open(\"clac_nm_list.pickle\", \"wb\") as f:\n",
    "    pickle.dump(clac_nm_list, f, protocol=pickle.HIGHEST_PROTOCOL)\n",
    "\"\"\""
   ]
  },
  {
   "cell_type": "code",
   "execution_count": 21,
   "metadata": {
    "ExecuteTime": {
     "end_time": "2020-01-02T09:51:27.469686Z",
     "start_time": "2020-01-02T09:51:27.457531Z"
    }
   },
   "outputs": [],
   "source": [
    "def data_generate(array, train_len = 7,pred_len = 1, num_features = 1):\n",
    "    data = []\n",
    "    label = []\n",
    "    num_object = len(array) - (train_len + pred_len)\n",
    "    for i in range(0,num_object):\n",
    "        data.append(array[i:i+train_len])\n",
    "        if num_features > 1:\n",
    "            label.append(array.reshape(len(array)*num_features)[3*i:3*i+num_features*pred_len:num_features])\n",
    "        else:\n",
    "            label.append(array[i+train_len:i+train_len+pred_len])\n",
    "    data = np.array(data).reshape(num_object,train_len,num_features)\n",
    "    label = np.array(label).reshape(num_object,pred_len,1)\n",
    "    return data, label, num_object"
   ]
  },
  {
   "cell_type": "code",
   "execution_count": 22,
   "metadata": {
    "ExecuteTime": {
     "end_time": "2020-01-02T09:51:28.072167Z",
     "start_time": "2020-01-02T09:51:28.064132Z"
    }
   },
   "outputs": [],
   "source": [
    "def get_model(train_len=7, pred_len=1,num_features=1):\n",
    "    model = Sequential()\n",
    "    model.add(LSTM(200, input_shape = (train_len, num_features)))\n",
    "    model.add(Dense(pred_len))\n",
    "    model.compile(loss = \"mse\", optimizer='adam')\n",
    "    return model"
   ]
  },
  {
   "cell_type": "code",
   "execution_count": 28,
   "metadata": {
    "ExecuteTime": {
     "end_time": "2020-01-02T10:00:19.875637Z",
     "start_time": "2020-01-02T10:00:19.867672Z"
    }
   },
   "outputs": [],
   "source": [
    "def draw_plot(data, label, filename, title, num_object, save = False):\n",
    "    fig, ax = plt.subplots(figsize = (8,5))\n",
    "    sns.lineplot(x = range(1,num_object+1), y=label.reshape(num_object,), ax = ax, color = \"k\", label = \"actual\", marker='s')\n",
    "    sns.lineplot(x = range(1,num_object+1), y=np.round(model.predict(data)).reshape(num_object,), ax = ax, label = \"pred\", marker='o')\n",
    "    ax.set_title(title)\n",
    "    plt.show()\n",
    "    if save:\n",
    "        fig.savefig(filename)"
   ]
  },
  {
   "cell_type": "code",
   "execution_count": null,
   "metadata": {
    "ExecuteTime": {
     "end_time": "2020-01-02T10:12:16.266367Z",
     "start_time": "2020-01-02T10:12:16.242549Z"
    }
   },
   "outputs": [],
   "source": [
    "holiday_df = pd.DataFrame(holiday_list).rename(columns = {0 : \"time\"})\n",
    "holiday_df['time'] = pd.to_datetime(holiday_df.time)\n",
    "holiday_df[\"is_holiday\"] = 1"
   ]
  },
  {
   "cell_type": "code",
   "execution_count": 36,
   "metadata": {
    "ExecuteTime": {
     "end_time": "2020-01-02T10:12:16.266367Z",
     "start_time": "2020-01-02T10:12:16.242549Z"
    }
   },
   "outputs": [],
   "source": [
    "tmp_data = pd.DataFrame(sales_by_day[53])\n",
    "tmp_data = pd.concat([tmp_data, time.drop_duplicates()], axis=1)\n",
    "tmp_data[\"weekday\"] = tmp_data.time.dt.weekday\n",
    "\n",
    "tmp_data = tmp_data.merge(holiday_df, how = \"left\", on = \"time\").fillna(0)\n",
    "tmp_data[\"holiday_tomorrow\"] = tmp_data.is_holiday.shift(-1, fill_value=0)\n",
    "\n",
    "tmp_data[\"weekend\"] = np.where(tmp_data.weekday.isin([0,1,2,3,4]), 0, 1)\n",
    "tmp_data[\"weekend_tomorrow\"] = tmp_data.weekend.shift(-1, fill_value=0)\n",
    "tmp_data.drop([\"weekday\",\"is_holiday\",\"weekend\", \"time\"], axis=1, inplace=True)"
   ]
  },
  {
   "cell_type": "code",
   "execution_count": 3,
   "metadata": {
    "ExecuteTime": {
     "end_time": "2020-01-08T03:39:08.681478Z",
     "start_time": "2020-01-08T03:39:08.673325Z"
    },
    "scrolled": false
   },
   "outputs": [
    {
     "data": {
      "text/plain": [
       "'epochs = 200\\nbatch_size = 8\\n\\nfor i, sales in enumerate(sales_by_day):\\n    if not os.path.exists(\"./plots/\"):\\n        os.mkdir(\"./plots/\")\\n    if not os.path.exists(\"./models/\"):\\n        os.mkdir(\"./models/\")\\n    filename = \"./plots/lstm_lineplot_{}.png\".format(i)\\n    modelname = \"./models/lstm_model_{}.h5\".format(clac_nm_list[i].replace(\"/\", \"_\"))\\n    title = clac_nm_list[i]\\n    \\n    tmp_data = pd.concat([pd.DataFrame(sales), time.drop_duplicates()], axis=1)\\n    tmp_data[\"weekday\"] = tmp_data.time.dt.weekday\\n    \\n    tmp_data = tmp_data.merge(holiday_df, how = \"left\", on = \"time\").fillna(0)\\n    tmp_data[\"holiday_tomorrow\"] = tmp_data.is_holiday.shift(-1, fill_value=0)\\n    tmp_data[\"weekend\"] = np.where(tmp_data.weekday.isin([0,1,2,3,4]), 0, 1)\\n    tmp_data[\"weekend_tomorrow\"] = tmp_data.weekend.shift(-1, fill_value=0)\\n    tmp_data.drop([\"weekday\",\"is_holiday\",\"weekend\", \"time\"], axis=1, inplace=True)\\n    \\n    data, label, num_object = data_generate(tmp_data.values, num_features=3, pred_len=1)\\n    model = get_model(num_features=3, pred_len=1)\\n    model.fit(data, label, epochs=epochs, batch_size=batch_size, verbose=0)\\n    save_model(model, filepath=modelname)\\n    draw_plot(data = data, label = label, filename=filename, title = title, num_object = num_object)'"
      ]
     },
     "execution_count": 3,
     "metadata": {},
     "output_type": "execute_result"
    }
   ],
   "source": [
    "\"\"\"epochs = 200\n",
    "batch_size = 8\n",
    "\n",
    "for i, sales in enumerate(sales_by_day):\n",
    "    if not os.path.exists(\"./plots/\"):\n",
    "        os.mkdir(\"./plots/\")\n",
    "    if not os.path.exists(\"./models/\"):\n",
    "        os.mkdir(\"./models/\")\n",
    "    filename = \"./plots/lstm_lineplot_{}.png\".format(i)\n",
    "    modelname = \"./models/lstm_model_{}.h5\".format(clac_nm_list[i].replace(\"/\", \"_\"))\n",
    "    title = clac_nm_list[i]\n",
    "    \n",
    "    tmp_data = pd.concat([pd.DataFrame(sales), time.drop_duplicates()], axis=1)\n",
    "    tmp_data[\"weekday\"] = tmp_data.time.dt.weekday\n",
    "    \n",
    "    tmp_data = tmp_data.merge(holiday_df, how = \"left\", on = \"time\").fillna(0)\n",
    "    tmp_data[\"holiday_tomorrow\"] = tmp_data.is_holiday.shift(-1, fill_value=0)\n",
    "    tmp_data[\"weekend\"] = np.where(tmp_data.weekday.isin([0,1,2,3,4]), 0, 1)\n",
    "    tmp_data[\"weekend_tomorrow\"] = tmp_data.weekend.shift(-1, fill_value=0)\n",
    "    tmp_data.drop([\"weekday\",\"is_holiday\",\"weekend\", \"time\"], axis=1, inplace=True)\n",
    "    \n",
    "    data, label, num_object = data_generate(tmp_data.values, num_features=3, pred_len=1)\n",
    "    model = get_model(num_features=3, pred_len=1)\n",
    "    model.fit(data, label, epochs=epochs, batch_size=batch_size, verbose=0)\n",
    "    save_model(model, filepath=modelname)\n",
    "    draw_plot(data = data, label = label, filename=filename, title = title, num_object = num_object)\"\"\""
   ]
  },
  {
   "cell_type": "code",
   "execution_count": 444,
   "metadata": {
    "ExecuteTime": {
     "end_time": "2019-12-26T09:50:49.815077Z",
     "start_time": "2019-12-26T09:50:49.810097Z"
    }
   },
   "outputs": [],
   "source": [
    "data, label, num_object = data_generate(tmp_data.values, num_features=3, pred_len=1)"
   ]
  },
  {
   "cell_type": "code",
   "execution_count": 445,
   "metadata": {
    "ExecuteTime": {
     "end_time": "2019-12-26T09:50:50.305025Z",
     "start_time": "2019-12-26T09:50:50.114394Z"
    }
   },
   "outputs": [],
   "source": [
    "model = get_model(num_features=3, pred_len = 1)\n",
    "# data, label = data_generate(sales_by_day[34])"
   ]
  },
  {
   "cell_type": "code",
   "execution_count": 446,
   "metadata": {
    "ExecuteTime": {
     "end_time": "2019-12-26T09:50:50.990052Z",
     "start_time": "2019-12-26T09:50:50.986064Z"
    }
   },
   "outputs": [],
   "source": [
    "epochs = 100\n",
    "batch_size = 8"
   ]
  },
  {
   "cell_type": "code",
   "execution_count": 449,
   "metadata": {
    "ExecuteTime": {
     "end_time": "2019-12-26T09:51:38.628196Z",
     "start_time": "2019-12-26T09:51:28.348205Z"
    }
   },
   "outputs": [
    {
     "name": "stdout",
     "output_type": "stream",
     "text": [
      "Train on 84 samples\n",
      "Epoch 1/100\n",
      "84/84 [==============================] - 0s 1ms/sample - loss: 820.8278\n",
      "Epoch 2/100\n",
      "84/84 [==============================] - 0s 1ms/sample - loss: 785.3749\n",
      "Epoch 3/100\n",
      "84/84 [==============================] - 0s 1ms/sample - loss: 751.6893\n",
      "Epoch 4/100\n",
      "84/84 [==============================] - 0s 1ms/sample - loss: 729.0345\n",
      "Epoch 5/100\n",
      "84/84 [==============================] - 0s 1ms/sample - loss: 698.2069\n",
      "Epoch 6/100\n",
      "84/84 [==============================] - 0s 1ms/sample - loss: 685.6572\n",
      "Epoch 7/100\n",
      "84/84 [==============================] - 0s 1ms/sample - loss: 658.8783\n",
      "Epoch 8/100\n",
      "84/84 [==============================] - 0s 1ms/sample - loss: 630.9970\n",
      "Epoch 9/100\n",
      "84/84 [==============================] - 0s 1ms/sample - loss: 603.9320\n",
      "Epoch 10/100\n",
      "84/84 [==============================] - 0s 1ms/sample - loss: 587.0098\n",
      "Epoch 11/100\n",
      "84/84 [==============================] - 0s 1ms/sample - loss: 565.7918\n",
      "Epoch 12/100\n",
      "84/84 [==============================] - ETA: 0s - loss: 619.714 - 0s 1ms/sample - loss: 549.9644\n",
      "Epoch 13/100\n",
      "84/84 [==============================] - 0s 1ms/sample - loss: 529.2590\n",
      "Epoch 14/100\n",
      "84/84 [==============================] - 0s 1ms/sample - loss: 518.0172\n",
      "Epoch 15/100\n",
      "84/84 [==============================] - 0s 1ms/sample - loss: 502.2752\n",
      "Epoch 16/100\n",
      "84/84 [==============================] - 0s 1ms/sample - loss: 530.5647\n",
      "Epoch 17/100\n",
      "84/84 [==============================] - 0s 1ms/sample - loss: 630.5462\n",
      "Epoch 18/100\n",
      "84/84 [==============================] - 0s 1ms/sample - loss: 540.4966\n",
      "Epoch 19/100\n",
      "84/84 [==============================] - 0s 1ms/sample - loss: 489.1824\n",
      "Epoch 20/100\n",
      "84/84 [==============================] - 0s 1ms/sample - loss: 466.4384\n",
      "Epoch 21/100\n",
      "84/84 [==============================] - 0s 1ms/sample - loss: 455.5766\n",
      "Epoch 22/100\n",
      "84/84 [==============================] - 0s 1ms/sample - loss: 441.0982\n",
      "Epoch 23/100\n",
      "84/84 [==============================] - 0s 1ms/sample - loss: 425.9162\n",
      "Epoch 24/100\n",
      "84/84 [==============================] - 0s 1ms/sample - loss: 411.1406\n",
      "Epoch 25/100\n",
      "84/84 [==============================] - 0s 1ms/sample - loss: 393.7662\n",
      "Epoch 26/100\n",
      "84/84 [==============================] - 0s 1ms/sample - loss: 387.3953 0s - loss: 365.764\n",
      "Epoch 27/100\n",
      "84/84 [==============================] - 0s 1ms/sample - loss: 378.6181\n",
      "Epoch 28/100\n",
      "84/84 [==============================] - 0s 1ms/sample - loss: 371.9279\n",
      "Epoch 29/100\n",
      "84/84 [==============================] - 0s 1ms/sample - loss: 361.9602\n",
      "Epoch 30/100\n",
      "84/84 [==============================] - 0s 1ms/sample - loss: 348.6636\n",
      "Epoch 31/100\n",
      "84/84 [==============================] - 0s 1ms/sample - loss: 337.4010\n",
      "Epoch 32/100\n",
      "84/84 [==============================] - 0s 1ms/sample - loss: 328.5450\n",
      "Epoch 33/100\n",
      "84/84 [==============================] - 0s 1ms/sample - loss: 320.2109\n",
      "Epoch 34/100\n",
      "84/84 [==============================] - 0s 1ms/sample - loss: 313.7830\n",
      "Epoch 35/100\n",
      "84/84 [==============================] - 0s 1ms/sample - loss: 306.0727\n",
      "Epoch 36/100\n",
      "84/84 [==============================] - 0s 1ms/sample - loss: 299.2212\n",
      "Epoch 37/100\n",
      "84/84 [==============================] - 0s 1ms/sample - loss: 292.0297\n",
      "Epoch 38/100\n",
      "84/84 [==============================] - 0s 1ms/sample - loss: 285.9194\n",
      "Epoch 39/100\n",
      "84/84 [==============================] - 0s 1ms/sample - loss: 280.0604\n",
      "Epoch 40/100\n",
      "84/84 [==============================] - 0s 1ms/sample - loss: 272.7539\n",
      "Epoch 41/100\n",
      "84/84 [==============================] - 0s 1ms/sample - loss: 266.2619\n",
      "Epoch 42/100\n",
      "84/84 [==============================] - 0s 1ms/sample - loss: 269.1787\n",
      "Epoch 43/100\n",
      "84/84 [==============================] - 0s 1ms/sample - loss: 268.3491\n",
      "Epoch 44/100\n",
      "84/84 [==============================] - 0s 1ms/sample - loss: 255.6202\n",
      "Epoch 45/100\n",
      "84/84 [==============================] - 0s 1ms/sample - loss: 250.2485\n",
      "Epoch 46/100\n",
      "84/84 [==============================] - 0s 1ms/sample - loss: 244.2903\n",
      "Epoch 47/100\n",
      "84/84 [==============================] - 0s 1ms/sample - loss: 247.7433\n",
      "Epoch 48/100\n",
      "84/84 [==============================] - 0s 1ms/sample - loss: 264.5040\n",
      "Epoch 49/100\n",
      "84/84 [==============================] - 0s 1ms/sample - loss: 240.9243\n",
      "Epoch 50/100\n",
      "84/84 [==============================] - 0s 1ms/sample - loss: 226.4243\n",
      "Epoch 51/100\n",
      "84/84 [==============================] - 0s 1ms/sample - loss: 224.5697\n",
      "Epoch 52/100\n",
      "84/84 [==============================] - 0s 1ms/sample - loss: 218.7938\n",
      "Epoch 53/100\n",
      "84/84 [==============================] - 0s 1ms/sample - loss: 213.8450\n",
      "Epoch 54/100\n",
      "84/84 [==============================] - 0s 1ms/sample - loss: 208.7986\n",
      "Epoch 55/100\n",
      "84/84 [==============================] - 0s 1ms/sample - loss: 204.7354\n",
      "Epoch 56/100\n",
      "84/84 [==============================] - 0s 1ms/sample - loss: 201.0877\n",
      "Epoch 57/100\n",
      "84/84 [==============================] - 0s 1ms/sample - loss: 197.9537\n",
      "Epoch 58/100\n",
      "84/84 [==============================] - 0s 1ms/sample - loss: 196.6406\n",
      "Epoch 59/100\n",
      "84/84 [==============================] - 0s 1ms/sample - loss: 192.7758\n",
      "Epoch 60/100\n",
      "84/84 [==============================] - 0s 1ms/sample - loss: 187.5258\n",
      "Epoch 61/100\n",
      "84/84 [==============================] - 0s 1ms/sample - loss: 183.9078\n",
      "Epoch 62/100\n",
      "84/84 [==============================] - 0s 1ms/sample - loss: 182.0928\n",
      "Epoch 63/100\n",
      "84/84 [==============================] - 0s 1ms/sample - loss: 178.8799\n",
      "Epoch 64/100\n",
      "84/84 [==============================] - 0s 1ms/sample - loss: 183.5459\n",
      "Epoch 65/100\n",
      "84/84 [==============================] - 0s 1ms/sample - loss: 185.7784\n",
      "Epoch 66/100\n",
      "84/84 [==============================] - 0s 1ms/sample - loss: 182.6245\n",
      "Epoch 67/100\n",
      "84/84 [==============================] - 0s 1ms/sample - loss: 176.7877\n",
      "Epoch 68/100\n",
      "84/84 [==============================] - 0s 1ms/sample - loss: 170.5296\n",
      "Epoch 69/100\n",
      "84/84 [==============================] - 0s 1ms/sample - loss: 169.0166\n",
      "Epoch 70/100\n",
      "84/84 [==============================] - 0s 1ms/sample - loss: 165.8176\n",
      "Epoch 71/100\n",
      "84/84 [==============================] - 0s 1ms/sample - loss: 161.1694\n",
      "Epoch 72/100\n",
      "84/84 [==============================] - 0s 1ms/sample - loss: 163.9598\n",
      "Epoch 73/100\n",
      "84/84 [==============================] - 0s 1ms/sample - loss: 162.6275\n",
      "Epoch 74/100\n",
      "84/84 [==============================] - 0s 1ms/sample - loss: 154.5555\n",
      "Epoch 75/100\n",
      "84/84 [==============================] - 0s 1ms/sample - loss: 152.7402\n",
      "Epoch 76/100\n",
      "84/84 [==============================] - 0s 1ms/sample - loss: 153.9725\n",
      "Epoch 77/100\n",
      "84/84 [==============================] - 0s 1ms/sample - loss: 172.1161\n",
      "Epoch 78/100\n",
      "84/84 [==============================] - 0s 1ms/sample - loss: 163.2313\n",
      "Epoch 79/100\n",
      "84/84 [==============================] - 0s 1ms/sample - loss: 152.6529\n",
      "Epoch 80/100\n",
      "84/84 [==============================] - 0s 1ms/sample - loss: 150.1877\n",
      "Epoch 81/100\n",
      "84/84 [==============================] - 0s 1ms/sample - loss: 141.0795\n",
      "Epoch 82/100\n",
      "84/84 [==============================] - 0s 1ms/sample - loss: 138.2242\n",
      "Epoch 83/100\n",
      "84/84 [==============================] - 0s 1ms/sample - loss: 135.1747\n",
      "Epoch 84/100\n",
      "84/84 [==============================] - 0s 1ms/sample - loss: 134.2499\n",
      "Epoch 85/100\n",
      "84/84 [==============================] - 0s 1ms/sample - loss: 130.9197\n",
      "Epoch 86/100\n",
      "84/84 [==============================] - 0s 1ms/sample - loss: 129.0476\n",
      "Epoch 87/100\n",
      "84/84 [==============================] - 0s 1ms/sample - loss: 128.2156\n",
      "Epoch 88/100\n",
      "84/84 [==============================] - 0s 1ms/sample - loss: 127.5428\n",
      "Epoch 89/100\n",
      "84/84 [==============================] - 0s 1ms/sample - loss: 125.1865s - loss: 173.693\n",
      "Epoch 90/100\n",
      "84/84 [==============================] - 0s 1ms/sample - loss: 127.8584\n",
      "Epoch 91/100\n",
      "84/84 [==============================] - 0s 1ms/sample - loss: 135.3806\n",
      "Epoch 92/100\n",
      "84/84 [==============================] - 0s 1ms/sample - loss: 122.2471\n",
      "Epoch 93/100\n",
      "84/84 [==============================] - 0s 1ms/sample - loss: 120.4257\n",
      "Epoch 94/100\n",
      "84/84 [==============================] - 0s 1ms/sample - loss: 119.4780\n",
      "Epoch 95/100\n",
      "84/84 [==============================] - 0s 1ms/sample - loss: 117.8439\n",
      "Epoch 96/100\n",
      "84/84 [==============================] - 0s 1ms/sample - loss: 115.7858\n",
      "Epoch 97/100\n",
      "84/84 [==============================] - 0s 1ms/sample - loss: 115.0676\n",
      "Epoch 98/100\n",
      "84/84 [==============================] - 0s 1ms/sample - loss: 111.2493\n",
      "Epoch 99/100\n",
      "84/84 [==============================] - 0s 1ms/sample - loss: 109.0745\n",
      "Epoch 100/100\n",
      "84/84 [==============================] - 0s 1ms/sample - loss: 107.3866\n"
     ]
    },
    {
     "data": {
      "text/plain": [
       "<tensorflow.python.keras.callbacks.History at 0x25fe26a1780>"
      ]
     },
     "execution_count": 449,
     "metadata": {},
     "output_type": "execute_result"
    }
   ],
   "source": [
    "model.fit(data, label, epochs=epochs, batch_size=batch_size, verbose=1)"
   ]
  },
  {
   "cell_type": "code",
   "execution_count": 450,
   "metadata": {
    "ExecuteTime": {
     "end_time": "2019-12-26T09:51:41.147457Z",
     "start_time": "2019-12-26T09:51:40.942012Z"
    }
   },
   "outputs": [
    {
     "data": {
      "text/plain": [
       "<matplotlib.axes._subplots.AxesSubplot at 0x25fe26d6eb8>"
      ]
     },
     "execution_count": 450,
     "metadata": {},
     "output_type": "execute_result"
    },
    {
     "data": {
      "image/png": "[encoded data removed]",
      "text/plain": [
       "<Figure size 576x432 with 1 Axes>"
      ]
     },
     "metadata": {},
     "output_type": "display_data"
    }
   ],
   "source": [
    "fig, ax = plt.subplots(figsize = (8,6))\n",
    "sns.lineplot(x = range(1,85), y=label.reshape(84,), ax = ax, color = \"k\", label = \"actual\", marker='s')\n",
    "sns.lineplot(x = range(1,85), y=np.round(model.predict(data)).reshape(84,), ax = ax, label = \"pred\", marker='o')"
   ]
  },
  {
   "cell_type": "code",
   "execution_count": 364,
   "metadata": {
    "ExecuteTime": {
     "end_time": "2019-12-26T08:13:30.909306Z",
     "start_time": "2019-12-26T08:13:30.905311Z"
    }
   },
   "outputs": [
    {
     "data": {
      "text/plain": [
       "array([107., 106., 149.,  82.,  93.,  68.,  54., 195.,  85., 112., 105.,\n",
       "        81.,  76.,  56.,  90.,  88., 110.,  82., 148.,  88.,  75., 100.,\n",
       "        79.,  97., 102.,  80.,  56.,  47., 136.,  89., 108.,  88., 127.,\n",
       "        97.,  41., 122.,  98., 127., 156., 104.,  59.,  45., 106., 120.,\n",
       "       127.,  78., 138.,  54.,  48., 139.,  57.,  85.,  65., 117.,  41.,\n",
       "        34., 154.,  84., 102.,  57.,  82.,  39.,  70., 114.,  71., 107.,\n",
       "       136., 101.,  62.,  40.,  85.,  95.,  75.,  53.,   6.,  34.,  28.,\n",
       "       103.,  62.,  96., 106.,  83.,  83.,  42., 147.,  87.,  97.,  67.,\n",
       "       111.,  49.,  60.,  98.])"
      ]
     },
     "execution_count": 364,
     "metadata": {},
     "output_type": "execute_result"
    }
   ],
   "source": [
    "sales_by_day[34]"
   ]
  },
  {
   "cell_type": "code",
   "execution_count": 454,
   "metadata": {
    "ExecuteTime": {
     "end_time": "2019-12-26T11:04:54.185369Z",
     "start_time": "2019-12-26T11:04:54.025370Z"
    }
   },
   "outputs": [],
   "source": [
    "timedelta = pd.read_csv(\"data_about_timedelta.csv\").drop_duplicates(\"clnt_id\")"
   ]
  },
  {
   "cell_type": "code",
   "execution_count": 455,
   "metadata": {
    "ExecuteTime": {
     "end_time": "2019-12-26T11:04:56.429655Z",
     "start_time": "2019-12-26T11:04:56.409603Z"
    }
   },
   "outputs": [
    {
     "data": {
      "text/html": [
       "<div>\n",
       "<style scoped>\n",
       "    .dataframe tbody tr th:only-of-type {\n",
       "        vertical-align: middle;\n",
       "    }\n",
       "\n",
       "    .dataframe tbody tr th {\n",
       "        vertical-align: top;\n",
       "    }\n",
       "\n",
       "    .dataframe thead th {\n",
       "        text-align: right;\n",
       "    }\n",
       "</style>\n",
       "<table border=\"1\" class=\"dataframe\">\n",
       "  <thead>\n",
       "    <tr style=\"text-align: right;\">\n",
       "      <th></th>\n",
       "      <th>clnt_id</th>\n",
       "      <th>sess_id</th>\n",
       "      <th>time_to_last</th>\n",
       "      <th>time_pss_from_previous_sess</th>\n",
       "      <th>mean_pss_time</th>\n",
       "    </tr>\n",
       "  </thead>\n",
       "  <tbody>\n",
       "    <tr>\n",
       "      <th>0</th>\n",
       "      <td>1</td>\n",
       "      <td>1</td>\n",
       "      <td>20</td>\n",
       "      <td>0</td>\n",
       "      <td>10.000000</td>\n",
       "    </tr>\n",
       "    <tr>\n",
       "      <th>2</th>\n",
       "      <td>2</td>\n",
       "      <td>1</td>\n",
       "      <td>65</td>\n",
       "      <td>0</td>\n",
       "      <td>1.526316</td>\n",
       "    </tr>\n",
       "    <tr>\n",
       "      <th>22</th>\n",
       "      <td>3</td>\n",
       "      <td>1</td>\n",
       "      <td>78</td>\n",
       "      <td>0</td>\n",
       "      <td>0.000000</td>\n",
       "    </tr>\n",
       "    <tr>\n",
       "      <th>23</th>\n",
       "      <td>4</td>\n",
       "      <td>1</td>\n",
       "      <td>36</td>\n",
       "      <td>0</td>\n",
       "      <td>0.000000</td>\n",
       "    </tr>\n",
       "    <tr>\n",
       "      <th>24</th>\n",
       "      <td>5</td>\n",
       "      <td>1</td>\n",
       "      <td>43</td>\n",
       "      <td>0</td>\n",
       "      <td>0.000000</td>\n",
       "    </tr>\n",
       "    <tr>\n",
       "      <th>25</th>\n",
       "      <td>6</td>\n",
       "      <td>1</td>\n",
       "      <td>83</td>\n",
       "      <td>0</td>\n",
       "      <td>21.000000</td>\n",
       "    </tr>\n",
       "    <tr>\n",
       "      <th>27</th>\n",
       "      <td>7</td>\n",
       "      <td>1</td>\n",
       "      <td>88</td>\n",
       "      <td>0</td>\n",
       "      <td>11.000000</td>\n",
       "    </tr>\n",
       "    <tr>\n",
       "      <th>32</th>\n",
       "      <td>8</td>\n",
       "      <td>1</td>\n",
       "      <td>21</td>\n",
       "      <td>0</td>\n",
       "      <td>6.000000</td>\n",
       "    </tr>\n",
       "    <tr>\n",
       "      <th>34</th>\n",
       "      <td>9</td>\n",
       "      <td>1</td>\n",
       "      <td>92</td>\n",
       "      <td>0</td>\n",
       "      <td>2.375000</td>\n",
       "    </tr>\n",
       "    <tr>\n",
       "      <th>67</th>\n",
       "      <td>10</td>\n",
       "      <td>1</td>\n",
       "      <td>88</td>\n",
       "      <td>0</td>\n",
       "      <td>0.000000</td>\n",
       "    </tr>\n",
       "    <tr>\n",
       "      <th>68</th>\n",
       "      <td>11</td>\n",
       "      <td>1</td>\n",
       "      <td>26</td>\n",
       "      <td>0</td>\n",
       "      <td>0.000000</td>\n",
       "    </tr>\n",
       "    <tr>\n",
       "      <th>69</th>\n",
       "      <td>12</td>\n",
       "      <td>1</td>\n",
       "      <td>75</td>\n",
       "      <td>0</td>\n",
       "      <td>0.000000</td>\n",
       "    </tr>\n",
       "    <tr>\n",
       "      <th>70</th>\n",
       "      <td>13</td>\n",
       "      <td>1</td>\n",
       "      <td>54</td>\n",
       "      <td>0</td>\n",
       "      <td>0.000000</td>\n",
       "    </tr>\n",
       "    <tr>\n",
       "      <th>71</th>\n",
       "      <td>14</td>\n",
       "      <td>1</td>\n",
       "      <td>34</td>\n",
       "      <td>0</td>\n",
       "      <td>0.000000</td>\n",
       "    </tr>\n",
       "    <tr>\n",
       "      <th>72</th>\n",
       "      <td>15</td>\n",
       "      <td>1</td>\n",
       "      <td>90</td>\n",
       "      <td>0</td>\n",
       "      <td>11.333333</td>\n",
       "    </tr>\n",
       "    <tr>\n",
       "      <th>76</th>\n",
       "      <td>16</td>\n",
       "      <td>1</td>\n",
       "      <td>80</td>\n",
       "      <td>0</td>\n",
       "      <td>30.000000</td>\n",
       "    </tr>\n",
       "    <tr>\n",
       "      <th>78</th>\n",
       "      <td>17</td>\n",
       "      <td>1</td>\n",
       "      <td>64</td>\n",
       "      <td>0</td>\n",
       "      <td>4.750000</td>\n",
       "    </tr>\n",
       "    <tr>\n",
       "      <th>83</th>\n",
       "      <td>18</td>\n",
       "      <td>1</td>\n",
       "      <td>57</td>\n",
       "      <td>0</td>\n",
       "      <td>0.000000</td>\n",
       "    </tr>\n",
       "    <tr>\n",
       "      <th>84</th>\n",
       "      <td>19</td>\n",
       "      <td>1</td>\n",
       "      <td>52</td>\n",
       "      <td>0</td>\n",
       "      <td>0.000000</td>\n",
       "    </tr>\n",
       "    <tr>\n",
       "      <th>85</th>\n",
       "      <td>20</td>\n",
       "      <td>1</td>\n",
       "      <td>62</td>\n",
       "      <td>0</td>\n",
       "      <td>0.000000</td>\n",
       "    </tr>\n",
       "    <tr>\n",
       "      <th>86</th>\n",
       "      <td>21</td>\n",
       "      <td>1</td>\n",
       "      <td>92</td>\n",
       "      <td>0</td>\n",
       "      <td>25.000000</td>\n",
       "    </tr>\n",
       "    <tr>\n",
       "      <th>90</th>\n",
       "      <td>22</td>\n",
       "      <td>1</td>\n",
       "      <td>73</td>\n",
       "      <td>0</td>\n",
       "      <td>12.200000</td>\n",
       "    </tr>\n",
       "    <tr>\n",
       "      <th>96</th>\n",
       "      <td>23</td>\n",
       "      <td>1</td>\n",
       "      <td>87</td>\n",
       "      <td>0</td>\n",
       "      <td>3.450000</td>\n",
       "    </tr>\n",
       "    <tr>\n",
       "      <th>117</th>\n",
       "      <td>24</td>\n",
       "      <td>1</td>\n",
       "      <td>91</td>\n",
       "      <td>0</td>\n",
       "      <td>4.666667</td>\n",
       "    </tr>\n",
       "    <tr>\n",
       "      <th>136</th>\n",
       "      <td>25</td>\n",
       "      <td>1</td>\n",
       "      <td>80</td>\n",
       "      <td>0</td>\n",
       "      <td>20.000000</td>\n",
       "    </tr>\n",
       "    <tr>\n",
       "      <th>138</th>\n",
       "      <td>26</td>\n",
       "      <td>1</td>\n",
       "      <td>25</td>\n",
       "      <td>0</td>\n",
       "      <td>0.000000</td>\n",
       "    </tr>\n",
       "    <tr>\n",
       "      <th>139</th>\n",
       "      <td>27</td>\n",
       "      <td>1</td>\n",
       "      <td>13</td>\n",
       "      <td>0</td>\n",
       "      <td>0.000000</td>\n",
       "    </tr>\n",
       "    <tr>\n",
       "      <th>140</th>\n",
       "      <td>28</td>\n",
       "      <td>1</td>\n",
       "      <td>46</td>\n",
       "      <td>0</td>\n",
       "      <td>18.000000</td>\n",
       "    </tr>\n",
       "    <tr>\n",
       "      <th>143</th>\n",
       "      <td>29</td>\n",
       "      <td>1</td>\n",
       "      <td>14</td>\n",
       "      <td>0</td>\n",
       "      <td>0.266667</td>\n",
       "    </tr>\n",
       "    <tr>\n",
       "      <th>159</th>\n",
       "      <td>30</td>\n",
       "      <td>1</td>\n",
       "      <td>39</td>\n",
       "      <td>0</td>\n",
       "      <td>0.000000</td>\n",
       "    </tr>\n",
       "    <tr>\n",
       "      <th>...</th>\n",
       "      <td>...</td>\n",
       "      <td>...</td>\n",
       "      <td>...</td>\n",
       "      <td>...</td>\n",
       "      <td>...</td>\n",
       "    </tr>\n",
       "    <tr>\n",
       "      <th>367067</th>\n",
       "      <td>72400</td>\n",
       "      <td>1</td>\n",
       "      <td>80</td>\n",
       "      <td>0</td>\n",
       "      <td>2.833333</td>\n",
       "    </tr>\n",
       "    <tr>\n",
       "      <th>367074</th>\n",
       "      <td>72401</td>\n",
       "      <td>1</td>\n",
       "      <td>65</td>\n",
       "      <td>0</td>\n",
       "      <td>6.625000</td>\n",
       "    </tr>\n",
       "    <tr>\n",
       "      <th>367083</th>\n",
       "      <td>72402</td>\n",
       "      <td>1</td>\n",
       "      <td>88</td>\n",
       "      <td>0</td>\n",
       "      <td>41.000000</td>\n",
       "    </tr>\n",
       "    <tr>\n",
       "      <th>367085</th>\n",
       "      <td>72403</td>\n",
       "      <td>1</td>\n",
       "      <td>52</td>\n",
       "      <td>0</td>\n",
       "      <td>0.000000</td>\n",
       "    </tr>\n",
       "    <tr>\n",
       "      <th>367086</th>\n",
       "      <td>72404</td>\n",
       "      <td>1</td>\n",
       "      <td>78</td>\n",
       "      <td>0</td>\n",
       "      <td>0.000000</td>\n",
       "    </tr>\n",
       "    <tr>\n",
       "      <th>367089</th>\n",
       "      <td>72405</td>\n",
       "      <td>1</td>\n",
       "      <td>2</td>\n",
       "      <td>0</td>\n",
       "      <td>0.000000</td>\n",
       "    </tr>\n",
       "    <tr>\n",
       "      <th>367091</th>\n",
       "      <td>72406</td>\n",
       "      <td>1</td>\n",
       "      <td>15</td>\n",
       "      <td>0</td>\n",
       "      <td>0.000000</td>\n",
       "    </tr>\n",
       "    <tr>\n",
       "      <th>367092</th>\n",
       "      <td>72407</td>\n",
       "      <td>1</td>\n",
       "      <td>2</td>\n",
       "      <td>0</td>\n",
       "      <td>0.000000</td>\n",
       "    </tr>\n",
       "    <tr>\n",
       "      <th>367093</th>\n",
       "      <td>72408</td>\n",
       "      <td>1</td>\n",
       "      <td>86</td>\n",
       "      <td>0</td>\n",
       "      <td>71.000000</td>\n",
       "    </tr>\n",
       "    <tr>\n",
       "      <th>367095</th>\n",
       "      <td>72409</td>\n",
       "      <td>1</td>\n",
       "      <td>58</td>\n",
       "      <td>0</td>\n",
       "      <td>0.000000</td>\n",
       "    </tr>\n",
       "    <tr>\n",
       "      <th>367097</th>\n",
       "      <td>72410</td>\n",
       "      <td>1</td>\n",
       "      <td>67</td>\n",
       "      <td>0</td>\n",
       "      <td>0.000000</td>\n",
       "    </tr>\n",
       "    <tr>\n",
       "      <th>367101</th>\n",
       "      <td>72411</td>\n",
       "      <td>1</td>\n",
       "      <td>51</td>\n",
       "      <td>0</td>\n",
       "      <td>44.000000</td>\n",
       "    </tr>\n",
       "    <tr>\n",
       "      <th>367103</th>\n",
       "      <td>72412</td>\n",
       "      <td>1</td>\n",
       "      <td>1</td>\n",
       "      <td>0</td>\n",
       "      <td>0.000000</td>\n",
       "    </tr>\n",
       "    <tr>\n",
       "      <th>367104</th>\n",
       "      <td>72413</td>\n",
       "      <td>1</td>\n",
       "      <td>50</td>\n",
       "      <td>0</td>\n",
       "      <td>0.000000</td>\n",
       "    </tr>\n",
       "    <tr>\n",
       "      <th>367105</th>\n",
       "      <td>72414</td>\n",
       "      <td>1</td>\n",
       "      <td>67</td>\n",
       "      <td>0</td>\n",
       "      <td>0.000000</td>\n",
       "    </tr>\n",
       "    <tr>\n",
       "      <th>367107</th>\n",
       "      <td>72415</td>\n",
       "      <td>1</td>\n",
       "      <td>92</td>\n",
       "      <td>0</td>\n",
       "      <td>3.500000</td>\n",
       "    </tr>\n",
       "    <tr>\n",
       "      <th>367118</th>\n",
       "      <td>72416</td>\n",
       "      <td>1</td>\n",
       "      <td>62</td>\n",
       "      <td>0</td>\n",
       "      <td>0.000000</td>\n",
       "    </tr>\n",
       "    <tr>\n",
       "      <th>367119</th>\n",
       "      <td>72417</td>\n",
       "      <td>1</td>\n",
       "      <td>77</td>\n",
       "      <td>0</td>\n",
       "      <td>0.000000</td>\n",
       "    </tr>\n",
       "    <tr>\n",
       "      <th>367120</th>\n",
       "      <td>72418</td>\n",
       "      <td>1</td>\n",
       "      <td>12</td>\n",
       "      <td>0</td>\n",
       "      <td>0.000000</td>\n",
       "    </tr>\n",
       "    <tr>\n",
       "      <th>367125</th>\n",
       "      <td>72419</td>\n",
       "      <td>1</td>\n",
       "      <td>29</td>\n",
       "      <td>0</td>\n",
       "      <td>4.000000</td>\n",
       "    </tr>\n",
       "    <tr>\n",
       "      <th>367127</th>\n",
       "      <td>72420</td>\n",
       "      <td>2</td>\n",
       "      <td>31</td>\n",
       "      <td>0</td>\n",
       "      <td>0.000000</td>\n",
       "    </tr>\n",
       "    <tr>\n",
       "      <th>367129</th>\n",
       "      <td>72421</td>\n",
       "      <td>1</td>\n",
       "      <td>75</td>\n",
       "      <td>0</td>\n",
       "      <td>5.000000</td>\n",
       "    </tr>\n",
       "    <tr>\n",
       "      <th>367131</th>\n",
       "      <td>72422</td>\n",
       "      <td>1</td>\n",
       "      <td>63</td>\n",
       "      <td>0</td>\n",
       "      <td>0.000000</td>\n",
       "    </tr>\n",
       "    <tr>\n",
       "      <th>367132</th>\n",
       "      <td>72423</td>\n",
       "      <td>1</td>\n",
       "      <td>14</td>\n",
       "      <td>0</td>\n",
       "      <td>0.000000</td>\n",
       "    </tr>\n",
       "    <tr>\n",
       "      <th>367133</th>\n",
       "      <td>72424</td>\n",
       "      <td>1</td>\n",
       "      <td>7</td>\n",
       "      <td>0</td>\n",
       "      <td>0.000000</td>\n",
       "    </tr>\n",
       "    <tr>\n",
       "      <th>367135</th>\n",
       "      <td>72425</td>\n",
       "      <td>1</td>\n",
       "      <td>70</td>\n",
       "      <td>0</td>\n",
       "      <td>27.000000</td>\n",
       "    </tr>\n",
       "    <tr>\n",
       "      <th>367138</th>\n",
       "      <td>72426</td>\n",
       "      <td>1</td>\n",
       "      <td>1</td>\n",
       "      <td>0</td>\n",
       "      <td>0.000000</td>\n",
       "    </tr>\n",
       "    <tr>\n",
       "      <th>367139</th>\n",
       "      <td>72427</td>\n",
       "      <td>1</td>\n",
       "      <td>79</td>\n",
       "      <td>0</td>\n",
       "      <td>7.000000</td>\n",
       "    </tr>\n",
       "    <tr>\n",
       "      <th>367143</th>\n",
       "      <td>72428</td>\n",
       "      <td>1</td>\n",
       "      <td>70</td>\n",
       "      <td>0</td>\n",
       "      <td>14.000000</td>\n",
       "    </tr>\n",
       "    <tr>\n",
       "      <th>367148</th>\n",
       "      <td>72429</td>\n",
       "      <td>1</td>\n",
       "      <td>12</td>\n",
       "      <td>0</td>\n",
       "      <td>0.000000</td>\n",
       "    </tr>\n",
       "  </tbody>\n",
       "</table>\n",
       "<p>72399 rows × 5 columns</p>\n",
       "</div>"
      ],
      "text/plain": [
       "        clnt_id  sess_id  time_to_last  time_pss_from_previous_sess  \\\n",
       "0             1        1            20                            0   \n",
       "2             2        1            65                            0   \n",
       "22            3        1            78                            0   \n",
       "23            4        1            36                            0   \n",
       "24            5        1            43                            0   \n",
       "25            6        1            83                            0   \n",
       "27            7        1            88                            0   \n",
       "32            8        1            21                            0   \n",
       "34            9        1            92                            0   \n",
       "67           10        1            88                            0   \n",
       "68           11        1            26                            0   \n",
       "69           12        1            75                            0   \n",
       "70           13        1            54                            0   \n",
       "71           14        1            34                            0   \n",
       "72           15        1            90                            0   \n",
       "76           16        1            80                            0   \n",
       "78           17        1            64                            0   \n",
       "83           18        1            57                            0   \n",
       "84           19        1            52                            0   \n",
       "85           20        1            62                            0   \n",
       "86           21        1            92                            0   \n",
       "90           22        1            73                            0   \n",
       "96           23        1            87                            0   \n",
       "117          24        1            91                            0   \n",
       "136          25        1            80                            0   \n",
       "138          26        1            25                            0   \n",
       "139          27        1            13                            0   \n",
       "140          28        1            46                            0   \n",
       "143          29        1            14                            0   \n",
       "159          30        1            39                            0   \n",
       "...         ...      ...           ...                          ...   \n",
       "367067    72400        1            80                            0   \n",
       "367074    72401        1            65                            0   \n",
       "367083    72402        1            88                            0   \n",
       "367085    72403        1            52                            0   \n",
       "367086    72404        1            78                            0   \n",
       "367089    72405        1             2                            0   \n",
       "367091    72406        1            15                            0   \n",
       "367092    72407        1             2                            0   \n",
       "367093    72408        1            86                            0   \n",
       "367095    72409        1            58                            0   \n",
       "367097    72410        1            67                            0   \n",
       "367101    72411        1            51                            0   \n",
       "367103    72412        1             1                            0   \n",
       "367104    72413        1            50                            0   \n",
       "367105    72414        1            67                            0   \n",
       "367107    72415        1            92                            0   \n",
       "367118    72416        1            62                            0   \n",
       "367119    72417        1            77                            0   \n",
       "367120    72418        1            12                            0   \n",
       "367125    72419        1            29                            0   \n",
       "367127    72420        2            31                            0   \n",
       "367129    72421        1            75                            0   \n",
       "367131    72422        1            63                            0   \n",
       "367132    72423        1            14                            0   \n",
       "367133    72424        1             7                            0   \n",
       "367135    72425        1            70                            0   \n",
       "367138    72426        1             1                            0   \n",
       "367139    72427        1            79                            0   \n",
       "367143    72428        1            70                            0   \n",
       "367148    72429        1            12                            0   \n",
       "\n",
       "        mean_pss_time  \n",
       "0           10.000000  \n",
       "2            1.526316  \n",
       "22           0.000000  \n",
       "23           0.000000  \n",
       "24           0.000000  \n",
       "25          21.000000  \n",
       "27          11.000000  \n",
       "32           6.000000  \n",
       "34           2.375000  \n",
       "67           0.000000  \n",
       "68           0.000000  \n",
       "69           0.000000  \n",
       "70           0.000000  \n",
       "71           0.000000  \n",
       "72          11.333333  \n",
       "76          30.000000  \n",
       "78           4.750000  \n",
       "83           0.000000  \n",
       "84           0.000000  \n",
       "85           0.000000  \n",
       "86          25.000000  \n",
       "90          12.200000  \n",
       "96           3.450000  \n",
       "117          4.666667  \n",
       "136         20.000000  \n",
       "138          0.000000  \n",
       "139          0.000000  \n",
       "140         18.000000  \n",
       "143          0.266667  \n",
       "159          0.000000  \n",
       "...               ...  \n",
       "367067       2.833333  \n",
       "367074       6.625000  \n",
       "367083      41.000000  \n",
       "367085       0.000000  \n",
       "367086       0.000000  \n",
       "367089       0.000000  \n",
       "367091       0.000000  \n",
       "367092       0.000000  \n",
       "367093      71.000000  \n",
       "367095       0.000000  \n",
       "367097       0.000000  \n",
       "367101      44.000000  \n",
       "367103       0.000000  \n",
       "367104       0.000000  \n",
       "367105       0.000000  \n",
       "367107       3.500000  \n",
       "367118       0.000000  \n",
       "367119       0.000000  \n",
       "367120       0.000000  \n",
       "367125       4.000000  \n",
       "367127       0.000000  \n",
       "367129       5.000000  \n",
       "367131       0.000000  \n",
       "367132       0.000000  \n",
       "367133       0.000000  \n",
       "367135      27.000000  \n",
       "367138       0.000000  \n",
       "367139       7.000000  \n",
       "367143      14.000000  \n",
       "367148       0.000000  \n",
       "\n",
       "[72399 rows x 5 columns]"
      ]
     },
     "execution_count": 455,
     "metadata": {},
     "output_type": "execute_result"
    }
   ],
   "source": [
    "timedelta"
   ]
  }
 ],
 "metadata": {
  "kernelspec": {
   "display_name": "Python 3",
   "language": "python",
   "name": "python3"
  },
  "language_info": {
   "codemirror_mode": {
    "name": "ipython",
    "version": 3
   },
   "file_extension": ".py",
   "mimetype": "text/x-python",
   "name": "python",
   "nbconvert_exporter": "python",
   "pygments_lexer": "ipython3",
   "version": "3.7.2"
  },
  "toc": {
   "base_numbering": 1,
   "nav_menu": {},
   "number_sections": true,
   "sideBar": true,
   "skip_h1_title": false,
   "title_cell": "Table of Contents",
   "title_sidebar": "Contents",
   "toc_cell": false,
   "toc_position": {
    "height": "calc(100% - 180px)",
    "left": "10px",
    "top": "150px",
    "width": "165px"
   },
   "toc_section_display": true,
   "toc_window_display": true
  },
  "varInspector": {
   "cols": {
    "lenName": 16,
    "lenType": 16,
    "lenVar": 40
   },
   "kernels_config": {
    "python": {
     "delete_cmd_postfix": "",
     "delete_cmd_prefix": "del ",
     "library": "var_list.py",
     "varRefreshCmd": "print(var_dic_list())"
    },
    "r": {
     "delete_cmd_postfix": ") ",
     "delete_cmd_prefix": "rm(",
     "library": "var_list.r",
     "varRefreshCmd": "cat(var_dic_list()) "
    }
   },
   "types_to_exclude": [
    "module",
    "function",
    "builtin_function_or_method",
    "instance",
    "_Feature"
   ],
   "window_display": false
  }
 },
 "nbformat": 4,
 "nbformat_minor": 2
}
